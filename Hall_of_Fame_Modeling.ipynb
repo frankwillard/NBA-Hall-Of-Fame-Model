{
  "nbformat": 4,
  "nbformat_minor": 0,
  "metadata": {
    "colab": {
      "name": "Hall of Fame Modeling",
      "provenance": [],
      "authorship_tag": "ABX9TyP9hlaz3ezCt+dN1RlQE/jr",
      "include_colab_link": true
    },
    "kernelspec": {
      "name": "python3",
      "display_name": "Python 3"
    },
    "language_info": {
      "name": "python"
    }
  },
  "cells": [
    {
      "cell_type": "markdown",
      "metadata": {
        "id": "view-in-github",
        "colab_type": "text"
      },
      "source": [
        "<a href=\"https://colab.research.google.com/github/frankwillard/NBA-Hall-Of-Fame-Model/blob/main/Hall_of_Fame_Modeling.ipynb\" target=\"_parent\"><img src=\"https://colab.research.google.com/assets/colab-badge.svg\" alt=\"Open In Colab\"/></a>"
      ]
    },
    {
      "cell_type": "code",
      "execution_count": 3,
      "metadata": {
        "id": "1bi7654NEFLt"
      },
      "outputs": [],
      "source": [
        "# Load packages\n",
        "\n",
        "import pandas as pd\n",
        "import numpy as np\n",
        "import seaborn as sns\n",
        "from sklearn.linear_model import LinearRegression, Lasso, LassoCV\n",
        "from sklearn.model_selection import train_test_split, RandomizedSearchCV, GridSearchCV\n",
        "from sklearn.metrics import mean_squared_error, mean_absolute_error, r2_score\n",
        "from sklearn.preprocessing import StandardScaler\n",
        "from sklearn.tree import DecisionTreeRegressor\n",
        "from sklearn.ensemble import RandomForestRegressor"
      ]
    },
    {
      "cell_type": "code",
      "source": [
        "# read in data\n",
        "model_df = pd.read_csv(\"https://raw.githubusercontent.com/frankwillard/NBA-Hall-Of-Fame-Model/main/Scraped%20Player%20Data.csv\", index_col=0)"
      ],
      "metadata": {
        "id": "Qarcm_Y9Eyvi"
      },
      "execution_count": 4,
      "outputs": []
    },
    {
      "cell_type": "code",
      "source": [
        "#Columns with NAs:\n",
        "for col in model_df.columns:\n",
        "  if len(model_df[model_df[col].isna()]) > 0:\n",
        "    print(col, \"-\", len(model_df[model_df[col].isna()]))"
      ],
      "metadata": {
        "colab": {
          "base_uri": "https://localhost:8080/"
        },
        "id": "NYWgFYA0FbYU",
        "outputId": "c55d2b28-b739-4991-d1e8-cad7ee7f40fe"
      },
      "execution_count": 25,
      "outputs": [
        {
          "output_type": "stream",
          "name": "stdout",
          "text": [
            "ORB_per_game - 66\n",
            "DRB_per_game - 66\n",
            "TRB_per_game - 288\n",
            "STL_per_game - 34\n",
            "BLK_per_game - 80\n",
            "GS_totals - 1687\n",
            "FG%_totals - 34\n",
            "3P%_totals - 509\n",
            "2P%_totals - 44\n",
            "eFG%_totals - 28\n",
            "FT%_totals - 241\n",
            "ORB_totals - 66\n",
            "DRB_totals - 66\n",
            "TRB_totals - 288\n",
            "STL_totals - 34\n",
            "BLK_totals - 80\n",
            "PER_advanced - 344\n",
            "TS%_advanced - 29\n",
            "OWS_advanced - 1\n",
            "DWS_advanced - 1\n",
            "WS_advanced - 1\n",
            "WS/48_advanced - 344\n",
            "OBPM_advanced - 2\n",
            "DBPM_advanced - 2\n",
            "BPM_advanced - 2\n"
          ]
        }
      ]
    },
    {
      "cell_type": "code",
      "source": [
        "# Columns with -999s\n",
        "for col in model_df.columns:\n",
        "  if len(model_df[model_df[col] == -999]) > 0:\n",
        "    print(col, \"-\", len(model_df[model_df[col] == -999]))"
      ],
      "metadata": {
        "id": "4GTZzKOLXT0z",
        "colab": {
          "base_uri": "https://localhost:8080/"
        },
        "outputId": "733b223a-4eb4-4d04-85cc-3f7e3f585a6f"
      },
      "execution_count": 10,
      "outputs": [
        {
          "output_type": "stream",
          "name": "stdout",
          "text": [
            "3P_per_game - 1117\n",
            "3PA_per_game - 1117\n",
            "2P_per_game - 1117\n",
            "2PA_per_game - 1117\n",
            "ORB_per_game - 882\n",
            "DRB_per_game - 882\n",
            "STL_per_game - 1145\n",
            "BLK_per_game - 1099\n",
            "GS_totals - 1\n",
            "3P_totals - 1117\n",
            "3PA_totals - 1117\n",
            "3P%_totals - 1117\n",
            "2P_totals - 1117\n",
            "2PA_totals - 1117\n",
            "2P%_totals - 1117\n",
            "eFG%_totals - 1117\n",
            "ORB_totals - 882\n",
            "DRB_totals - 882\n",
            "STL_totals - 1145\n",
            "BLK_totals - 1099\n",
            "Trp_Dbl_totals - 4525\n",
            "OBPM_advanced - 1182\n",
            "DBPM_advanced - 1182\n",
            "BPM_advanced - 1182\n",
            "VORP_advanced - 1182\n"
          ]
        }
      ]
    },
    {
      "cell_type": "code",
      "source": [
        "# WHAT TO DO WITH NAs / -999\n",
        "\n",
        "# Columns to drop:\n",
        "# GS_totals, Trp_Dbl_totals, ORB_per_game, DRB_per_game, ORB_totals, DRB_totals\n",
        "\n",
        "# Columns to consider dropping:\n",
        "# OWS_advanced, DWS_advanced, WS/48_advanced, OBPM_advanced, DBPM_advanced, \n",
        "\n",
        "# Columns to take from FGM, FGA, FG%, etc.\n",
        "# 2P_per_game, 2PA_per_game, 2P_totals, 2PA_totals\n",
        "\n",
        "# Columns to fill with league average\n",
        "# PER_advanced, VORP_advanced\n",
        "\n",
        "# Columns to make 0\n",
        "# WS_advanced, BPM_advanced\n",
        "\n",
        "# Columns to make 0 or fill with mean (undecided):\n",
        "# 3P_per_game, 3PA_per_game, 3P_totals, 3PA_totals\n",
        "# FG%_totals (these players never took a shot)\n",
        "# FT%_totals (these players never took a FT)\n",
        "# TS%_advanced (these players never took a shot or free throw?)\n",
        "\n",
        "# Columns to fill with mean (potentially by position):\n",
        "# TRB_per_game, AST_per_game, STL_per_game, BLK_per_game, TRB_totals, AST_totals, STL_totals, BLK_totals\n",
        "\n",
        "# Columns where NA and -999 mean something different:\n",
        "# 3P%_totals (-999s were before the 3PT line, NAs never attempted a 3)\n",
        "# 2P%_totals (-999s were before the 3PT line, NAs never attempted a 2)\n",
        "# eFG%_totals (-999s were before the 3PT line, NAs never attempted a shot)"
      ],
      "metadata": {
        "id": "gMBSxcsYglXA"
      },
      "execution_count": null,
      "outputs": []
    },
    {
      "cell_type": "code",
      "source": [
        ""
      ],
      "metadata": {
        "id": "Cm0taW4xr2eZ"
      },
      "execution_count": null,
      "outputs": []
    }
  ]
}
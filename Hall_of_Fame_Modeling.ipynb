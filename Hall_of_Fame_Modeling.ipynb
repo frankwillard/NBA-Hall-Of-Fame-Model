{
  "nbformat": 4,
  "nbformat_minor": 0,
  "metadata": {
    "colab": {
      "name": "Hall of Fame Modeling",
      "provenance": [],
      "authorship_tag": "ABX9TyMQARk458k22MXlDslbUhI6",
      "include_colab_link": true
    },
    "kernelspec": {
      "name": "python3",
      "display_name": "Python 3"
    },
    "language_info": {
      "name": "python"
    }
  },
  "cells": [
    {
      "cell_type": "markdown",
      "metadata": {
        "id": "view-in-github",
        "colab_type": "text"
      },
      "source": [
        "<a href=\"https://colab.research.google.com/github/frankwillard/NBA-Hall-Of-Fame-Model/blob/main/Hall_of_Fame_Modeling.ipynb\" target=\"_parent\"><img src=\"https://colab.research.google.com/assets/colab-badge.svg\" alt=\"Open In Colab\"/></a>"
      ]
    },
    {
      "cell_type": "code",
      "execution_count": 6,
      "metadata": {
        "id": "1bi7654NEFLt"
      },
      "outputs": [],
      "source": [
        "# Load packages\n",
        "\n",
        "import pandas as pd\n",
        "import numpy as np\n",
        "import seaborn as sns\n",
        "from sklearn.linear_model import LinearRegression, Lasso, LassoCV\n",
        "from sklearn.model_selection import train_test_split, RandomizedSearchCV, GridSearchCV\n",
        "from sklearn.metrics import mean_squared_error, mean_absolute_error, r2_score\n",
        "from sklearn.preprocessing import StandardScaler\n",
        "from sklearn.tree import DecisionTreeRegressor\n",
        "from sklearn.ensemble import RandomForestRegressor"
      ]
    },
    {
      "cell_type": "code",
      "source": [
        "# read in data\n",
        "model_df = pd.read_csv(\"https://raw.githubusercontent.com/frankwillard/NBA-Hall-Of-Fame-Model/main/Scraped%20Player%20Data.csv\", index_col=0)\n",
        "model_df.info()"
      ],
      "metadata": {
        "id": "Qarcm_Y9Eyvi",
        "outputId": "05969846-e612-4fef-c246-575a33a3ca47",
        "colab": {
          "base_uri": "https://localhost:8080/"
        }
      },
      "execution_count": 8,
      "outputs": [
        {
          "output_type": "stream",
          "name": "stdout",
          "text": [
            "<class 'pandas.core.frame.DataFrame'>\n",
            "Int64Index: 4976 entries, 0 to 4975\n",
            "Data columns (total 66 columns):\n",
            " #   Column          Non-Null Count  Dtype  \n",
            "---  ------          --------------  -----  \n",
            " 0   Player          4976 non-null   object \n",
            " 1   Eligible        4976 non-null   int64  \n",
            " 2   Hall_of_Fame    4976 non-null   int64  \n",
            " 3   MVP             4976 non-null   int64  \n",
            " 4   Finals_MVP      4976 non-null   int64  \n",
            " 5   NBA_Champ       4976 non-null   int64  \n",
            " 6   All_NBA         4976 non-null   int64  \n",
            " 7   All_Defensive   4976 non-null   int64  \n",
            " 8   Def_POY         4976 non-null   int64  \n",
            " 9   All_Star        4976 non-null   int64  \n",
            " 10  Scoring_Champ   4976 non-null   int64  \n",
            " 11  TRB_Champ       4976 non-null   int64  \n",
            " 12  AST_Champ       4976 non-null   int64  \n",
            " 13  STL_Champ       4976 non-null   int64  \n",
            " 14  BLK_Champ       4976 non-null   int64  \n",
            " 15  All_ABA         4976 non-null   int64  \n",
            " 16  ABA_Champ       4976 non-null   int64  \n",
            " 17  ROY             4976 non-null   int64  \n",
            " 18  FG_per_game     4976 non-null   float64\n",
            " 19  FGA_per_game    4976 non-null   float64\n",
            " 20  3P_per_game     4976 non-null   float64\n",
            " 21  3PA_per_game    4976 non-null   float64\n",
            " 22  2P_per_game     4976 non-null   float64\n",
            " 23  2PA_per_game    4976 non-null   float64\n",
            " 24  FT_per_game     4976 non-null   float64\n",
            " 25  FTA_per_game    4976 non-null   float64\n",
            " 26  ORB_per_game    4910 non-null   float64\n",
            " 27  DRB_per_game    4910 non-null   float64\n",
            " 28  TRB_per_game    4688 non-null   float64\n",
            " 29  AST_per_game    4976 non-null   float64\n",
            " 30  STL_per_game    4942 non-null   float64\n",
            " 31  BLK_per_game    4896 non-null   float64\n",
            " 32  PTS_per_game    4976 non-null   float64\n",
            " 33  G_totals        4976 non-null   int64  \n",
            " 34  GS_totals       3289 non-null   float64\n",
            " 35  FG_totals       4976 non-null   int64  \n",
            " 36  FGA_totals      4976 non-null   int64  \n",
            " 37  FG%_totals      4942 non-null   float64\n",
            " 38  3P_totals       4976 non-null   int64  \n",
            " 39  3PA_totals      4976 non-null   int64  \n",
            " 40  3P%_totals      4467 non-null   float64\n",
            " 41  2P_totals       4976 non-null   int64  \n",
            " 42  2PA_totals      4976 non-null   int64  \n",
            " 43  2P%_totals      4932 non-null   float64\n",
            " 44  eFG%_totals     4948 non-null   float64\n",
            " 45  FT_totals       4976 non-null   int64  \n",
            " 46  FTA_totals      4976 non-null   int64  \n",
            " 47  FT%_totals      4735 non-null   float64\n",
            " 48  ORB_totals      4910 non-null   float64\n",
            " 49  DRB_totals      4910 non-null   float64\n",
            " 50  TRB_totals      4688 non-null   float64\n",
            " 51  AST_totals      4976 non-null   int64  \n",
            " 52  STL_totals      4942 non-null   float64\n",
            " 53  BLK_totals      4896 non-null   float64\n",
            " 54  PTS_totals      4976 non-null   int64  \n",
            " 55  Trp_Dbl_totals  4976 non-null   int64  \n",
            " 56  PER_advanced    4632 non-null   float64\n",
            " 57  TS%_advanced    4947 non-null   float64\n",
            " 58  OWS_advanced    4975 non-null   float64\n",
            " 59  DWS_advanced    4975 non-null   float64\n",
            " 60  WS_advanced     4975 non-null   float64\n",
            " 61  WS/48_advanced  4632 non-null   float64\n",
            " 62  OBPM_advanced   4974 non-null   float64\n",
            " 63  DBPM_advanced   4974 non-null   float64\n",
            " 64  BPM_advanced    4974 non-null   float64\n",
            " 65  VORP_advanced   4976 non-null   float64\n",
            "dtypes: float64(36), int64(29), object(1)\n",
            "memory usage: 2.5+ MB\n"
          ]
        }
      ]
    },
    {
      "cell_type": "code",
      "source": [
        "#Columns with NAs:\n",
        "for col in model_df.columns:\n",
        "  if len(model_df[model_df[col].isna()]) > 0:\n",
        "    print(col, \"-\", len(model_df[model_df[col].isna()]))"
      ],
      "metadata": {
        "colab": {
          "base_uri": "https://localhost:8080/"
        },
        "id": "NYWgFYA0FbYU",
        "outputId": "8ae6c38d-2225-4f05-ea86-92ce58f50e01"
      },
      "execution_count": 3,
      "outputs": [
        {
          "output_type": "stream",
          "name": "stdout",
          "text": [
            "ORB_per_game - 66\n",
            "DRB_per_game - 66\n",
            "TRB_per_game - 288\n",
            "STL_per_game - 34\n",
            "BLK_per_game - 80\n",
            "GS_totals - 1687\n",
            "FG%_totals - 34\n",
            "3P%_totals - 509\n",
            "2P%_totals - 44\n",
            "eFG%_totals - 28\n",
            "FT%_totals - 241\n",
            "ORB_totals - 66\n",
            "DRB_totals - 66\n",
            "TRB_totals - 288\n",
            "STL_totals - 34\n",
            "BLK_totals - 80\n",
            "PER_advanced - 344\n",
            "TS%_advanced - 29\n",
            "OWS_advanced - 1\n",
            "DWS_advanced - 1\n",
            "WS_advanced - 1\n",
            "WS/48_advanced - 344\n",
            "OBPM_advanced - 2\n",
            "DBPM_advanced - 2\n",
            "BPM_advanced - 2\n"
          ]
        }
      ]
    },
    {
      "cell_type": "code",
      "source": [
        "# Columns with -999s\n",
        "for col in model_df.columns:\n",
        "  if len(model_df[model_df[col] == -999]) > 0:\n",
        "    print(col, \"-\", len(model_df[model_df[col] == -999]))"
      ],
      "metadata": {
        "id": "4GTZzKOLXT0z",
        "colab": {
          "base_uri": "https://localhost:8080/"
        },
        "outputId": "8d426192-8f3e-4268-dffd-474934e6655f"
      },
      "execution_count": 4,
      "outputs": [
        {
          "output_type": "stream",
          "name": "stdout",
          "text": [
            "3P_per_game - 1117\n",
            "3PA_per_game - 1117\n",
            "2P_per_game - 1117\n",
            "2PA_per_game - 1117\n",
            "ORB_per_game - 882\n",
            "DRB_per_game - 882\n",
            "STL_per_game - 1145\n",
            "BLK_per_game - 1099\n",
            "GS_totals - 1\n",
            "3P_totals - 1117\n",
            "3PA_totals - 1117\n",
            "3P%_totals - 1117\n",
            "2P_totals - 1117\n",
            "2PA_totals - 1117\n",
            "2P%_totals - 1117\n",
            "eFG%_totals - 1117\n",
            "ORB_totals - 882\n",
            "DRB_totals - 882\n",
            "STL_totals - 1145\n",
            "BLK_totals - 1099\n",
            "Trp_Dbl_totals - 4525\n",
            "OBPM_advanced - 1182\n",
            "DBPM_advanced - 1182\n",
            "BPM_advanced - 1182\n",
            "VORP_advanced - 1182\n"
          ]
        }
      ]
    },
    {
      "cell_type": "code",
      "source": [
        "# WHAT TO DO WITH NAs / -999\n",
        "\n",
        "# Columns to drop:\n",
        "# GS_totals, Trp_Dbl_totals, ORB_per_game, DRB_per_game, ORB_totals, DRB_totals\n",
        "\n",
        "# Columns to consider dropping:\n",
        "# OWS_advanced, DWS_advanced, WS/48_advanced, OBPM_advanced, DBPM_advanced, \n",
        "\n",
        "# Columns to take from FGM, FGA, FG%, etc.\n",
        "# 2P_per_game, 2PA_per_game, 2P_totals, 2PA_totals\n",
        "\n",
        "# Columns to fill with league average\n",
        "# PER_advanced, VORP_advanced\n",
        "\n",
        "# Columns to make 0\n",
        "# WS_advanced, BPM_advanced\n",
        "\n",
        "# Columns to make 0 or fill with mean (undecided):***\n",
        "# 3P_per_game, 3PA_per_game, 3P_totals, 3PA_totals\n",
        "# FG%_totals (these players never took a shot)\n",
        "# FT%_totals (these players never took a FT)\n",
        "# TS%_advanced (these players never took a shot or free throw?)\n",
        "\n",
        "# Columns to fill with mean (potentially by position):\n",
        "# TRB_per_game, AST_per_game, STL_per_game, BLK_per_game, TRB_totals, AST_totals, STL_totals, BLK_totals\n",
        "\n",
        "# Columns where NA and -999 mean something different (undecided):***\n",
        "# 3P%_totals (-999s were before the 3PT line, NAs never attempted a 3)\n",
        "# 2P%_totals (-999s were before the 3PT line, NAs never attempted a 2)\n",
        "# eFG%_totals (-999s were before the 3PT line, NAs never attempted a shot)"
      ],
      "metadata": {
        "id": "gMBSxcsYglXA"
      },
      "execution_count": 5,
      "outputs": []
    },
    {
      "cell_type": "code",
      "source": [
        "def fillNulls(model_df):\n",
        "  cols_to_zero = ['WS_advanced', 'BPM_advanced', '3P_per_game', '3PA_per_game', '3P_totals', '3PA_totals', 'FG%_totals', 'FT%_totals', 'TS%_advanced']\n",
        "  model_df[cols_to_zero] = model_df[cols_to_zero].fillna(0) # fill cols with 0\n",
        "  \n",
        "  cols_to_avg = ['PER_advanced', 'VORP_advanced', '3P%_totals', '2P%_totals', 'eFG%_totals']\n",
        "  model_df[cols_to_avg] = model_df[cols_to_avg].fillna(model_df[cols_to_avg].mean()) # fill cols with avg\n",
        "  \n",
        "  cols_to_position_avg = ['TRB_per_game', 'AST_per_game', 'STL_per_game', 'BLK_per_game', 'TRB_totals', 'AST_totals', 'STL_totals', 'BLK_totals']\n",
        "  model_df[cols_to_position_avg] = model_df.groupby(\"POSITION\")[cols_to_position_avg].transform(lambda x: x.fillna(x.mean())) # fills cols with avg by position\n",
        "  \n",
        "  cols_to_fill = ['2P_per_game', '2PA_per_game', '2P_totals', '2PA_totals']\n",
        "  cols_to_fill_with = ['FG_per_game', 'FGA_per_game', 'FG_totals', 'FGA_totals']\n",
        "  model_df[cols_to_fill] = model_df[cols_to_fill].fillna(model_df[cols_to_fill_with]) # fill 2P shooting columns with FG columns\n",
        "\n",
        "  return model_df"
      ],
      "metadata": {
        "id": "Cm0taW4xr2eZ"
      },
      "execution_count": null,
      "outputs": []
    },
    {
      "cell_type": "code",
      "source": [
        "def standardizeCols(model_df, numeric_cols):\n",
        "  scaler = StandardScaler()\n",
        "  model_df[numeric_cols] = scaler.fit_transform(model_df[numeric_cols])\n",
        "  return model_df"
      ],
      "metadata": {
        "id": "xkbMTjeJl08a"
      },
      "execution_count": null,
      "outputs": []
    }
  ]
}
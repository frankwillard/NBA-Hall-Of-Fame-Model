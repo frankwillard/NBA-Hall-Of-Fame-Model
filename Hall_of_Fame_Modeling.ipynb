{
  "nbformat": 4,
  "nbformat_minor": 0,
  "metadata": {
    "colab": {
      "name": "Copy of Hall of Fame Modeling",
      "provenance": [],
      "toc_visible": true,
      "include_colab_link": true
    },
    "kernelspec": {
      "name": "python3",
      "display_name": "Python 3"
    },
    "language_info": {
      "name": "python"
    }
  },
  "cells": [
    {
      "cell_type": "markdown",
      "metadata": {
        "id": "view-in-github",
        "colab_type": "text"
      },
      "source": [
        "<a href=\"https://colab.research.google.com/github/frankwillard/NBA-Hall-Of-Fame-Model/blob/main/Hall_of_Fame_Modeling.ipynb\" target=\"_parent\"><img src=\"https://colab.research.google.com/assets/colab-badge.svg\" alt=\"Open In Colab\"/></a>"
      ]
    },
    {
      "cell_type": "markdown",
      "source": [
        "### Load Packages and Data"
      ],
      "metadata": {
        "id": "cQQCPQdJsZpg"
      }
    },
    {
      "cell_type": "code",
      "execution_count": 1,
      "metadata": {
        "id": "1bi7654NEFLt"
      },
      "outputs": [],
      "source": [
        "from math import exp\n",
        "import pandas as pd\n",
        "import numpy as np\n",
        "import seaborn as sns\n",
        "from sklearn.linear_model import LinearRegression, Lasso, LassoCV\n",
        "from sklearn.model_selection import train_test_split, GridSearchCV, RepeatedStratifiedKFold\n",
        "from sklearn.metrics import confusion_matrix, classification_report, get_scorer, accuracy_score\n",
        "from sklearn.preprocessing import StandardScaler, PolynomialFeatures\n",
        "from sklearn.tree import DecisionTreeClassifier\n",
        "from sklearn.ensemble import RandomForestClassifier, AdaBoostClassifier\n",
        "from sklearn.linear_model import LogisticRegression\n",
        "from xgboost import XGBClassifier\n",
        "from sklearn.neighbors import KNeighborsClassifier\n",
        "from sklearn.naive_bayes import GaussianNB\n",
        "from sklearn.svm import SVC\n",
        "from sklearn.feature_selection import SelectKBest, mutual_info_regression, RFE, SelectFromModel, SequentialFeatureSelector\n",
        "from statsmodels.stats.outliers_influence import variance_inflation_factor"
      ]
    },
    {
      "cell_type": "code",
      "source": [
        "# Read in cleaned player data\n",
        "model_df = pd.read_csv(\"https://raw.githubusercontent.com/frankwillard/NBA-Hall-Of-Fame-Model/main/Scraped%20Player%20Data.csv\", index_col=0)\n",
        "model_df.info()"
      ],
      "metadata": {
        "id": "Qarcm_Y9Eyvi",
        "outputId": "968ff628-8cb4-46c8-b7ae-8af27d579360",
        "colab": {
          "base_uri": "https://localhost:8080/"
        }
      },
      "execution_count": 2,
      "outputs": [
        {
          "output_type": "stream",
          "name": "stdout",
          "text": [
            "<class 'pandas.core.frame.DataFrame'>\n",
            "Int64Index: 4977 entries, 0 to 4976\n",
            "Data columns (total 76 columns):\n",
            " #   Column                     Non-Null Count  Dtype  \n",
            "---  ------                     --------------  -----  \n",
            " 0   Player                     4977 non-null   object \n",
            " 1   Eligible                   4977 non-null   int64  \n",
            " 2   Position                   4977 non-null   object \n",
            " 3   Hall_of_Fame               4977 non-null   int64  \n",
            " 4   MVP                        4977 non-null   int64  \n",
            " 5   Finals_MVP                 4977 non-null   int64  \n",
            " 6   NBA_Champ                  4977 non-null   int64  \n",
            " 7   All_NBA                    4977 non-null   int64  \n",
            " 8   All_Defensive              4977 non-null   int64  \n",
            " 9   Def_POY                    4977 non-null   int64  \n",
            " 10  All_Star                   4977 non-null   int64  \n",
            " 11  Scoring_Champ              4977 non-null   int64  \n",
            " 12  TRB_Champ                  4977 non-null   int64  \n",
            " 13  AST_Champ                  4977 non-null   int64  \n",
            " 14  STL_Champ                  4977 non-null   int64  \n",
            " 15  BLK_Champ                  4977 non-null   int64  \n",
            " 16  All_ABA                    4977 non-null   int64  \n",
            " 17  ABA_Champ                  4977 non-null   int64  \n",
            " 18  ROY                        4977 non-null   int64  \n",
            " 19  MP_per_game                4637 non-null   float64\n",
            " 20  FG_per_game                4977 non-null   float64\n",
            " 21  FGA_per_game               4977 non-null   float64\n",
            " 22  3P_per_game                4977 non-null   float64\n",
            " 23  3PA_per_game               4977 non-null   float64\n",
            " 24  2P_per_game                4977 non-null   float64\n",
            " 25  2PA_per_game               4977 non-null   float64\n",
            " 26  FT_per_game                4977 non-null   float64\n",
            " 27  FTA_per_game               4977 non-null   float64\n",
            " 28  ORB_per_game               4911 non-null   float64\n",
            " 29  DRB_per_game               4911 non-null   float64\n",
            " 30  TRB_per_game               4689 non-null   float64\n",
            " 31  AST_per_game               4977 non-null   float64\n",
            " 32  STL_per_game               4943 non-null   float64\n",
            " 33  BLK_per_game               4897 non-null   float64\n",
            " 34  PTS_per_game               4977 non-null   float64\n",
            " 35  MP_totals                  4637 non-null   float64\n",
            " 36  G_totals                   4977 non-null   int64  \n",
            " 37  GS_totals                  3289 non-null   float64\n",
            " 38  FG_totals                  4977 non-null   int64  \n",
            " 39  FGA_totals                 4977 non-null   int64  \n",
            " 40  FG%_totals                 4943 non-null   float64\n",
            " 41  3P_totals                  4977 non-null   int64  \n",
            " 42  3PA_totals                 4977 non-null   int64  \n",
            " 43  3P%_totals                 4468 non-null   float64\n",
            " 44  2P_totals                  4977 non-null   int64  \n",
            " 45  2PA_totals                 4977 non-null   int64  \n",
            " 46  2P%_totals                 4933 non-null   float64\n",
            " 47  eFG%_totals                4949 non-null   float64\n",
            " 48  FT_totals                  4977 non-null   int64  \n",
            " 49  FTA_totals                 4977 non-null   int64  \n",
            " 50  FT%_totals                 4736 non-null   float64\n",
            " 51  ORB_totals                 4911 non-null   float64\n",
            " 52  DRB_totals                 4911 non-null   float64\n",
            " 53  TRB_totals                 4689 non-null   float64\n",
            " 54  AST_totals                 4977 non-null   int64  \n",
            " 55  STL_totals                 4943 non-null   float64\n",
            " 56  BLK_totals                 4897 non-null   float64\n",
            " 57  PTS_totals                 4977 non-null   int64  \n",
            " 58  Trp_Dbl_totals             4977 non-null   int64  \n",
            " 59  pts_per_g_seasonal         4977 non-null   int64  \n",
            " 60  mvp_shares_seasonal        4977 non-null   int64  \n",
            " 61  trb_per_g_seasonal         4977 non-null   int64  \n",
            " 62  ast_per_g_seasonal         4977 non-null   int64  \n",
            " 63  ws_seasonal                4977 non-null   int64  \n",
            " 64  accum_mvp_shares_seasonal  4977 non-null   float64\n",
            " 65  PER_advanced               4633 non-null   float64\n",
            " 66  TS%_advanced               4948 non-null   float64\n",
            " 67  OWS_advanced               4976 non-null   float64\n",
            " 68  DWS_advanced               4976 non-null   float64\n",
            " 69  WS_advanced                4976 non-null   float64\n",
            " 70  WS/48_advanced             4633 non-null   float64\n",
            " 71  OBPM_advanced              4975 non-null   float64\n",
            " 72  DBPM_advanced              4975 non-null   float64\n",
            " 73  BPM_advanced               4975 non-null   float64\n",
            " 74  VORP_advanced              4977 non-null   float64\n",
            " 75  peak_ws_advanced           4977 non-null   float64\n",
            "dtypes: float64(40), int64(34), object(2)\n",
            "memory usage: 2.9+ MB\n"
          ]
        }
      ]
    },
    {
      "cell_type": "markdown",
      "source": [
        "### Data Cleaning"
      ],
      "metadata": {
        "id": "JXXnf4-wsgDG"
      }
    },
    {
      "cell_type": "code",
      "source": [
        "# Replace all instances of -999 with NA (consider doing this in scraper to eliminate a step)\n",
        "model_df = model_df.replace(-999, np.nan)"
      ],
      "metadata": {
        "id": "EXPna55QZroF"
      },
      "execution_count": 3,
      "outputs": []
    },
    {
      "cell_type": "code",
      "source": [
        "# Reduce number of possible positions to guard, forward, center\n",
        "model_df.loc[model_df['Position'] == 'Center/Forward', 'Position'] = 'Center'\n",
        "model_df.loc[model_df['Position'].isin(['PointGuard', 'ShootingGuard', 'Guard/Forward']), 'Position'] = 'Guard'\n",
        "model_df.loc[model_df['Position'].isin(['SmallForward', 'PowerForward', 'Forward/Guard', 'Forward/Center']), 'Position'] = 'Forward'"
      ],
      "metadata": {
        "id": "_1P5ZiU9Q3k8"
      },
      "execution_count": 4,
      "outputs": []
    },
    {
      "cell_type": "code",
      "source": [
        "# Combine individual ABA and NBA accolades\n",
        "model_df['All_League'] = model_df['All_NBA'] + model_df['All_ABA']\n",
        "model_df['Champ'] = model_df['NBA_Champ'] + model_df['ABA_Champ']"
      ],
      "metadata": {
        "id": "EZjKTPNCbZBt"
      },
      "execution_count": 5,
      "outputs": []
    },
    {
      "cell_type": "markdown",
      "source": [
        "#### Dealing with NA values"
      ],
      "metadata": {
        "id": "TwauMlKnASU-"
      }
    },
    {
      "cell_type": "code",
      "source": [
        "# Count number of NAs by column:\n",
        "for col in model_df.columns:\n",
        "  na_df = model_df[model_df[col].isna()]\n",
        "  if len(na_df) > 0:\n",
        "    try:\n",
        "      na_rows = na_df['Hall_of_Fame'].value_counts()[1]\n",
        "    except KeyError:\n",
        "      na_rows = 0\n",
        "    print(f\"{col}:\\t{len(model_df[model_df[col].isna()])} nulls \\t{na_rows}/{hofers} HOFers are null\")"
      ],
      "metadata": {
        "colab": {
          "base_uri": "https://localhost:8080/"
        },
        "id": "NYWgFYA0FbYU",
        "outputId": "2522afd3-cbe6-4bd9-988d-905e6a356a21"
      },
      "execution_count": 10,
      "outputs": [
        {
          "output_type": "stream",
          "name": "stdout",
          "text": [
            "MP_per_game:\t340 nulls \t1/140 HOFers are null\n",
            "3P_per_game:\t1118 nulls \t53/140 HOFers are null\n",
            "3PA_per_game:\t1118 nulls \t53/140 HOFers are null\n",
            "2P_per_game:\t1118 nulls \t53/140 HOFers are null\n",
            "2PA_per_game:\t1118 nulls \t53/140 HOFers are null\n",
            "ORB_per_game:\t949 nulls \t39/140 HOFers are null\n",
            "DRB_per_game:\t949 nulls \t39/140 HOFers are null\n",
            "TRB_per_game:\t288 nulls \t1/140 HOFers are null\n",
            "STL_per_game:\t1180 nulls \t41/140 HOFers are null\n",
            "BLK_per_game:\t1180 nulls \t41/140 HOFers are null\n",
            "MP_totals:\t340 nulls \t1/140 HOFers are null\n",
            "GS_totals:\t1689 nulls \t66/140 HOFers are null\n",
            "FG%_totals:\t34 nulls \t0/140 HOFers are null\n",
            "3P_totals:\t1118 nulls \t53/140 HOFers are null\n",
            "3PA_totals:\t1118 nulls \t53/140 HOFers are null\n",
            "3P%_totals:\t1627 nulls \t54/140 HOFers are null\n",
            "2P_totals:\t1118 nulls \t53/140 HOFers are null\n",
            "2PA_totals:\t1118 nulls \t53/140 HOFers are null\n",
            "2P%_totals:\t1162 nulls \t53/140 HOFers are null\n",
            "eFG%_totals:\t1146 nulls \t53/140 HOFers are null\n",
            "FT%_totals:\t241 nulls \t0/140 HOFers are null\n",
            "ORB_totals:\t949 nulls \t39/140 HOFers are null\n",
            "DRB_totals:\t949 nulls \t39/140 HOFers are null\n",
            "TRB_totals:\t288 nulls \t1/140 HOFers are null\n",
            "STL_totals:\t1180 nulls \t41/140 HOFers are null\n",
            "BLK_totals:\t1180 nulls \t41/140 HOFers are null\n",
            "Trp_Dbl_totals:\t4526 nulls \t53/140 HOFers are null\n",
            "PER_advanced:\t344 nulls \t1/140 HOFers are null\n",
            "TS%_advanced:\t29 nulls \t0/140 HOFers are null\n",
            "OWS_advanced:\t1 nulls \t0/140 HOFers are null\n",
            "DWS_advanced:\t1 nulls \t0/140 HOFers are null\n",
            "WS_advanced:\t1 nulls \t0/140 HOFers are null\n",
            "WS/48_advanced:\t344 nulls \t1/140 HOFers are null\n",
            "OBPM_advanced:\t1185 nulls \t41/140 HOFers are null\n",
            "DBPM_advanced:\t1185 nulls \t41/140 HOFers are null\n",
            "BPM_advanced:\t1185 nulls \t41/140 HOFers are null\n",
            "VORP_advanced:\t1183 nulls \t41/140 HOFers are null\n"
          ]
        }
      ]
    },
    {
      "cell_type": "code",
      "source": [
        "# Columns with -999s\n",
        "for col in model_df.columns:\n",
        "  if len(model_df[model_df[col] == -999]) > 0:\n",
        "    print(col, \"-\", len(model_df[model_df[col] == -999]))"
      ],
      "metadata": {
        "id": "4GTZzKOLXT0z"
      },
      "execution_count": 11,
      "outputs": []
    },
    {
      "cell_type": "markdown",
      "source": [
        "Columns to drop:\n",
        "`GS_totals`, `Trp_Dbl_totals`, `ORB_per_game`, `DRB_per_game`, `ORB_totals`, `DRB_totals`, `3P%_totals`, `2P%_totals`, `eFG%_totals`, `OWS_advanced`, `DWS_advanced`, `WS/48_advanced`, `OBPM_advanced`, `DBPM_advanced`\n",
        "<br/>\n",
        "<br/>\n",
        "\n",
        "Columns to consider dropping: `3P_per_game`, `3PA_per_game`, `3P_totals`, `3PA_totals`, `FG%_totals` (these players never took a shot), `FT%_totals` (these players never took a FT)\n",
        "<br/>\n",
        "<br/>\n",
        "\n",
        "Columns to impute from FGM, FGA, etc.:\n",
        "`2P_per_game`, `2PA_per_game`, `2P_totals`, `2PA_totals`\n",
        "<br/>\n",
        "<br/>\n",
        "\n",
        "Columns to fill with league average:\n",
        "`PER_advanced`, `VORP_advanced` (consider some more advanced PER/VORP)\n",
        "<br/>\n",
        "<br/>\n",
        "\n",
        "Columns to make 0:\n",
        "`WS_advanced`, `BPM_advanced` (consider some more advanced imputation for BPM)\n",
        "<br/>\n",
        "<br/>\n",
        "\n",
        "Columns to make 0 or fill with mean (undecided):,\n",
        "        \"`TS%_advanced` (these players never took a shot or free throw)\n",
        "<br/>\n",
        "<br/>\n",
        "\n",
        "Columns to fill with mean by position:,\n",
        "`PTS_per_game`, `TRB_per_game`, `AST_per_game`, `STL_per_game`, `BLK_per_game`, `TRB_totals`, `AST_totals`, `STL_totals`, `BLK_totals`"
      ],
      "metadata": {
        "id": "kczgVj-8LfLI"
      }
    },
    {
      "cell_type": "code",
      "source": [
        "# Fill NAs accordingly\n",
        "def fillNulls(model_df):\n",
        "  cols_to_zero = ['WS_advanced', 'OWS_advanced', 'DWS_advanced', 'BPM_advanced',\n",
        "                  '3P_per_game', '3PA_per_game', '3P_totals', '3PA_totals', 'FG%_totals', 'FT%_totals', 'TS%_advanced']\n",
        "  model_df[cols_to_zero] = model_df[cols_to_zero].fillna(0) # fill cols with 0\n",
        "  \n",
        "  cols_to_avg = ['PER_advanced', 'VORP_advanced', '3P%_totals', '2P%_totals', 'eFG%_totals']\n",
        "  model_df[cols_to_avg] = model_df[cols_to_avg].fillna(model_df[cols_to_avg].mean()) # fill cols with avg\n",
        "  \n",
        "  cols_to_position_avg = ['TRB_per_game', 'AST_per_game', 'STL_per_game', 'BLK_per_game']\n",
        "  model_df[cols_to_position_avg] = model_df.groupby(\"Position\")[cols_to_position_avg].transform(lambda x: x.fillna(x.mean())) # fills cols with avg by position\n",
        "\n",
        "  cols_to_scale_avg = ['TRB_totals', 'AST_totals', 'STL_totals', 'BLK_totals']\n",
        "  for col_total, col_avg in zip(cols_to_scale_avg, cols_to_position_avg):\n",
        "    model_df[col_total] = model_df[col_total].fillna(model_df[col_avg] * model_df['G_totals'])\n",
        "  \n",
        "  cols_to_fill = ['2P_per_game', '2PA_per_game', '2P_totals', '2PA_totals']\n",
        "  cols_to_fill_with = ['FG_per_game', 'FGA_per_game', 'FG_totals', 'FGA_totals']\n",
        "  model_df[cols_to_fill] = model_df[cols_to_fill].fillna(model_df[cols_to_fill_with]) # fill 2P shooting columns with FG columns\n",
        "\n",
        "  return model_df\n",
        "fillNulls(model_df)"
      ],
      "metadata": {
        "id": "Cm0taW4xr2eZ",
        "colab": {
          "base_uri": "https://localhost:8080/",
          "height": 678
        },
        "outputId": "88f4808b-37b9-4463-b4c0-44499bf44f0b"
      },
      "execution_count": 12,
      "outputs": [
        {
          "output_type": "execute_result",
          "data": {
            "text/plain": [
              "                   Player  Eligible Position  Hall_of_Fame  MVP  Finals_MVP  \\\n",
              "0          Alaa Abdelnaby         1  Forward             0    0           0   \n",
              "1         Zaid Abdul-Aziz         1   Center             0    0           0   \n",
              "2     Kareem Abdul-Jabbar         1   Center             1    6           2   \n",
              "3      Mahmoud Abdul-Rauf         1    Guard             0    0           0   \n",
              "4       Tariq Abdul-Wahad         1    Guard             0    0           0   \n",
              "...                   ...       ...      ...           ...  ...         ...   \n",
              "4972             Jim Zoet         1   Center             0    0           0   \n",
              "4973            Bill Zopf         1    Guard             0    0           0   \n",
              "4974          Ivica Zubac         0   Center             0    0           0   \n",
              "4975           Matt Zunic         1    Guard             0    0           0   \n",
              "4976           Ed Fleming         1    Guard             0    0           0   \n",
              "\n",
              "      NBA_Champ  All_NBA  All_Defensive  Def_POY  ...  DWS_advanced  \\\n",
              "0             0        0              0        0  ...           4.1   \n",
              "1             0        0              0        0  ...          11.6   \n",
              "2             6       15             11        0  ...          94.5   \n",
              "3             0        0              0        0  ...           8.4   \n",
              "4             0        0              0        0  ...           4.1   \n",
              "...         ...      ...            ...      ...  ...           ...   \n",
              "4972          0        0              0        0  ...           0.0   \n",
              "4973          0        0              0        0  ...           0.4   \n",
              "4974          0        0              0        0  ...           9.6   \n",
              "4975          0        0              0        0  ...           1.8   \n",
              "4976          0        0              0        0  ...           6.5   \n",
              "\n",
              "      WS_advanced  WS/48_advanced  OBPM_advanced  DBPM_advanced  BPM_advanced  \\\n",
              "0             4.8           0.072           -2.9           -0.9          -3.8   \n",
              "1            17.5           0.076            0.6           -0.2           0.4   \n",
              "2           273.4           0.228            4.1            1.6           5.7   \n",
              "3            25.2           0.077            0.7           -1.5          -0.8   \n",
              "4             3.5           0.035           -2.6           -0.4          -3.0   \n",
              "...           ...             ...            ...            ...           ...   \n",
              "4972         -0.1          -0.123           -5.6            0.2          -5.4   \n",
              "4973         -0.1          -0.011            NaN            NaN           0.0   \n",
              "4974         26.1           0.183            0.3            0.4           0.6   \n",
              "4975          2.0             NaN            NaN            NaN           0.0   \n",
              "4976          9.8           0.076            NaN            NaN           0.0   \n",
              "\n",
              "      VORP_advanced  peak_ws_advanced  All_League  Champ  \n",
              "0         -1.500000               2.1           0      0  \n",
              "1          2.700000               6.5           0      0  \n",
              "2         85.700000              25.4          15      6  \n",
              "3          4.500000               6.8           0      0  \n",
              "4         -1.200000               2.2           0      0  \n",
              "...             ...               ...         ...    ...  \n",
              "4972      -0.100000              -0.1           0      0  \n",
              "4973       3.434634              -0.1           0      0  \n",
              "4974       4.500000               7.2           0      0  \n",
              "4975       3.434634               2.0           0      0  \n",
              "4976       3.434634               5.0           0      0  \n",
              "\n",
              "[4977 rows x 78 columns]"
            ],
            "text/html": [
              "\n",
              "  <div id=\"df-7fd41bee-6381-4f34-8682-9dced28877f4\">\n",
              "    <div class=\"colab-df-container\">\n",
              "      <div>\n",
              "<style scoped>\n",
              "    .dataframe tbody tr th:only-of-type {\n",
              "        vertical-align: middle;\n",
              "    }\n",
              "\n",
              "    .dataframe tbody tr th {\n",
              "        vertical-align: top;\n",
              "    }\n",
              "\n",
              "    .dataframe thead th {\n",
              "        text-align: right;\n",
              "    }\n",
              "</style>\n",
              "<table border=\"1\" class=\"dataframe\">\n",
              "  <thead>\n",
              "    <tr style=\"text-align: right;\">\n",
              "      <th></th>\n",
              "      <th>Player</th>\n",
              "      <th>Eligible</th>\n",
              "      <th>Position</th>\n",
              "      <th>Hall_of_Fame</th>\n",
              "      <th>MVP</th>\n",
              "      <th>Finals_MVP</th>\n",
              "      <th>NBA_Champ</th>\n",
              "      <th>All_NBA</th>\n",
              "      <th>All_Defensive</th>\n",
              "      <th>Def_POY</th>\n",
              "      <th>...</th>\n",
              "      <th>DWS_advanced</th>\n",
              "      <th>WS_advanced</th>\n",
              "      <th>WS/48_advanced</th>\n",
              "      <th>OBPM_advanced</th>\n",
              "      <th>DBPM_advanced</th>\n",
              "      <th>BPM_advanced</th>\n",
              "      <th>VORP_advanced</th>\n",
              "      <th>peak_ws_advanced</th>\n",
              "      <th>All_League</th>\n",
              "      <th>Champ</th>\n",
              "    </tr>\n",
              "  </thead>\n",
              "  <tbody>\n",
              "    <tr>\n",
              "      <th>0</th>\n",
              "      <td>Alaa Abdelnaby</td>\n",
              "      <td>1</td>\n",
              "      <td>Forward</td>\n",
              "      <td>0</td>\n",
              "      <td>0</td>\n",
              "      <td>0</td>\n",
              "      <td>0</td>\n",
              "      <td>0</td>\n",
              "      <td>0</td>\n",
              "      <td>0</td>\n",
              "      <td>...</td>\n",
              "      <td>4.1</td>\n",
              "      <td>4.8</td>\n",
              "      <td>0.072</td>\n",
              "      <td>-2.9</td>\n",
              "      <td>-0.9</td>\n",
              "      <td>-3.8</td>\n",
              "      <td>-1.500000</td>\n",
              "      <td>2.1</td>\n",
              "      <td>0</td>\n",
              "      <td>0</td>\n",
              "    </tr>\n",
              "    <tr>\n",
              "      <th>1</th>\n",
              "      <td>Zaid Abdul-Aziz</td>\n",
              "      <td>1</td>\n",
              "      <td>Center</td>\n",
              "      <td>0</td>\n",
              "      <td>0</td>\n",
              "      <td>0</td>\n",
              "      <td>0</td>\n",
              "      <td>0</td>\n",
              "      <td>0</td>\n",
              "      <td>0</td>\n",
              "      <td>...</td>\n",
              "      <td>11.6</td>\n",
              "      <td>17.5</td>\n",
              "      <td>0.076</td>\n",
              "      <td>0.6</td>\n",
              "      <td>-0.2</td>\n",
              "      <td>0.4</td>\n",
              "      <td>2.700000</td>\n",
              "      <td>6.5</td>\n",
              "      <td>0</td>\n",
              "      <td>0</td>\n",
              "    </tr>\n",
              "    <tr>\n",
              "      <th>2</th>\n",
              "      <td>Kareem Abdul-Jabbar</td>\n",
              "      <td>1</td>\n",
              "      <td>Center</td>\n",
              "      <td>1</td>\n",
              "      <td>6</td>\n",
              "      <td>2</td>\n",
              "      <td>6</td>\n",
              "      <td>15</td>\n",
              "      <td>11</td>\n",
              "      <td>0</td>\n",
              "      <td>...</td>\n",
              "      <td>94.5</td>\n",
              "      <td>273.4</td>\n",
              "      <td>0.228</td>\n",
              "      <td>4.1</td>\n",
              "      <td>1.6</td>\n",
              "      <td>5.7</td>\n",
              "      <td>85.700000</td>\n",
              "      <td>25.4</td>\n",
              "      <td>15</td>\n",
              "      <td>6</td>\n",
              "    </tr>\n",
              "    <tr>\n",
              "      <th>3</th>\n",
              "      <td>Mahmoud Abdul-Rauf</td>\n",
              "      <td>1</td>\n",
              "      <td>Guard</td>\n",
              "      <td>0</td>\n",
              "      <td>0</td>\n",
              "      <td>0</td>\n",
              "      <td>0</td>\n",
              "      <td>0</td>\n",
              "      <td>0</td>\n",
              "      <td>0</td>\n",
              "      <td>...</td>\n",
              "      <td>8.4</td>\n",
              "      <td>25.2</td>\n",
              "      <td>0.077</td>\n",
              "      <td>0.7</td>\n",
              "      <td>-1.5</td>\n",
              "      <td>-0.8</td>\n",
              "      <td>4.500000</td>\n",
              "      <td>6.8</td>\n",
              "      <td>0</td>\n",
              "      <td>0</td>\n",
              "    </tr>\n",
              "    <tr>\n",
              "      <th>4</th>\n",
              "      <td>Tariq Abdul-Wahad</td>\n",
              "      <td>1</td>\n",
              "      <td>Guard</td>\n",
              "      <td>0</td>\n",
              "      <td>0</td>\n",
              "      <td>0</td>\n",
              "      <td>0</td>\n",
              "      <td>0</td>\n",
              "      <td>0</td>\n",
              "      <td>0</td>\n",
              "      <td>...</td>\n",
              "      <td>4.1</td>\n",
              "      <td>3.5</td>\n",
              "      <td>0.035</td>\n",
              "      <td>-2.6</td>\n",
              "      <td>-0.4</td>\n",
              "      <td>-3.0</td>\n",
              "      <td>-1.200000</td>\n",
              "      <td>2.2</td>\n",
              "      <td>0</td>\n",
              "      <td>0</td>\n",
              "    </tr>\n",
              "    <tr>\n",
              "      <th>...</th>\n",
              "      <td>...</td>\n",
              "      <td>...</td>\n",
              "      <td>...</td>\n",
              "      <td>...</td>\n",
              "      <td>...</td>\n",
              "      <td>...</td>\n",
              "      <td>...</td>\n",
              "      <td>...</td>\n",
              "      <td>...</td>\n",
              "      <td>...</td>\n",
              "      <td>...</td>\n",
              "      <td>...</td>\n",
              "      <td>...</td>\n",
              "      <td>...</td>\n",
              "      <td>...</td>\n",
              "      <td>...</td>\n",
              "      <td>...</td>\n",
              "      <td>...</td>\n",
              "      <td>...</td>\n",
              "      <td>...</td>\n",
              "      <td>...</td>\n",
              "    </tr>\n",
              "    <tr>\n",
              "      <th>4972</th>\n",
              "      <td>Jim Zoet</td>\n",
              "      <td>1</td>\n",
              "      <td>Center</td>\n",
              "      <td>0</td>\n",
              "      <td>0</td>\n",
              "      <td>0</td>\n",
              "      <td>0</td>\n",
              "      <td>0</td>\n",
              "      <td>0</td>\n",
              "      <td>0</td>\n",
              "      <td>...</td>\n",
              "      <td>0.0</td>\n",
              "      <td>-0.1</td>\n",
              "      <td>-0.123</td>\n",
              "      <td>-5.6</td>\n",
              "      <td>0.2</td>\n",
              "      <td>-5.4</td>\n",
              "      <td>-0.100000</td>\n",
              "      <td>-0.1</td>\n",
              "      <td>0</td>\n",
              "      <td>0</td>\n",
              "    </tr>\n",
              "    <tr>\n",
              "      <th>4973</th>\n",
              "      <td>Bill Zopf</td>\n",
              "      <td>1</td>\n",
              "      <td>Guard</td>\n",
              "      <td>0</td>\n",
              "      <td>0</td>\n",
              "      <td>0</td>\n",
              "      <td>0</td>\n",
              "      <td>0</td>\n",
              "      <td>0</td>\n",
              "      <td>0</td>\n",
              "      <td>...</td>\n",
              "      <td>0.4</td>\n",
              "      <td>-0.1</td>\n",
              "      <td>-0.011</td>\n",
              "      <td>NaN</td>\n",
              "      <td>NaN</td>\n",
              "      <td>0.0</td>\n",
              "      <td>3.434634</td>\n",
              "      <td>-0.1</td>\n",
              "      <td>0</td>\n",
              "      <td>0</td>\n",
              "    </tr>\n",
              "    <tr>\n",
              "      <th>4974</th>\n",
              "      <td>Ivica Zubac</td>\n",
              "      <td>0</td>\n",
              "      <td>Center</td>\n",
              "      <td>0</td>\n",
              "      <td>0</td>\n",
              "      <td>0</td>\n",
              "      <td>0</td>\n",
              "      <td>0</td>\n",
              "      <td>0</td>\n",
              "      <td>0</td>\n",
              "      <td>...</td>\n",
              "      <td>9.6</td>\n",
              "      <td>26.1</td>\n",
              "      <td>0.183</td>\n",
              "      <td>0.3</td>\n",
              "      <td>0.4</td>\n",
              "      <td>0.6</td>\n",
              "      <td>4.500000</td>\n",
              "      <td>7.2</td>\n",
              "      <td>0</td>\n",
              "      <td>0</td>\n",
              "    </tr>\n",
              "    <tr>\n",
              "      <th>4975</th>\n",
              "      <td>Matt Zunic</td>\n",
              "      <td>1</td>\n",
              "      <td>Guard</td>\n",
              "      <td>0</td>\n",
              "      <td>0</td>\n",
              "      <td>0</td>\n",
              "      <td>0</td>\n",
              "      <td>0</td>\n",
              "      <td>0</td>\n",
              "      <td>0</td>\n",
              "      <td>...</td>\n",
              "      <td>1.8</td>\n",
              "      <td>2.0</td>\n",
              "      <td>NaN</td>\n",
              "      <td>NaN</td>\n",
              "      <td>NaN</td>\n",
              "      <td>0.0</td>\n",
              "      <td>3.434634</td>\n",
              "      <td>2.0</td>\n",
              "      <td>0</td>\n",
              "      <td>0</td>\n",
              "    </tr>\n",
              "    <tr>\n",
              "      <th>4976</th>\n",
              "      <td>Ed Fleming</td>\n",
              "      <td>1</td>\n",
              "      <td>Guard</td>\n",
              "      <td>0</td>\n",
              "      <td>0</td>\n",
              "      <td>0</td>\n",
              "      <td>0</td>\n",
              "      <td>0</td>\n",
              "      <td>0</td>\n",
              "      <td>0</td>\n",
              "      <td>...</td>\n",
              "      <td>6.5</td>\n",
              "      <td>9.8</td>\n",
              "      <td>0.076</td>\n",
              "      <td>NaN</td>\n",
              "      <td>NaN</td>\n",
              "      <td>0.0</td>\n",
              "      <td>3.434634</td>\n",
              "      <td>5.0</td>\n",
              "      <td>0</td>\n",
              "      <td>0</td>\n",
              "    </tr>\n",
              "  </tbody>\n",
              "</table>\n",
              "<p>4977 rows × 78 columns</p>\n",
              "</div>\n",
              "      <button class=\"colab-df-convert\" onclick=\"convertToInteractive('df-7fd41bee-6381-4f34-8682-9dced28877f4')\"\n",
              "              title=\"Convert this dataframe to an interactive table.\"\n",
              "              style=\"display:none;\">\n",
              "        \n",
              "  <svg xmlns=\"http://www.w3.org/2000/svg\" height=\"24px\"viewBox=\"0 0 24 24\"\n",
              "       width=\"24px\">\n",
              "    <path d=\"M0 0h24v24H0V0z\" fill=\"none\"/>\n",
              "    <path d=\"M18.56 5.44l.94 2.06.94-2.06 2.06-.94-2.06-.94-.94-2.06-.94 2.06-2.06.94zm-11 1L8.5 8.5l.94-2.06 2.06-.94-2.06-.94L8.5 2.5l-.94 2.06-2.06.94zm10 10l.94 2.06.94-2.06 2.06-.94-2.06-.94-.94-2.06-.94 2.06-2.06.94z\"/><path d=\"M17.41 7.96l-1.37-1.37c-.4-.4-.92-.59-1.43-.59-.52 0-1.04.2-1.43.59L10.3 9.45l-7.72 7.72c-.78.78-.78 2.05 0 2.83L4 21.41c.39.39.9.59 1.41.59.51 0 1.02-.2 1.41-.59l7.78-7.78 2.81-2.81c.8-.78.8-2.07 0-2.86zM5.41 20L4 18.59l7.72-7.72 1.47 1.35L5.41 20z\"/>\n",
              "  </svg>\n",
              "      </button>\n",
              "      \n",
              "  <style>\n",
              "    .colab-df-container {\n",
              "      display:flex;\n",
              "      flex-wrap:wrap;\n",
              "      gap: 12px;\n",
              "    }\n",
              "\n",
              "    .colab-df-convert {\n",
              "      background-color: #E8F0FE;\n",
              "      border: none;\n",
              "      border-radius: 50%;\n",
              "      cursor: pointer;\n",
              "      display: none;\n",
              "      fill: #1967D2;\n",
              "      height: 32px;\n",
              "      padding: 0 0 0 0;\n",
              "      width: 32px;\n",
              "    }\n",
              "\n",
              "    .colab-df-convert:hover {\n",
              "      background-color: #E2EBFA;\n",
              "      box-shadow: 0px 1px 2px rgba(60, 64, 67, 0.3), 0px 1px 3px 1px rgba(60, 64, 67, 0.15);\n",
              "      fill: #174EA6;\n",
              "    }\n",
              "\n",
              "    [theme=dark] .colab-df-convert {\n",
              "      background-color: #3B4455;\n",
              "      fill: #D2E3FC;\n",
              "    }\n",
              "\n",
              "    [theme=dark] .colab-df-convert:hover {\n",
              "      background-color: #434B5C;\n",
              "      box-shadow: 0px 1px 3px 1px rgba(0, 0, 0, 0.15);\n",
              "      filter: drop-shadow(0px 1px 2px rgba(0, 0, 0, 0.3));\n",
              "      fill: #FFFFFF;\n",
              "    }\n",
              "  </style>\n",
              "\n",
              "      <script>\n",
              "        const buttonEl =\n",
              "          document.querySelector('#df-7fd41bee-6381-4f34-8682-9dced28877f4 button.colab-df-convert');\n",
              "        buttonEl.style.display =\n",
              "          google.colab.kernel.accessAllowed ? 'block' : 'none';\n",
              "\n",
              "        async function convertToInteractive(key) {\n",
              "          const element = document.querySelector('#df-7fd41bee-6381-4f34-8682-9dced28877f4');\n",
              "          const dataTable =\n",
              "            await google.colab.kernel.invokeFunction('convertToInteractive',\n",
              "                                                     [key], {});\n",
              "          if (!dataTable) return;\n",
              "\n",
              "          const docLinkHtml = 'Like what you see? Visit the ' +\n",
              "            '<a target=\"_blank\" href=https://colab.research.google.com/notebooks/data_table.ipynb>data table notebook</a>'\n",
              "            + ' to learn more about interactive tables.';\n",
              "          element.innerHTML = '';\n",
              "          dataTable['output_type'] = 'display_data';\n",
              "          await google.colab.output.renderOutput(dataTable, element);\n",
              "          const docLink = document.createElement('div');\n",
              "          docLink.innerHTML = docLinkHtml;\n",
              "          element.appendChild(docLink);\n",
              "        }\n",
              "      </script>\n",
              "    </div>\n",
              "  </div>\n",
              "  "
            ]
          },
          "metadata": {},
          "execution_count": 12
        }
      ]
    },
    {
      "cell_type": "markdown",
      "source": [
        "#### Excluding Columns"
      ],
      "metadata": {
        "id": "-juclm_GApdH"
      }
    },
    {
      "cell_type": "markdown",
      "source": [
        "\n",
        "*   NBA and ABA were combined for All League, Championship\n",
        "*   Games played not a stat\n",
        "*   Name, eligibility, position not relevant\n",
        "*   Attempts does not mean anything- can just pass in makes and percentage\n",
        "*   FT, FG encoded in points"
      ],
      "metadata": {
        "id": "W-Ev5XAjAk9o"
      }
    },
    {
      "cell_type": "code",
      "source": [
        "# Exclude these columns\n",
        "exclude_cols = ['Player', 'Eligible', 'Position', 'NBA_Champ', 'All_NBA', 'All_ABA', 'ABA_Champ', 'G_totals', \n",
        "                '3PA_totals', 'FTA_totals', 'FGA_totals', \n",
        "                'FTA_per_game', 'FGA_per_game', '3PA_per_game',\n",
        "                'FT_per_game', 'FT_totals', 'FG_per_game', 'FG_totals']\n",
        "\n",
        "# Count and drop columns with remaining null values\n",
        "for col in model_df.columns:\n",
        "  na_df = model_df[model_df[col].isna()]\n",
        "  if len(na_df) > 0:\n",
        "    try:\n",
        "      na_rows = na_df['Hall_of_Fame'].value_counts()[1]\n",
        "    except KeyError:\n",
        "      na_rows = 0\n",
        "    print(f\"{col}:\\t{len(model_df[model_df[col].isna()])} nulls \\t{na_rows}/{hofers} HOFers are null\")\n",
        "    exclude_cols.append(col)"
      ],
      "metadata": {
        "colab": {
          "base_uri": "https://localhost:8080/"
        },
        "id": "110g9zHzeC4-",
        "outputId": "ca2bb462-577f-402a-ae03-8cae0b9c77b8"
      },
      "execution_count": 13,
      "outputs": [
        {
          "output_type": "stream",
          "name": "stdout",
          "text": [
            "MP_per_game:\t340 nulls \t1/140 HOFers are null\n",
            "2P_per_game:\t1118 nulls \t53/140 HOFers are null\n",
            "2PA_per_game:\t1118 nulls \t53/140 HOFers are null\n",
            "ORB_per_game:\t949 nulls \t39/140 HOFers are null\n",
            "DRB_per_game:\t949 nulls \t39/140 HOFers are null\n",
            "MP_totals:\t340 nulls \t1/140 HOFers are null\n",
            "GS_totals:\t1689 nulls \t66/140 HOFers are null\n",
            "2P_totals:\t1118 nulls \t53/140 HOFers are null\n",
            "2PA_totals:\t1118 nulls \t53/140 HOFers are null\n",
            "ORB_totals:\t949 nulls \t39/140 HOFers are null\n",
            "DRB_totals:\t949 nulls \t39/140 HOFers are null\n",
            "Trp_Dbl_totals:\t4526 nulls \t53/140 HOFers are null\n",
            "WS/48_advanced:\t344 nulls \t1/140 HOFers are null\n",
            "OBPM_advanced:\t1185 nulls \t41/140 HOFers are null\n",
            "DBPM_advanced:\t1185 nulls \t41/140 HOFers are null\n"
          ]
        }
      ]
    },
    {
      "cell_type": "code",
      "source": [
        "exclude_cols"
      ],
      "metadata": {
        "colab": {
          "base_uri": "https://localhost:8080/"
        },
        "id": "_e-LNlgDKBp-",
        "outputId": "54753843-43b6-426a-c380-b37cd81af5f9"
      },
      "execution_count": 14,
      "outputs": [
        {
          "output_type": "execute_result",
          "data": {
            "text/plain": [
              "['Player',\n",
              " 'Eligible',\n",
              " 'Position',\n",
              " 'NBA_Champ',\n",
              " 'All_NBA',\n",
              " 'All_ABA',\n",
              " 'ABA_Champ',\n",
              " 'G_totals',\n",
              " '3PA_totals',\n",
              " 'FTA_totals',\n",
              " 'FGA_totals',\n",
              " 'FTA_per_game',\n",
              " 'FGA_per_game',\n",
              " '3PA_per_game',\n",
              " 'FT_per_game',\n",
              " 'FT_totals',\n",
              " 'FG_per_game',\n",
              " 'FG_totals',\n",
              " 'MP_per_game',\n",
              " '2P_per_game',\n",
              " '2PA_per_game',\n",
              " 'ORB_per_game',\n",
              " 'DRB_per_game',\n",
              " 'MP_totals',\n",
              " 'GS_totals',\n",
              " '2P_totals',\n",
              " '2PA_totals',\n",
              " 'ORB_totals',\n",
              " 'DRB_totals',\n",
              " 'Trp_Dbl_totals',\n",
              " 'WS/48_advanced',\n",
              " 'OBPM_advanced',\n",
              " 'DBPM_advanced']"
            ]
          },
          "metadata": {},
          "execution_count": 14
        }
      ]
    },
    {
      "cell_type": "markdown",
      "source": [
        "### Feature Selection"
      ],
      "metadata": {
        "id": "HPCbOaZpsk3r"
      }
    },
    {
      "cell_type": "code",
      "source": [
        "# Get dataframe of eligible Hall of Frame players with all remaining columns\n",
        "all_cols_eligible_df = (model_df[model_df['Eligible'] == 1]).loc[:, ~model_df.columns.isin(exclude_cols)]"
      ],
      "metadata": {
        "id": "emVDzw2od1qJ"
      },
      "execution_count": 28,
      "outputs": []
    },
    {
      "cell_type": "code",
      "source": [
        "# Scale features and split eligible dataset into dependent and independent variables\n",
        "sc0 = StandardScaler()\n",
        "\n",
        "X_all = pd.DataFrame(sc0.fit_transform(all_cols_eligible_df.iloc[:,1:]), index=all_cols_eligible_df.index, columns=all_cols_eligible_df.columns[1:])\n",
        "y_all = all_cols_eligible_df.iloc[:,0]"
      ],
      "metadata": {
        "id": "HJhHHz8EdRlh"
      },
      "execution_count": 29,
      "outputs": []
    },
    {
      "cell_type": "code",
      "source": [
        "# Return number of reamining columns\n",
        "print(len(X_all.columns), \"columns remaining\")\n",
        "X_all.columns"
      ],
      "metadata": {
        "colab": {
          "base_uri": "https://localhost:8080/"
        },
        "id": "5_wmctVcjrM6",
        "outputId": "c6eb0d3d-f54f-4086-cff7-9806bc9ad33f"
      },
      "execution_count": 30,
      "outputs": [
        {
          "output_type": "stream",
          "name": "stdout",
          "text": [
            "44 columns remaining\n"
          ]
        },
        {
          "output_type": "execute_result",
          "data": {
            "text/plain": [
              "Index(['MVP', 'Finals_MVP', 'All_Defensive', 'Def_POY', 'All_Star',\n",
              "       'Scoring_Champ', 'TRB_Champ', 'AST_Champ', 'STL_Champ', 'BLK_Champ',\n",
              "       'ROY', '3P_per_game', 'TRB_per_game', 'AST_per_game', 'STL_per_game',\n",
              "       'BLK_per_game', 'PTS_per_game', 'FG%_totals', '3P_totals', '3P%_totals',\n",
              "       '2P%_totals', 'eFG%_totals', 'FT%_totals', 'TRB_totals', 'AST_totals',\n",
              "       'STL_totals', 'BLK_totals', 'PTS_totals', 'pts_per_g_seasonal',\n",
              "       'mvp_shares_seasonal', 'trb_per_g_seasonal', 'ast_per_g_seasonal',\n",
              "       'ws_seasonal', 'accum_mvp_shares_seasonal', 'PER_advanced',\n",
              "       'TS%_advanced', 'OWS_advanced', 'DWS_advanced', 'WS_advanced',\n",
              "       'BPM_advanced', 'VORP_advanced', 'peak_ws_advanced', 'All_League',\n",
              "       'Champ'],\n",
              "      dtype='object')"
            ]
          },
          "metadata": {},
          "execution_count": 30
        }
      ]
    },
    {
      "cell_type": "markdown",
      "source": [
        "#### Experimenting with Various Feature Selectors"
      ],
      "metadata": {
        "id": "wE6yDA7Ahbo5"
      }
    },
    {
      "cell_type": "code",
      "source": [
        "# Select top k features based on mutual info regression\n",
        "kbest_selector = SelectKBest(mutual_info_regression, k = 10)\n",
        "kbest_selector.fit(X_all, y_all)\n",
        "kbest_cols = list(X_all.columns[kbest_selector.get_support()])\n",
        "\n",
        "kbest_cols"
      ],
      "metadata": {
        "id": "TI2WtWFkbhMd",
        "colab": {
          "base_uri": "https://localhost:8080/"
        },
        "outputId": "3078d249-95bf-4150-bbb4-b2c78aa4dfb0"
      },
      "execution_count": 31,
      "outputs": [
        {
          "output_type": "execute_result",
          "data": {
            "text/plain": [
              "['All_Star',\n",
              " 'PTS_per_game',\n",
              " 'PTS_totals',\n",
              " 'pts_per_g_seasonal',\n",
              " 'mvp_shares_seasonal',\n",
              " 'ws_seasonal',\n",
              " 'accum_mvp_shares_seasonal',\n",
              " 'WS_advanced',\n",
              " 'peak_ws_advanced',\n",
              " 'All_League']"
            ]
          },
          "metadata": {},
          "execution_count": 31
        }
      ]
    },
    {
      "cell_type": "code",
      "source": [
        "# Select top features from RFE selector\n",
        "rfe_selector = RFE(estimator=LogisticRegression(max_iter=120),n_features_to_select = 10, step = 1)\n",
        "rfe_selector.fit(X_all, y_all)\n",
        "rfe_cols = list(X_all.columns[rfe_selector.get_support()])\n",
        "\n",
        "rfe_cols"
      ],
      "metadata": {
        "colab": {
          "base_uri": "https://localhost:8080/"
        },
        "id": "yzm1WzIGftLg",
        "outputId": "139856ad-e682-4294-e151-2b623cada1bd"
      },
      "execution_count": 32,
      "outputs": [
        {
          "output_type": "execute_result",
          "data": {
            "text/plain": [
              "['MVP',\n",
              " 'All_Star',\n",
              " 'TRB_per_game',\n",
              " 'FG%_totals',\n",
              " 'TRB_totals',\n",
              " 'BLK_totals',\n",
              " 'pts_per_g_seasonal',\n",
              " 'PER_advanced',\n",
              " 'DWS_advanced',\n",
              " 'WS_advanced']"
            ]
          },
          "metadata": {},
          "execution_count": 32
        }
      ]
    },
    {
      "cell_type": "code",
      "source": [
        "# Select top features from SFM selector\n",
        "sfm_selector = SelectFromModel(estimator=LogisticRegression())\n",
        "sfm_selector.fit(X_all, y_all)\n",
        "sfm_cols = list(X_all.columns[sfm_selector.get_support()])\n",
        "\n",
        "sfm_cols"
      ],
      "metadata": {
        "colab": {
          "base_uri": "https://localhost:8080/"
        },
        "id": "EJxCTor1hHNu",
        "outputId": "f3ce33fc-e629-47c5-8eee-ed7990e505c4"
      },
      "execution_count": 33,
      "outputs": [
        {
          "output_type": "execute_result",
          "data": {
            "text/plain": [
              "['MVP',\n",
              " 'All_Star',\n",
              " 'Scoring_Champ',\n",
              " 'TRB_per_game',\n",
              " 'AST_per_game',\n",
              " 'BLK_per_game',\n",
              " 'FG%_totals',\n",
              " 'FT%_totals',\n",
              " 'TRB_totals',\n",
              " 'BLK_totals',\n",
              " 'PTS_totals',\n",
              " 'pts_per_g_seasonal',\n",
              " 'ws_seasonal',\n",
              " 'PER_advanced',\n",
              " 'OWS_advanced',\n",
              " 'DWS_advanced',\n",
              " 'WS_advanced',\n",
              " 'Champ']"
            ]
          },
          "metadata": {},
          "execution_count": 33
        }
      ]
    },
    {
      "cell_type": "markdown",
      "source": [
        "Variables found significant by each technique:"
      ],
      "metadata": {
        "id": "AY0aZ29WLJkI"
      }
    },
    {
      "cell_type": "code",
      "source": [
        "list(set(sfm_cols) & set(rfe_cols) & set(kbest_cols))"
      ],
      "metadata": {
        "colab": {
          "base_uri": "https://localhost:8080/"
        },
        "id": "KlaLPefDNetF",
        "outputId": "1588526e-ad20-4ad0-b623-5cfbbae304f6"
      },
      "execution_count": 34,
      "outputs": [
        {
          "output_type": "execute_result",
          "data": {
            "text/plain": [
              "['All_Star', 'WS_advanced', 'pts_per_g_seasonal']"
            ]
          },
          "metadata": {},
          "execution_count": 34
        }
      ]
    },
    {
      "cell_type": "markdown",
      "source": [
        "Variables found significant by 2/3 techniques"
      ],
      "metadata": {
        "id": "qFgzne-ALNhg"
      }
    },
    {
      "cell_type": "code",
      "source": [
        "list(set(sfm_cols) & set(rfe_cols) | set(kbest_cols) & set(rfe_cols) | set(kbest_cols) & set(sfm_cols))"
      ],
      "metadata": {
        "colab": {
          "base_uri": "https://localhost:8080/"
        },
        "id": "GS4R99H8LAbH",
        "outputId": "e9180507-4c55-47a6-a7a9-bc24d00f5ea4"
      },
      "execution_count": 35,
      "outputs": [
        {
          "output_type": "execute_result",
          "data": {
            "text/plain": [
              "['All_Star',\n",
              " 'WS_advanced',\n",
              " 'BLK_totals',\n",
              " 'FG%_totals',\n",
              " 'PER_advanced',\n",
              " 'PTS_totals',\n",
              " 'MVP',\n",
              " 'ws_seasonal',\n",
              " 'pts_per_g_seasonal',\n",
              " 'TRB_per_game',\n",
              " 'DWS_advanced',\n",
              " 'TRB_totals']"
            ]
          },
          "metadata": {},
          "execution_count": 35
        }
      ]
    },
    {
      "cell_type": "code",
      "source": [
        "# Calculate VIF for multicollinearity detection\n",
        "X_selected_all = X_all[['All_Star', 'WS_advanced', 'BLK_totals',\n",
        "                        'FG%_totals', 'PER_advanced', 'PTS_totals', 'MVP',\n",
        "                        'ws_seasonal', 'pts_per_g_seasonal', 'TRB_per_game',\n",
        "                        'DWS_advanced', 'TRB_totals']]\n",
        "\n",
        "# Create a dataframe to store VIF results\n",
        "vif_data = pd.DataFrame()\n",
        "vif_data['Variable'] = X_selected_all.columns\n",
        "vif_data['VIF'] = [variance_inflation_factor(X_selected_all.values, i) for i in range(X_selected_all.shape[1])]\n",
        "\n",
        "# Print the VIF results\n",
        "print(vif_data)"
      ],
      "metadata": {
        "id": "jbik_bnQFiPV",
        "outputId": "fbf07c57-7572-47d9-bf0c-c04a9fa7a077",
        "colab": {
          "base_uri": "https://localhost:8080/"
        }
      },
      "execution_count": 41,
      "outputs": [
        {
          "output_type": "stream",
          "name": "stdout",
          "text": [
            "              Variable        VIF\n",
            "0             All_Star   4.030357\n",
            "1          WS_advanced  22.492040\n",
            "2           BLK_totals   2.574060\n",
            "3           FG%_totals   1.666574\n",
            "4         PER_advanced   1.938330\n",
            "5           PTS_totals  13.859977\n",
            "6                  MVP   2.290717\n",
            "7          ws_seasonal   5.743731\n",
            "8   pts_per_g_seasonal   3.512514\n",
            "9         TRB_per_game   3.493599\n",
            "10        DWS_advanced  14.286602\n",
            "11          TRB_totals  13.222963\n"
          ]
        }
      ]
    },
    {
      "cell_type": "markdown",
      "source": [
        "**Collinearity analysis of variables found significant by 2/3 techiniques**\n",
        "\n",
        "Using a threshold of 10 for VIF, we determine a few columns to be multicollinear:\n",
        "*   'WS_advanced' and 'DWS_advanced': collinear with one another since win shares are offensive win shares plus defensive win shares. Instead, we can include both 'OWS_advanced' and 'DWS_advanced' in final model, which significantly decreases VIF of both variables\n",
        "*   'TRB_totals': likely collinear with 'TRB_per_game', since rebounders who have a high career number of rebounds also are likely to have a high per game average.\n",
        "*   'PTS_totals': likely collinear with 'pts_per_g_seasonal' for a similar reason. However, high scoring across individual seasons may be as important as high career scoring, so we may experiment with both variables in the final model and determine the best choice.\n",
        "\n",
        "\n",
        "\n",
        "\n",
        "\n",
        "\n",
        "\n",
        "\n",
        "\n",
        "\n",
        "\n",
        "\n",
        "\n"
      ],
      "metadata": {
        "id": "KWDwCFC4C3lM"
      }
    },
    {
      "cell_type": "code",
      "source": [
        "# Calculate VIF after choices\n",
        "X_selected_all = X_all[['All_Star', 'OWS_advanced', 'BLK_totals',\n",
        "                        'FG%_totals', 'PER_advanced', 'MVP',\n",
        "                        'ws_seasonal', 'pts_per_g_seasonal', 'DWS_advanced',\n",
        "                        'TRB_totals']]\n",
        "\n",
        "# Create a dataframe to store VIF results\n",
        "vif_data = pd.DataFrame()\n",
        "vif_data['Variable'] = X_selected_all.columns\n",
        "vif_data['VIF'] = [variance_inflation_factor(X_selected_all.values, i) for i in range(X_selected_all.shape[1])]\n",
        "\n",
        "# Print the VIF results\n",
        "print(vif_data)"
      ],
      "metadata": {
        "id": "AYRpcfTjIqmg",
        "outputId": "8d970208-aa42-4d61-e556-0f204c9fd257",
        "colab": {
          "base_uri": "https://localhost:8080/"
        }
      },
      "execution_count": 50,
      "outputs": [
        {
          "output_type": "stream",
          "name": "stdout",
          "text": [
            "             Variable       VIF\n",
            "0            All_Star  4.003411\n",
            "1        OWS_advanced  4.400314\n",
            "2          BLK_totals  2.469652\n",
            "3          FG%_totals  1.652027\n",
            "4        PER_advanced  1.772769\n",
            "5                 MVP  2.280258\n",
            "6         ws_seasonal  4.539655\n",
            "7  pts_per_g_seasonal  2.983937\n",
            "8        DWS_advanced  9.392229\n",
            "9          TRB_totals  7.479541\n"
          ]
        }
      ]
    },
    {
      "cell_type": "markdown",
      "source": [
        "#### Selecting Our Columns"
      ],
      "metadata": {
        "id": "qQNZp_UFhgAD"
      }
    },
    {
      "cell_type": "code",
      "source": [
        "# Select variables for model\n",
        "model_cols = [\n",
        "    # Variables for splitting/assessing predictions\n",
        "    'Player', 'Eligible', 'Hall_of_Fame',\n",
        "    # Variables from variable selection\n",
        "    'All_Star', 'OWS_advanced', 'BLK_totals', 'FG%_totals', 'PER_advanced',\n",
        "    'MVP', 'ws_seasonal', 'pts_per_g_seasonal', 'DWS_advanced', 'TRB_totals'\n",
        "]\n",
        "\n",
        "eligible_df = (model_df[model_df['Eligible'] == 1]).loc[:, model_df.columns.isin(model_cols)]\n",
        "noneligible_df = (model_df[model_df['Eligible'] == 0]).loc[:, model_df.columns.isin(model_cols)]"
      ],
      "metadata": {
        "id": "ZpANddmqZA_t"
      },
      "execution_count": 51,
      "outputs": []
    },
    {
      "cell_type": "code",
      "source": [
        "# Dropping players that are unpredictable (reasoning explained below)\n",
        "extraneous_players = ['Maurice Stokes', 'Bill Bradley', 'Toni Kukoč',\n",
        "       'Calvin Murphy', 'Vlade Divac', 'Buddy Jeannette',\n",
        "       'Dražen Petrović', 'Al Cervi', 'Arvydas Sabonis',\n",
        "       'Šarūnas Marčiulionis', 'Dino Radja', 'Chuck Cooper',\n",
        "       'Bob Houbregs']\n",
        "\n",
        "eligible_df = eligible_df[~eligible_df['Player'].isin(extraneous_players)]"
      ],
      "metadata": {
        "id": "li9L9ITe3A9c"
      },
      "execution_count": 52,
      "outputs": []
    },
    {
      "cell_type": "markdown",
      "source": [
        "### Train/Test Split"
      ],
      "metadata": {
        "id": "gFRRE9PIsnTr"
      }
    },
    {
      "cell_type": "code",
      "source": [
        "# Split training set into X and y\n",
        "X_eligible = eligible_df.iloc[:, 3:].values\n",
        "y_eligible = eligible_df.iloc[:, 2].values"
      ],
      "metadata": {
        "id": "kWQL7GBgZpis"
      },
      "execution_count": 53,
      "outputs": []
    },
    {
      "cell_type": "code",
      "source": [
        "# Train-test split dividing HOF eligible players into a training set and a validation set\n",
        "X_training, X_validation, y_train, y_val = train_test_split(eligible_df, y_eligible, test_size = 0.25, random_state = 0)"
      ],
      "metadata": {
        "id": "HwiBY68NZrDi"
      },
      "execution_count": 54,
      "outputs": []
    },
    {
      "cell_type": "code",
      "source": [
        "X_train = X_training.iloc[:,3:].values\n",
        "X_val = X_validation.iloc[:,3:].values"
      ],
      "metadata": {
        "id": "5FnpEKoybQpd"
      },
      "execution_count": 55,
      "outputs": []
    },
    {
      "cell_type": "code",
      "source": [
        "X_test = noneligible_df.iloc[:, 3:]\n",
        "y_test = noneligible_df.iloc[:, 2]"
      ],
      "metadata": {
        "id": "8BAsA-ghdAZT"
      },
      "execution_count": 56,
      "outputs": []
    },
    {
      "cell_type": "markdown",
      "source": [
        "### Feature Scaling"
      ],
      "metadata": {
        "id": "ID5kzLD2sp_T"
      }
    },
    {
      "cell_type": "code",
      "source": [
        "# Scale features\n",
        "sc1 = StandardScaler()\n",
        "X_eligible = sc1.fit_transform(X_eligible)\n",
        "\n",
        "# Scale whole matrix of features to prevent information leakage\n",
        "# Scale for training set and validation set\n",
        "sc2 = StandardScaler()\n",
        "X_train = sc2.fit_transform(X_train)\n",
        "X_val = sc2.transform(X_val)"
      ],
      "metadata": {
        "id": "NSwsXL9XmfW2"
      },
      "execution_count": 57,
      "outputs": []
    },
    {
      "cell_type": "markdown",
      "source": [
        "### Model Selection"
      ],
      "metadata": {
        "id": "1S015_TRAjon"
      }
    },
    {
      "cell_type": "code",
      "source": [
        "# Define classifiers / regressors\n",
        "\n",
        "CLASSIFIERS = [\n",
        "    LogisticRegression(),\n",
        "    XGBClassifier(),\n",
        "    DecisionTreeClassifier(),\n",
        "    RandomForestClassifier(),\n",
        "    SVC(),\n",
        "    GaussianNB(),\n",
        "    KNeighborsClassifier(),\n",
        "    AdaBoostClassifier(),\n",
        "    SVC(kernel = 'rbf')\n",
        "  ]"
      ],
      "metadata": {
        "id": "vTCSE_fnEQJY"
      },
      "execution_count": 58,
      "outputs": []
    },
    {
      "cell_type": "code",
      "source": [
        "# Define accuracy metrics\n",
        "\n",
        "METRICS = [\n",
        "    'f1',\n",
        "    'accuracy',\n",
        "    'precision',\n",
        "    'recall',\n",
        "    'average_precision'\n",
        "]"
      ],
      "metadata": {
        "id": "ev7vk2IVFx17"
      },
      "execution_count": 59,
      "outputs": []
    },
    {
      "cell_type": "markdown",
      "source": [
        "Accuracy: percentage of samples correctly classified\n",
        "\n",
        "Precision: if players model identified as HOF players, how many were truly HOF\n",
        "\n",
        "Recall: of true HOF players, how many did model identify as HOF\n",
        "\n",
        "F1: harmonic mean of precision and recall"
      ],
      "metadata": {
        "id": "zKRGsS50JD7k"
      }
    },
    {
      "cell_type": "code",
      "source": [
        "# Function that fits, predicts, and evaluates on different model types\n",
        "def get_metrics(classifier, X, y_true):\n",
        "  print(classifier)\n",
        "  classifier.fit(X_train, y_train)\n",
        "  y_pred = classifier.predict(X)\n",
        "\n",
        "  output_metrics = []\n",
        "\n",
        "  for metric in METRICS:\n",
        "    score = get_scorer(metric)._score_func(y_true, y_pred)\n",
        "    output_metrics.append(score)\n",
        "\n",
        "  return output_metrics"
      ],
      "metadata": {
        "id": "BfJqnHT7E9Di"
      },
      "execution_count": 61,
      "outputs": []
    },
    {
      "cell_type": "code",
      "source": [
        "# Get metrics for each model type\n",
        "training_metrics = []\n",
        "val_metrics = []\n",
        "\n",
        "for classifier in CLASSIFIERS:\n",
        "  clf_train_metrics = get_metrics(classifier, X_train, y_train)\n",
        "  val_train_metrics = get_metrics(classifier, X_val, y_val)\n",
        "  \n",
        "  training_metrics.append([classifier] + clf_train_metrics)\n",
        "  val_metrics.append([classifier] + val_train_metrics)\n",
        "\n",
        "train_metrics_df = pd.DataFrame(data = training_metrics, columns=['Classifier'] + METRICS)\n",
        "val_metrics_df = pd.DataFrame(data = val_metrics, columns=['Classifier'] + METRICS)"
      ],
      "metadata": {
        "colab": {
          "base_uri": "https://localhost:8080/"
        },
        "id": "wUARLtnHE7P7",
        "outputId": "90b21db1-1d13-4016-a28b-47391a48a5b5"
      },
      "execution_count": 68,
      "outputs": [
        {
          "output_type": "stream",
          "name": "stdout",
          "text": [
            "LogisticRegression()\n",
            "LogisticRegression()\n",
            "XGBClassifier(base_score=None, booster=None, callbacks=None,\n",
            "              colsample_bylevel=None, colsample_bynode=None,\n",
            "              colsample_bytree=None, early_stopping_rounds=None,\n",
            "              enable_categorical=False, eval_metric=None, feature_types=None,\n",
            "              gamma=None, gpu_id=None, grow_policy=None, importance_type=None,\n",
            "              interaction_constraints=None, learning_rate=None, max_bin=None,\n",
            "              max_cat_threshold=None, max_cat_to_onehot=None,\n",
            "              max_delta_step=None, max_depth=None, max_leaves=None,\n",
            "              min_child_weight=None, missing=nan, monotone_constraints=None,\n",
            "              n_estimators=100, n_jobs=None, num_parallel_tree=None,\n",
            "              predictor=None, random_state=None, ...)\n",
            "XGBClassifier(base_score=None, booster=None, callbacks=None,\n",
            "              colsample_bylevel=None, colsample_bynode=None,\n",
            "              colsample_bytree=None, early_stopping_rounds=None,\n",
            "              enable_categorical=False, eval_metric=None, feature_types=None,\n",
            "              gamma=None, gpu_id=None, grow_policy=None, importance_type=None,\n",
            "              interaction_constraints=None, learning_rate=None, max_bin=None,\n",
            "              max_cat_threshold=None, max_cat_to_onehot=None,\n",
            "              max_delta_step=None, max_depth=None, max_leaves=None,\n",
            "              min_child_weight=None, missing=nan, monotone_constraints=None,\n",
            "              n_estimators=100, n_jobs=None, num_parallel_tree=None,\n",
            "              predictor=None, random_state=None, ...)\n",
            "DecisionTreeClassifier()\n",
            "DecisionTreeClassifier()\n",
            "RandomForestClassifier()\n",
            "RandomForestClassifier()\n",
            "SVC()\n",
            "SVC()\n",
            "GaussianNB()\n",
            "GaussianNB()\n",
            "KNeighborsClassifier()\n",
            "KNeighborsClassifier()\n",
            "AdaBoostClassifier()\n",
            "AdaBoostClassifier()\n",
            "SVC()\n",
            "SVC()\n"
          ]
        }
      ]
    },
    {
      "cell_type": "code",
      "source": [
        "# Output modeling metrics for the training set\n",
        "train_metrics_df.sort_values(by='f1', ascending=False)"
      ],
      "metadata": {
        "colab": {
          "base_uri": "https://localhost:8080/",
          "height": 331
        },
        "id": "ajjmRmYtHgGD",
        "outputId": "b3a822bb-1455-4b88-981a-991faec90286"
      },
      "execution_count": 70,
      "outputs": [
        {
          "output_type": "execute_result",
          "data": {
            "text/plain": [
              "                                          Classifier        f1  accuracy  \\\n",
              "1  XGBClassifier(base_score=None, booster=None, c...  1.000000  1.000000   \n",
              "2                           DecisionTreeClassifier()  1.000000  1.000000   \n",
              "3  (DecisionTreeClassifier(max_features='sqrt', r...  1.000000  1.000000   \n",
              "7  (DecisionTreeClassifier(max_depth=1, random_st...  1.000000  1.000000   \n",
              "4                                              SVC()  0.947368  0.996732   \n",
              "8                                              SVC()  0.947368  0.996732   \n",
              "0                               LogisticRegression()  0.932642  0.995752   \n",
              "6                             KNeighborsClassifier()  0.886486  0.993137   \n",
              "5                                       GaussianNB()  0.688645  0.972222   \n",
              "\n",
              "   precision    recall  average_precision  \n",
              "1   1.000000  1.000000           1.000000  \n",
              "2   1.000000  1.000000           1.000000  \n",
              "3   1.000000  1.000000           1.000000  \n",
              "7   1.000000  1.000000           1.000000  \n",
              "4   0.957447  0.937500           0.899567  \n",
              "8   0.957447  0.937500           0.899567  \n",
              "0   0.927835  0.937500           0.871806  \n",
              "6   0.921348  0.854167           0.791560  \n",
              "5   0.531073  0.979167           0.520663  "
            ],
            "text/html": [
              "\n",
              "  <div id=\"df-dad146b6-9272-41bc-8ebc-052763c891a6\">\n",
              "    <div class=\"colab-df-container\">\n",
              "      <div>\n",
              "<style scoped>\n",
              "    .dataframe tbody tr th:only-of-type {\n",
              "        vertical-align: middle;\n",
              "    }\n",
              "\n",
              "    .dataframe tbody tr th {\n",
              "        vertical-align: top;\n",
              "    }\n",
              "\n",
              "    .dataframe thead th {\n",
              "        text-align: right;\n",
              "    }\n",
              "</style>\n",
              "<table border=\"1\" class=\"dataframe\">\n",
              "  <thead>\n",
              "    <tr style=\"text-align: right;\">\n",
              "      <th></th>\n",
              "      <th>Classifier</th>\n",
              "      <th>f1</th>\n",
              "      <th>accuracy</th>\n",
              "      <th>precision</th>\n",
              "      <th>recall</th>\n",
              "      <th>average_precision</th>\n",
              "    </tr>\n",
              "  </thead>\n",
              "  <tbody>\n",
              "    <tr>\n",
              "      <th>1</th>\n",
              "      <td>XGBClassifier(base_score=None, booster=None, c...</td>\n",
              "      <td>1.000000</td>\n",
              "      <td>1.000000</td>\n",
              "      <td>1.000000</td>\n",
              "      <td>1.000000</td>\n",
              "      <td>1.000000</td>\n",
              "    </tr>\n",
              "    <tr>\n",
              "      <th>2</th>\n",
              "      <td>DecisionTreeClassifier()</td>\n",
              "      <td>1.000000</td>\n",
              "      <td>1.000000</td>\n",
              "      <td>1.000000</td>\n",
              "      <td>1.000000</td>\n",
              "      <td>1.000000</td>\n",
              "    </tr>\n",
              "    <tr>\n",
              "      <th>3</th>\n",
              "      <td>(DecisionTreeClassifier(max_features='sqrt', r...</td>\n",
              "      <td>1.000000</td>\n",
              "      <td>1.000000</td>\n",
              "      <td>1.000000</td>\n",
              "      <td>1.000000</td>\n",
              "      <td>1.000000</td>\n",
              "    </tr>\n",
              "    <tr>\n",
              "      <th>7</th>\n",
              "      <td>(DecisionTreeClassifier(max_depth=1, random_st...</td>\n",
              "      <td>1.000000</td>\n",
              "      <td>1.000000</td>\n",
              "      <td>1.000000</td>\n",
              "      <td>1.000000</td>\n",
              "      <td>1.000000</td>\n",
              "    </tr>\n",
              "    <tr>\n",
              "      <th>4</th>\n",
              "      <td>SVC()</td>\n",
              "      <td>0.947368</td>\n",
              "      <td>0.996732</td>\n",
              "      <td>0.957447</td>\n",
              "      <td>0.937500</td>\n",
              "      <td>0.899567</td>\n",
              "    </tr>\n",
              "    <tr>\n",
              "      <th>8</th>\n",
              "      <td>SVC()</td>\n",
              "      <td>0.947368</td>\n",
              "      <td>0.996732</td>\n",
              "      <td>0.957447</td>\n",
              "      <td>0.937500</td>\n",
              "      <td>0.899567</td>\n",
              "    </tr>\n",
              "    <tr>\n",
              "      <th>0</th>\n",
              "      <td>LogisticRegression()</td>\n",
              "      <td>0.932642</td>\n",
              "      <td>0.995752</td>\n",
              "      <td>0.927835</td>\n",
              "      <td>0.937500</td>\n",
              "      <td>0.871806</td>\n",
              "    </tr>\n",
              "    <tr>\n",
              "      <th>6</th>\n",
              "      <td>KNeighborsClassifier()</td>\n",
              "      <td>0.886486</td>\n",
              "      <td>0.993137</td>\n",
              "      <td>0.921348</td>\n",
              "      <td>0.854167</td>\n",
              "      <td>0.791560</td>\n",
              "    </tr>\n",
              "    <tr>\n",
              "      <th>5</th>\n",
              "      <td>GaussianNB()</td>\n",
              "      <td>0.688645</td>\n",
              "      <td>0.972222</td>\n",
              "      <td>0.531073</td>\n",
              "      <td>0.979167</td>\n",
              "      <td>0.520663</td>\n",
              "    </tr>\n",
              "  </tbody>\n",
              "</table>\n",
              "</div>\n",
              "      <button class=\"colab-df-convert\" onclick=\"convertToInteractive('df-dad146b6-9272-41bc-8ebc-052763c891a6')\"\n",
              "              title=\"Convert this dataframe to an interactive table.\"\n",
              "              style=\"display:none;\">\n",
              "        \n",
              "  <svg xmlns=\"http://www.w3.org/2000/svg\" height=\"24px\"viewBox=\"0 0 24 24\"\n",
              "       width=\"24px\">\n",
              "    <path d=\"M0 0h24v24H0V0z\" fill=\"none\"/>\n",
              "    <path d=\"M18.56 5.44l.94 2.06.94-2.06 2.06-.94-2.06-.94-.94-2.06-.94 2.06-2.06.94zm-11 1L8.5 8.5l.94-2.06 2.06-.94-2.06-.94L8.5 2.5l-.94 2.06-2.06.94zm10 10l.94 2.06.94-2.06 2.06-.94-2.06-.94-.94-2.06-.94 2.06-2.06.94z\"/><path d=\"M17.41 7.96l-1.37-1.37c-.4-.4-.92-.59-1.43-.59-.52 0-1.04.2-1.43.59L10.3 9.45l-7.72 7.72c-.78.78-.78 2.05 0 2.83L4 21.41c.39.39.9.59 1.41.59.51 0 1.02-.2 1.41-.59l7.78-7.78 2.81-2.81c.8-.78.8-2.07 0-2.86zM5.41 20L4 18.59l7.72-7.72 1.47 1.35L5.41 20z\"/>\n",
              "  </svg>\n",
              "      </button>\n",
              "      \n",
              "  <style>\n",
              "    .colab-df-container {\n",
              "      display:flex;\n",
              "      flex-wrap:wrap;\n",
              "      gap: 12px;\n",
              "    }\n",
              "\n",
              "    .colab-df-convert {\n",
              "      background-color: #E8F0FE;\n",
              "      border: none;\n",
              "      border-radius: 50%;\n",
              "      cursor: pointer;\n",
              "      display: none;\n",
              "      fill: #1967D2;\n",
              "      height: 32px;\n",
              "      padding: 0 0 0 0;\n",
              "      width: 32px;\n",
              "    }\n",
              "\n",
              "    .colab-df-convert:hover {\n",
              "      background-color: #E2EBFA;\n",
              "      box-shadow: 0px 1px 2px rgba(60, 64, 67, 0.3), 0px 1px 3px 1px rgba(60, 64, 67, 0.15);\n",
              "      fill: #174EA6;\n",
              "    }\n",
              "\n",
              "    [theme=dark] .colab-df-convert {\n",
              "      background-color: #3B4455;\n",
              "      fill: #D2E3FC;\n",
              "    }\n",
              "\n",
              "    [theme=dark] .colab-df-convert:hover {\n",
              "      background-color: #434B5C;\n",
              "      box-shadow: 0px 1px 3px 1px rgba(0, 0, 0, 0.15);\n",
              "      filter: drop-shadow(0px 1px 2px rgba(0, 0, 0, 0.3));\n",
              "      fill: #FFFFFF;\n",
              "    }\n",
              "  </style>\n",
              "\n",
              "      <script>\n",
              "        const buttonEl =\n",
              "          document.querySelector('#df-dad146b6-9272-41bc-8ebc-052763c891a6 button.colab-df-convert');\n",
              "        buttonEl.style.display =\n",
              "          google.colab.kernel.accessAllowed ? 'block' : 'none';\n",
              "\n",
              "        async function convertToInteractive(key) {\n",
              "          const element = document.querySelector('#df-dad146b6-9272-41bc-8ebc-052763c891a6');\n",
              "          const dataTable =\n",
              "            await google.colab.kernel.invokeFunction('convertToInteractive',\n",
              "                                                     [key], {});\n",
              "          if (!dataTable) return;\n",
              "\n",
              "          const docLinkHtml = 'Like what you see? Visit the ' +\n",
              "            '<a target=\"_blank\" href=https://colab.research.google.com/notebooks/data_table.ipynb>data table notebook</a>'\n",
              "            + ' to learn more about interactive tables.';\n",
              "          element.innerHTML = '';\n",
              "          dataTable['output_type'] = 'display_data';\n",
              "          await google.colab.output.renderOutput(dataTable, element);\n",
              "          const docLink = document.createElement('div');\n",
              "          docLink.innerHTML = docLinkHtml;\n",
              "          element.appendChild(docLink);\n",
              "        }\n",
              "      </script>\n",
              "    </div>\n",
              "  </div>\n",
              "  "
            ]
          },
          "metadata": {},
          "execution_count": 70
        }
      ]
    },
    {
      "cell_type": "code",
      "source": [
        "# Output modeling metrics for the validation set\n",
        "val_metrics_df.sort_values(by='f1', ascending=False)"
      ],
      "metadata": {
        "colab": {
          "base_uri": "https://localhost:8080/",
          "height": 331
        },
        "id": "S81geQLjHieI",
        "outputId": "78f8ffc8-6a6d-471f-8ab5-d88a48138b55"
      },
      "execution_count": 72,
      "outputs": [
        {
          "output_type": "execute_result",
          "data": {
            "text/plain": [
              "                                          Classifier        f1  accuracy  \\\n",
              "0                               LogisticRegression()  0.763636  0.987255   \n",
              "1  XGBClassifier(base_score=None, booster=None, c...  0.754717  0.987255   \n",
              "3  (DecisionTreeClassifier(max_features='sqrt', r...  0.754717  0.987255   \n",
              "4                                              SVC()  0.754717  0.987255   \n",
              "6                             KNeighborsClassifier()  0.754717  0.987255   \n",
              "8                                              SVC()  0.754717  0.987255   \n",
              "2                           DecisionTreeClassifier()  0.714286  0.984314   \n",
              "5                                       GaussianNB()  0.683544  0.975490   \n",
              "7  (DecisionTreeClassifier(max_depth=1, random_st...  0.680000  0.984314   \n",
              "\n",
              "   precision    recall  average_precision  \n",
              "0   0.875000  0.677419           0.602546  \n",
              "1   0.909091  0.645161           0.597295  \n",
              "3   0.909091  0.645161           0.597295  \n",
              "4   0.909091  0.645161           0.597295  \n",
              "6   0.909091  0.645161           0.597295  \n",
              "8   0.909091  0.645161           0.597295  \n",
              "2   0.800000  0.645161           0.526913  \n",
              "5   0.562500  0.870968           0.493841  \n",
              "7   0.894737  0.548387           0.504388  "
            ],
            "text/html": [
              "\n",
              "  <div id=\"df-d7ee3456-c891-4d51-98b5-997f3270b849\">\n",
              "    <div class=\"colab-df-container\">\n",
              "      <div>\n",
              "<style scoped>\n",
              "    .dataframe tbody tr th:only-of-type {\n",
              "        vertical-align: middle;\n",
              "    }\n",
              "\n",
              "    .dataframe tbody tr th {\n",
              "        vertical-align: top;\n",
              "    }\n",
              "\n",
              "    .dataframe thead th {\n",
              "        text-align: right;\n",
              "    }\n",
              "</style>\n",
              "<table border=\"1\" class=\"dataframe\">\n",
              "  <thead>\n",
              "    <tr style=\"text-align: right;\">\n",
              "      <th></th>\n",
              "      <th>Classifier</th>\n",
              "      <th>f1</th>\n",
              "      <th>accuracy</th>\n",
              "      <th>precision</th>\n",
              "      <th>recall</th>\n",
              "      <th>average_precision</th>\n",
              "    </tr>\n",
              "  </thead>\n",
              "  <tbody>\n",
              "    <tr>\n",
              "      <th>0</th>\n",
              "      <td>LogisticRegression()</td>\n",
              "      <td>0.763636</td>\n",
              "      <td>0.987255</td>\n",
              "      <td>0.875000</td>\n",
              "      <td>0.677419</td>\n",
              "      <td>0.602546</td>\n",
              "    </tr>\n",
              "    <tr>\n",
              "      <th>1</th>\n",
              "      <td>XGBClassifier(base_score=None, booster=None, c...</td>\n",
              "      <td>0.754717</td>\n",
              "      <td>0.987255</td>\n",
              "      <td>0.909091</td>\n",
              "      <td>0.645161</td>\n",
              "      <td>0.597295</td>\n",
              "    </tr>\n",
              "    <tr>\n",
              "      <th>3</th>\n",
              "      <td>(DecisionTreeClassifier(max_features='sqrt', r...</td>\n",
              "      <td>0.754717</td>\n",
              "      <td>0.987255</td>\n",
              "      <td>0.909091</td>\n",
              "      <td>0.645161</td>\n",
              "      <td>0.597295</td>\n",
              "    </tr>\n",
              "    <tr>\n",
              "      <th>4</th>\n",
              "      <td>SVC()</td>\n",
              "      <td>0.754717</td>\n",
              "      <td>0.987255</td>\n",
              "      <td>0.909091</td>\n",
              "      <td>0.645161</td>\n",
              "      <td>0.597295</td>\n",
              "    </tr>\n",
              "    <tr>\n",
              "      <th>6</th>\n",
              "      <td>KNeighborsClassifier()</td>\n",
              "      <td>0.754717</td>\n",
              "      <td>0.987255</td>\n",
              "      <td>0.909091</td>\n",
              "      <td>0.645161</td>\n",
              "      <td>0.597295</td>\n",
              "    </tr>\n",
              "    <tr>\n",
              "      <th>8</th>\n",
              "      <td>SVC()</td>\n",
              "      <td>0.754717</td>\n",
              "      <td>0.987255</td>\n",
              "      <td>0.909091</td>\n",
              "      <td>0.645161</td>\n",
              "      <td>0.597295</td>\n",
              "    </tr>\n",
              "    <tr>\n",
              "      <th>2</th>\n",
              "      <td>DecisionTreeClassifier()</td>\n",
              "      <td>0.714286</td>\n",
              "      <td>0.984314</td>\n",
              "      <td>0.800000</td>\n",
              "      <td>0.645161</td>\n",
              "      <td>0.526913</td>\n",
              "    </tr>\n",
              "    <tr>\n",
              "      <th>5</th>\n",
              "      <td>GaussianNB()</td>\n",
              "      <td>0.683544</td>\n",
              "      <td>0.975490</td>\n",
              "      <td>0.562500</td>\n",
              "      <td>0.870968</td>\n",
              "      <td>0.493841</td>\n",
              "    </tr>\n",
              "    <tr>\n",
              "      <th>7</th>\n",
              "      <td>(DecisionTreeClassifier(max_depth=1, random_st...</td>\n",
              "      <td>0.680000</td>\n",
              "      <td>0.984314</td>\n",
              "      <td>0.894737</td>\n",
              "      <td>0.548387</td>\n",
              "      <td>0.504388</td>\n",
              "    </tr>\n",
              "  </tbody>\n",
              "</table>\n",
              "</div>\n",
              "      <button class=\"colab-df-convert\" onclick=\"convertToInteractive('df-d7ee3456-c891-4d51-98b5-997f3270b849')\"\n",
              "              title=\"Convert this dataframe to an interactive table.\"\n",
              "              style=\"display:none;\">\n",
              "        \n",
              "  <svg xmlns=\"http://www.w3.org/2000/svg\" height=\"24px\"viewBox=\"0 0 24 24\"\n",
              "       width=\"24px\">\n",
              "    <path d=\"M0 0h24v24H0V0z\" fill=\"none\"/>\n",
              "    <path d=\"M18.56 5.44l.94 2.06.94-2.06 2.06-.94-2.06-.94-.94-2.06-.94 2.06-2.06.94zm-11 1L8.5 8.5l.94-2.06 2.06-.94-2.06-.94L8.5 2.5l-.94 2.06-2.06.94zm10 10l.94 2.06.94-2.06 2.06-.94-2.06-.94-.94-2.06-.94 2.06-2.06.94z\"/><path d=\"M17.41 7.96l-1.37-1.37c-.4-.4-.92-.59-1.43-.59-.52 0-1.04.2-1.43.59L10.3 9.45l-7.72 7.72c-.78.78-.78 2.05 0 2.83L4 21.41c.39.39.9.59 1.41.59.51 0 1.02-.2 1.41-.59l7.78-7.78 2.81-2.81c.8-.78.8-2.07 0-2.86zM5.41 20L4 18.59l7.72-7.72 1.47 1.35L5.41 20z\"/>\n",
              "  </svg>\n",
              "      </button>\n",
              "      \n",
              "  <style>\n",
              "    .colab-df-container {\n",
              "      display:flex;\n",
              "      flex-wrap:wrap;\n",
              "      gap: 12px;\n",
              "    }\n",
              "\n",
              "    .colab-df-convert {\n",
              "      background-color: #E8F0FE;\n",
              "      border: none;\n",
              "      border-radius: 50%;\n",
              "      cursor: pointer;\n",
              "      display: none;\n",
              "      fill: #1967D2;\n",
              "      height: 32px;\n",
              "      padding: 0 0 0 0;\n",
              "      width: 32px;\n",
              "    }\n",
              "\n",
              "    .colab-df-convert:hover {\n",
              "      background-color: #E2EBFA;\n",
              "      box-shadow: 0px 1px 2px rgba(60, 64, 67, 0.3), 0px 1px 3px 1px rgba(60, 64, 67, 0.15);\n",
              "      fill: #174EA6;\n",
              "    }\n",
              "\n",
              "    [theme=dark] .colab-df-convert {\n",
              "      background-color: #3B4455;\n",
              "      fill: #D2E3FC;\n",
              "    }\n",
              "\n",
              "    [theme=dark] .colab-df-convert:hover {\n",
              "      background-color: #434B5C;\n",
              "      box-shadow: 0px 1px 3px 1px rgba(0, 0, 0, 0.15);\n",
              "      filter: drop-shadow(0px 1px 2px rgba(0, 0, 0, 0.3));\n",
              "      fill: #FFFFFF;\n",
              "    }\n",
              "  </style>\n",
              "\n",
              "      <script>\n",
              "        const buttonEl =\n",
              "          document.querySelector('#df-d7ee3456-c891-4d51-98b5-997f3270b849 button.colab-df-convert');\n",
              "        buttonEl.style.display =\n",
              "          google.colab.kernel.accessAllowed ? 'block' : 'none';\n",
              "\n",
              "        async function convertToInteractive(key) {\n",
              "          const element = document.querySelector('#df-d7ee3456-c891-4d51-98b5-997f3270b849');\n",
              "          const dataTable =\n",
              "            await google.colab.kernel.invokeFunction('convertToInteractive',\n",
              "                                                     [key], {});\n",
              "          if (!dataTable) return;\n",
              "\n",
              "          const docLinkHtml = 'Like what you see? Visit the ' +\n",
              "            '<a target=\"_blank\" href=https://colab.research.google.com/notebooks/data_table.ipynb>data table notebook</a>'\n",
              "            + ' to learn more about interactive tables.';\n",
              "          element.innerHTML = '';\n",
              "          dataTable['output_type'] = 'display_data';\n",
              "          await google.colab.output.renderOutput(dataTable, element);\n",
              "          const docLink = document.createElement('div');\n",
              "          docLink.innerHTML = docLinkHtml;\n",
              "          element.appendChild(docLink);\n",
              "        }\n",
              "      </script>\n",
              "    </div>\n",
              "  </div>\n",
              "  "
            ]
          },
          "metadata": {},
          "execution_count": 72
        }
      ]
    },
    {
      "cell_type": "markdown",
      "source": [
        "Logistic regression has the highest f1 in both the training and validation sets, so we will use a logistic regression classifier for our model."
      ],
      "metadata": {
        "id": "wfpLTREGK-ca"
      }
    },
    {
      "cell_type": "markdown",
      "source": [
        "### Hyperparameter Optimization"
      ],
      "metadata": {
        "id": "rHqJlXmjc9ZZ"
      }
    },
    {
      "cell_type": "code",
      "source": [
        "logistic_classifier = LogisticRegression(random_state= 0)"
      ],
      "metadata": {
        "id": "vupTTE5DI4RR"
      },
      "execution_count": 93,
      "outputs": []
    },
    {
      "cell_type": "markdown",
      "source": [
        "Links for hyperparameter optimization:\n",
        "*   https://machinelearningmastery.com/hyperparameters-for-classification-machine-learning-algorithms/\n",
        "*   https://scikit-learn.org/stable/auto_examples/model_selection/\n",
        "*  https://scikit-learn.org/stable/auto_examples/model_selection/plot_grid_search_digits.html#sphx-glr-auto-examples-model-selection-plot-grid-search-digits-py\n",
        "\n",
        "\n",
        "\n",
        "\n",
        "\n"
      ],
      "metadata": {
        "id": "Js_2SZGSLslN"
      }
    },
    {
      "cell_type": "code",
      "source": [
        "# Define a list of optimization algorithms for logistic regression\n",
        "solvers = ['newton-cg', 'lbfgs', 'liblinear']\n",
        "\n",
        "# Define a list of regularization penalty types\n",
        "penalty = ['l2']\n",
        "\n",
        "# Define a list of values for the regularization parameter C\n",
        "c_values = [100, 10, 1.0, 0.1, 0.01]\n",
        "\n",
        "# Create a dictionary to represent the grid of hyperparameters\n",
        "grid = dict(solver=solvers, penalty=penalty, C=c_values)"
      ],
      "metadata": {
        "id": "O3mxzU8J90wY"
      },
      "execution_count": 94,
      "outputs": []
    },
    {
      "cell_type": "code",
      "source": [
        "# Create function to print cross validated results\n",
        "def print_dataframe(filtered_cv_results):\n",
        "    \"\"\"Pretty print for filtered dataframe\"\"\"\n",
        "    for mean_precision, std_precision, mean_recall, std_recall, params in zip(\n",
        "        filtered_cv_results[\"mean_test_precision\"],\n",
        "        filtered_cv_results[\"std_test_precision\"],\n",
        "        filtered_cv_results[\"mean_test_recall\"],\n",
        "        filtered_cv_results[\"std_test_recall\"],\n",
        "        filtered_cv_results[\"params\"],\n",
        "    ):\n",
        "        print(\n",
        "            f\"precision: {mean_precision:0.3f} (±{std_precision:0.03f}),\"\n",
        "            f\" recall: {mean_recall:0.3f} (±{std_recall:0.03f}),\"\n",
        "            f\" for {params}\"\n",
        "        )\n",
        "    print()"
      ],
      "metadata": {
        "id": "Y9azFUoHM14j"
      },
      "execution_count": 95,
      "outputs": []
    },
    {
      "cell_type": "code",
      "source": [
        "# Create function to select estimator\n",
        "def refit_strategy(cv_results):\n",
        "  \"\"\"Define the strategy to select the best estimator.\n",
        "\n",
        "  The strategy defined here is to filter-out all results below a precision threshold\n",
        "  of 0.9, rank the remaining by recall and select the model with the highest\n",
        "  recall.\n",
        "\n",
        "  Parameters\n",
        "  ----------\n",
        "  cv_results : dict of numpy (masked) ndarrays\n",
        "      CV results as returned by the `GridSearchCV`.\n",
        "\n",
        "  Returns\n",
        "  -------\n",
        "  best_index : int\n",
        "      The index of the best estimator as it appears in `cv_results`.\n",
        "  \"\"\"\n",
        "  \n",
        "  precision_threshold = 0.89\n",
        "  cv_results_ = pd.DataFrame(cv_results)\n",
        "  print(\"All grid-search results:\")\n",
        "  print_dataframe(cv_results_)\n",
        "\n",
        "  # Filter-out all results below the threshold\n",
        "  high_precision_cv_results = cv_results_[\n",
        "        cv_results_[\"mean_test_precision\"] > precision_threshold\n",
        "  ]\n",
        "\n",
        "  print(f\"Models with a precision higher than {precision_threshold}:\")\n",
        "  print_dataframe(high_precision_cv_results)\n",
        "\n",
        "  high_precision_cv_results = high_precision_cv_results[\n",
        "        [\n",
        "            \"mean_score_time\",\n",
        "            \"mean_test_recall\",\n",
        "            \"std_test_recall\",\n",
        "            \"mean_test_precision\",\n",
        "            \"std_test_precision\",\n",
        "            \"rank_test_recall\",\n",
        "            \"rank_test_precision\",\n",
        "            \"params\",\n",
        "        ]\n",
        "    ]\n",
        "\n",
        "  # Select the most performant models in terms of recall\n",
        "  best_recall_index = high_precision_cv_results[\"mean_test_recall\"].idxmax()\n",
        "\n",
        "  print(\n",
        "        \"\\nThe selected final model is the fastest to predict out of the previously\\n\"\n",
        "        \"selected subset of best models based on precision and recall.\\n\"\n",
        "        \"Its scoring time is:\\n\\n\"\n",
        "        f\"{high_precision_cv_results.loc[best_recall_index]}\"\n",
        "    )\n",
        "  \n",
        "  return best_recall_index"
      ],
      "metadata": {
        "id": "dAm-s6OUMi0V"
      },
      "execution_count": 96,
      "outputs": []
    },
    {
      "cell_type": "code",
      "source": [
        "scorers = ['precision', 'recall']\n",
        "\n",
        "# Define grid search\n",
        "cv = RepeatedStratifiedKFold(n_splits=10, n_repeats=3, random_state=1)\n",
        "grid_search = GridSearchCV(estimator=logistic_classifier, param_grid=grid, n_jobs=-1, cv=cv, scoring=scorers,refit=refit_strategy,error_score=0)\n",
        "grid_result = grid_search.fit(X_eligible, y_eligible)"
      ],
      "metadata": {
        "id": "OqAQMJpq91xu",
        "colab": {
          "base_uri": "https://localhost:8080/"
        },
        "outputId": "803cd091-b556-4e88-f428-5546f83bfae9"
      },
      "execution_count": 97,
      "outputs": [
        {
          "output_type": "stream",
          "name": "stdout",
          "text": [
            "All grid-search results:\n",
            "precision: 0.900 (±0.072), recall: 0.849 (±0.093), for {'C': 100, 'penalty': 'l2', 'solver': 'newton-cg'}\n",
            "precision: 0.900 (±0.072), recall: 0.849 (±0.093), for {'C': 100, 'penalty': 'l2', 'solver': 'lbfgs'}\n",
            "precision: 0.900 (±0.072), recall: 0.849 (±0.093), for {'C': 100, 'penalty': 'l2', 'solver': 'liblinear'}\n",
            "precision: 0.900 (±0.072), recall: 0.849 (±0.093), for {'C': 10, 'penalty': 'l2', 'solver': 'newton-cg'}\n",
            "precision: 0.900 (±0.072), recall: 0.849 (±0.093), for {'C': 10, 'penalty': 'l2', 'solver': 'lbfgs'}\n",
            "precision: 0.900 (±0.072), recall: 0.851 (±0.096), for {'C': 10, 'penalty': 'l2', 'solver': 'liblinear'}\n",
            "precision: 0.905 (±0.068), recall: 0.851 (±0.085), for {'C': 1.0, 'penalty': 'l2', 'solver': 'newton-cg'}\n",
            "precision: 0.905 (±0.068), recall: 0.851 (±0.085), for {'C': 1.0, 'penalty': 'l2', 'solver': 'lbfgs'}\n",
            "precision: 0.905 (±0.067), recall: 0.851 (±0.083), for {'C': 1.0, 'penalty': 'l2', 'solver': 'liblinear'}\n",
            "precision: 0.921 (±0.069), recall: 0.809 (±0.086), for {'C': 0.1, 'penalty': 'l2', 'solver': 'newton-cg'}\n",
            "precision: 0.921 (±0.069), recall: 0.809 (±0.086), for {'C': 0.1, 'penalty': 'l2', 'solver': 'lbfgs'}\n",
            "precision: 0.901 (±0.068), recall: 0.838 (±0.090), for {'C': 0.1, 'penalty': 'l2', 'solver': 'liblinear'}\n",
            "precision: 0.941 (±0.070), recall: 0.694 (±0.110), for {'C': 0.01, 'penalty': 'l2', 'solver': 'newton-cg'}\n",
            "precision: 0.941 (±0.070), recall: 0.694 (±0.110), for {'C': 0.01, 'penalty': 'l2', 'solver': 'lbfgs'}\n",
            "precision: 0.912 (±0.071), recall: 0.809 (±0.096), for {'C': 0.01, 'penalty': 'l2', 'solver': 'liblinear'}\n",
            "\n",
            "Models with a precision higher than 0.89:\n",
            "precision: 0.900 (±0.072), recall: 0.849 (±0.093), for {'C': 100, 'penalty': 'l2', 'solver': 'newton-cg'}\n",
            "precision: 0.900 (±0.072), recall: 0.849 (±0.093), for {'C': 100, 'penalty': 'l2', 'solver': 'lbfgs'}\n",
            "precision: 0.900 (±0.072), recall: 0.849 (±0.093), for {'C': 100, 'penalty': 'l2', 'solver': 'liblinear'}\n",
            "precision: 0.900 (±0.072), recall: 0.849 (±0.093), for {'C': 10, 'penalty': 'l2', 'solver': 'newton-cg'}\n",
            "precision: 0.900 (±0.072), recall: 0.849 (±0.093), for {'C': 10, 'penalty': 'l2', 'solver': 'lbfgs'}\n",
            "precision: 0.900 (±0.072), recall: 0.851 (±0.096), for {'C': 10, 'penalty': 'l2', 'solver': 'liblinear'}\n",
            "precision: 0.905 (±0.068), recall: 0.851 (±0.085), for {'C': 1.0, 'penalty': 'l2', 'solver': 'newton-cg'}\n",
            "precision: 0.905 (±0.068), recall: 0.851 (±0.085), for {'C': 1.0, 'penalty': 'l2', 'solver': 'lbfgs'}\n",
            "precision: 0.905 (±0.067), recall: 0.851 (±0.083), for {'C': 1.0, 'penalty': 'l2', 'solver': 'liblinear'}\n",
            "precision: 0.921 (±0.069), recall: 0.809 (±0.086), for {'C': 0.1, 'penalty': 'l2', 'solver': 'newton-cg'}\n",
            "precision: 0.921 (±0.069), recall: 0.809 (±0.086), for {'C': 0.1, 'penalty': 'l2', 'solver': 'lbfgs'}\n",
            "precision: 0.901 (±0.068), recall: 0.838 (±0.090), for {'C': 0.1, 'penalty': 'l2', 'solver': 'liblinear'}\n",
            "precision: 0.941 (±0.070), recall: 0.694 (±0.110), for {'C': 0.01, 'penalty': 'l2', 'solver': 'newton-cg'}\n",
            "precision: 0.941 (±0.070), recall: 0.694 (±0.110), for {'C': 0.01, 'penalty': 'l2', 'solver': 'lbfgs'}\n",
            "precision: 0.912 (±0.071), recall: 0.809 (±0.096), for {'C': 0.01, 'penalty': 'l2', 'solver': 'liblinear'}\n",
            "\n",
            "\n",
            "The selected final model is the fastest to predict out of the previously\n",
            "selected subset of best models based on precision and recall.\n",
            "Its scoring time is:\n",
            "\n",
            "mean_score_time                                                 0.005056\n",
            "mean_test_recall                                                0.851496\n",
            "std_test_recall                                                 0.084833\n",
            "mean_test_precision                                             0.904778\n",
            "std_test_precision                                              0.067512\n",
            "rank_test_recall                                                       1\n",
            "rank_test_precision                                                    7\n",
            "params                 {'C': 1.0, 'penalty': 'l2', 'solver': 'newton-...\n",
            "Name: 6, dtype: object\n"
          ]
        }
      ]
    },
    {
      "cell_type": "markdown",
      "source": [
        "### Modeling"
      ],
      "metadata": {
        "id": "lSPu3XpOsrXh"
      }
    },
    {
      "cell_type": "code",
      "source": [
        "# Fit a classifier with parameters found above\n",
        "classifier = LogisticRegression(random_state = 1, **grid_result.best_params_)\n",
        "classifier.fit(X_train, y_train)"
      ],
      "metadata": {
        "id": "oz6Z5W0-mfZp",
        "outputId": "0dbffccb-b95b-47c4-c7b4-aaed1e9a1057",
        "colab": {
          "base_uri": "https://localhost:8080/",
          "height": 74
        }
      },
      "execution_count": 98,
      "outputs": [
        {
          "output_type": "execute_result",
          "data": {
            "text/plain": [
              "LogisticRegression(random_state=1, solver='newton-cg')"
            ],
            "text/html": [
              "<style>#sk-container-id-2 {color: black;background-color: white;}#sk-container-id-2 pre{padding: 0;}#sk-container-id-2 div.sk-toggleable {background-color: white;}#sk-container-id-2 label.sk-toggleable__label {cursor: pointer;display: block;width: 100%;margin-bottom: 0;padding: 0.3em;box-sizing: border-box;text-align: center;}#sk-container-id-2 label.sk-toggleable__label-arrow:before {content: \"▸\";float: left;margin-right: 0.25em;color: #696969;}#sk-container-id-2 label.sk-toggleable__label-arrow:hover:before {color: black;}#sk-container-id-2 div.sk-estimator:hover label.sk-toggleable__label-arrow:before {color: black;}#sk-container-id-2 div.sk-toggleable__content {max-height: 0;max-width: 0;overflow: hidden;text-align: left;background-color: #f0f8ff;}#sk-container-id-2 div.sk-toggleable__content pre {margin: 0.2em;color: black;border-radius: 0.25em;background-color: #f0f8ff;}#sk-container-id-2 input.sk-toggleable__control:checked~div.sk-toggleable__content {max-height: 200px;max-width: 100%;overflow: auto;}#sk-container-id-2 input.sk-toggleable__control:checked~label.sk-toggleable__label-arrow:before {content: \"▾\";}#sk-container-id-2 div.sk-estimator input.sk-toggleable__control:checked~label.sk-toggleable__label {background-color: #d4ebff;}#sk-container-id-2 div.sk-label input.sk-toggleable__control:checked~label.sk-toggleable__label {background-color: #d4ebff;}#sk-container-id-2 input.sk-hidden--visually {border: 0;clip: rect(1px 1px 1px 1px);clip: rect(1px, 1px, 1px, 1px);height: 1px;margin: -1px;overflow: hidden;padding: 0;position: absolute;width: 1px;}#sk-container-id-2 div.sk-estimator {font-family: monospace;background-color: #f0f8ff;border: 1px dotted black;border-radius: 0.25em;box-sizing: border-box;margin-bottom: 0.5em;}#sk-container-id-2 div.sk-estimator:hover {background-color: #d4ebff;}#sk-container-id-2 div.sk-parallel-item::after {content: \"\";width: 100%;border-bottom: 1px solid gray;flex-grow: 1;}#sk-container-id-2 div.sk-label:hover label.sk-toggleable__label {background-color: #d4ebff;}#sk-container-id-2 div.sk-serial::before {content: \"\";position: absolute;border-left: 1px solid gray;box-sizing: border-box;top: 0;bottom: 0;left: 50%;z-index: 0;}#sk-container-id-2 div.sk-serial {display: flex;flex-direction: column;align-items: center;background-color: white;padding-right: 0.2em;padding-left: 0.2em;position: relative;}#sk-container-id-2 div.sk-item {position: relative;z-index: 1;}#sk-container-id-2 div.sk-parallel {display: flex;align-items: stretch;justify-content: center;background-color: white;position: relative;}#sk-container-id-2 div.sk-item::before, #sk-container-id-2 div.sk-parallel-item::before {content: \"\";position: absolute;border-left: 1px solid gray;box-sizing: border-box;top: 0;bottom: 0;left: 50%;z-index: -1;}#sk-container-id-2 div.sk-parallel-item {display: flex;flex-direction: column;z-index: 1;position: relative;background-color: white;}#sk-container-id-2 div.sk-parallel-item:first-child::after {align-self: flex-end;width: 50%;}#sk-container-id-2 div.sk-parallel-item:last-child::after {align-self: flex-start;width: 50%;}#sk-container-id-2 div.sk-parallel-item:only-child::after {width: 0;}#sk-container-id-2 div.sk-dashed-wrapped {border: 1px dashed gray;margin: 0 0.4em 0.5em 0.4em;box-sizing: border-box;padding-bottom: 0.4em;background-color: white;}#sk-container-id-2 div.sk-label label {font-family: monospace;font-weight: bold;display: inline-block;line-height: 1.2em;}#sk-container-id-2 div.sk-label-container {text-align: center;}#sk-container-id-2 div.sk-container {/* jupyter's `normalize.less` sets `[hidden] { display: none; }` but bootstrap.min.css set `[hidden] { display: none !important; }` so we also need the `!important` here to be able to override the default hidden behavior on the sphinx rendered scikit-learn.org. See: https://github.com/scikit-learn/scikit-learn/issues/21755 */display: inline-block !important;position: relative;}#sk-container-id-2 div.sk-text-repr-fallback {display: none;}</style><div id=\"sk-container-id-2\" class=\"sk-top-container\"><div class=\"sk-text-repr-fallback\"><pre>LogisticRegression(random_state=1, solver=&#x27;newton-cg&#x27;)</pre><b>In a Jupyter environment, please rerun this cell to show the HTML representation or trust the notebook. <br />On GitHub, the HTML representation is unable to render, please try loading this page with nbviewer.org.</b></div><div class=\"sk-container\" hidden><div class=\"sk-item\"><div class=\"sk-estimator sk-toggleable\"><input class=\"sk-toggleable__control sk-hidden--visually\" id=\"sk-estimator-id-2\" type=\"checkbox\" checked><label for=\"sk-estimator-id-2\" class=\"sk-toggleable__label sk-toggleable__label-arrow\">LogisticRegression</label><div class=\"sk-toggleable__content\"><pre>LogisticRegression(random_state=1, solver=&#x27;newton-cg&#x27;)</pre></div></div></div></div></div>"
            ]
          },
          "metadata": {},
          "execution_count": 98
        }
      ]
    },
    {
      "cell_type": "markdown",
      "source": [
        "### Predictions"
      ],
      "metadata": {
        "id": "ikWyzov7stav"
      }
    },
    {
      "cell_type": "code",
      "source": [
        "# Predict both class and probability for the training set \n",
        "y_train_pred_probs = classifier.predict_proba(X_train)[:, 1]\n",
        "y_train_pred = classifier.predict(X_train)"
      ],
      "metadata": {
        "id": "wGNtVBuNmfcm"
      },
      "execution_count": 99,
      "outputs": []
    },
    {
      "cell_type": "code",
      "source": [
        "# Predict both class and probability for the test set \n",
        "y_val_pred_probs = classifier.predict_proba(X_val)[:, 1]\n",
        "y_val_pred = classifier.predict(X_val)"
      ],
      "metadata": {
        "id": "mF5rQXGpdZbO"
      },
      "execution_count": 100,
      "outputs": []
    },
    {
      "cell_type": "code",
      "source": [
        "#eligible_df['pred'] = y_train_pred_probs\n",
        "X_training['pred'] = y_train_pred_probs\n",
        "X_validation['pred'] = y_val_pred_probs"
      ],
      "metadata": {
        "id": "qi6RWkBTnvW2"
      },
      "execution_count": 101,
      "outputs": []
    },
    {
      "cell_type": "markdown",
      "source": [
        "#### Borderline Correct Positive HOF Predictions"
      ],
      "metadata": {
        "id": "3oi4k5esswkR"
      }
    },
    {
      "cell_type": "markdown",
      "source": [
        "In train:"
      ],
      "metadata": {
        "id": "zyCtTXbROkh3"
      }
    },
    {
      "cell_type": "code",
      "source": [
        "X_training[(X_training['pred'] < 0.56) & (X_training['pred'] > 0.5) & (X_training['Hall_of_Fame'] == 1)].sort_values(by='pred', ascending=True)"
      ],
      "metadata": {
        "id": "C8oPqTr_rU_8",
        "outputId": "3155e558-2863-47ce-cbf1-37130ef182bd",
        "colab": {
          "base_uri": "https://localhost:8080/",
          "height": 210
        }
      },
      "execution_count": 102,
      "outputs": [
        {
          "output_type": "execute_result",
          "data": {
            "text/plain": [
              "             Player  Eligible  Hall_of_Fame  MVP  All_Star  FG%_totals  \\\n",
              "489      Carl Braun         1             1    0         5       0.383   \n",
              "761  Maurice Cheeks         1             1    0         4       0.523   \n",
              "\n",
              "     TRB_totals  BLK_totals  pts_per_g_seasonal  ws_seasonal  PER_advanced  \\\n",
              "489      2122.0  112.913418                  11            5          15.8   \n",
              "761      3088.0  294.000000                   0            2          16.5   \n",
              "\n",
              "     OWS_advanced  DWS_advanced      pred  \n",
              "489          44.4          19.8  0.549210  \n",
              "761          60.9          42.6  0.556595  "
            ],
            "text/html": [
              "\n",
              "  <div id=\"df-a44266e8-269b-409c-b5bb-233ddea3a3dd\">\n",
              "    <div class=\"colab-df-container\">\n",
              "      <div>\n",
              "<style scoped>\n",
              "    .dataframe tbody tr th:only-of-type {\n",
              "        vertical-align: middle;\n",
              "    }\n",
              "\n",
              "    .dataframe tbody tr th {\n",
              "        vertical-align: top;\n",
              "    }\n",
              "\n",
              "    .dataframe thead th {\n",
              "        text-align: right;\n",
              "    }\n",
              "</style>\n",
              "<table border=\"1\" class=\"dataframe\">\n",
              "  <thead>\n",
              "    <tr style=\"text-align: right;\">\n",
              "      <th></th>\n",
              "      <th>Player</th>\n",
              "      <th>Eligible</th>\n",
              "      <th>Hall_of_Fame</th>\n",
              "      <th>MVP</th>\n",
              "      <th>All_Star</th>\n",
              "      <th>FG%_totals</th>\n",
              "      <th>TRB_totals</th>\n",
              "      <th>BLK_totals</th>\n",
              "      <th>pts_per_g_seasonal</th>\n",
              "      <th>ws_seasonal</th>\n",
              "      <th>PER_advanced</th>\n",
              "      <th>OWS_advanced</th>\n",
              "      <th>DWS_advanced</th>\n",
              "      <th>pred</th>\n",
              "    </tr>\n",
              "  </thead>\n",
              "  <tbody>\n",
              "    <tr>\n",
              "      <th>489</th>\n",
              "      <td>Carl Braun</td>\n",
              "      <td>1</td>\n",
              "      <td>1</td>\n",
              "      <td>0</td>\n",
              "      <td>5</td>\n",
              "      <td>0.383</td>\n",
              "      <td>2122.0</td>\n",
              "      <td>112.913418</td>\n",
              "      <td>11</td>\n",
              "      <td>5</td>\n",
              "      <td>15.8</td>\n",
              "      <td>44.4</td>\n",
              "      <td>19.8</td>\n",
              "      <td>0.549210</td>\n",
              "    </tr>\n",
              "    <tr>\n",
              "      <th>761</th>\n",
              "      <td>Maurice Cheeks</td>\n",
              "      <td>1</td>\n",
              "      <td>1</td>\n",
              "      <td>0</td>\n",
              "      <td>4</td>\n",
              "      <td>0.523</td>\n",
              "      <td>3088.0</td>\n",
              "      <td>294.000000</td>\n",
              "      <td>0</td>\n",
              "      <td>2</td>\n",
              "      <td>16.5</td>\n",
              "      <td>60.9</td>\n",
              "      <td>42.6</td>\n",
              "      <td>0.556595</td>\n",
              "    </tr>\n",
              "  </tbody>\n",
              "</table>\n",
              "</div>\n",
              "      <button class=\"colab-df-convert\" onclick=\"convertToInteractive('df-a44266e8-269b-409c-b5bb-233ddea3a3dd')\"\n",
              "              title=\"Convert this dataframe to an interactive table.\"\n",
              "              style=\"display:none;\">\n",
              "        \n",
              "  <svg xmlns=\"http://www.w3.org/2000/svg\" height=\"24px\"viewBox=\"0 0 24 24\"\n",
              "       width=\"24px\">\n",
              "    <path d=\"M0 0h24v24H0V0z\" fill=\"none\"/>\n",
              "    <path d=\"M18.56 5.44l.94 2.06.94-2.06 2.06-.94-2.06-.94-.94-2.06-.94 2.06-2.06.94zm-11 1L8.5 8.5l.94-2.06 2.06-.94-2.06-.94L8.5 2.5l-.94 2.06-2.06.94zm10 10l.94 2.06.94-2.06 2.06-.94-2.06-.94-.94-2.06-.94 2.06-2.06.94z\"/><path d=\"M17.41 7.96l-1.37-1.37c-.4-.4-.92-.59-1.43-.59-.52 0-1.04.2-1.43.59L10.3 9.45l-7.72 7.72c-.78.78-.78 2.05 0 2.83L4 21.41c.39.39.9.59 1.41.59.51 0 1.02-.2 1.41-.59l7.78-7.78 2.81-2.81c.8-.78.8-2.07 0-2.86zM5.41 20L4 18.59l7.72-7.72 1.47 1.35L5.41 20z\"/>\n",
              "  </svg>\n",
              "      </button>\n",
              "      \n",
              "  <style>\n",
              "    .colab-df-container {\n",
              "      display:flex;\n",
              "      flex-wrap:wrap;\n",
              "      gap: 12px;\n",
              "    }\n",
              "\n",
              "    .colab-df-convert {\n",
              "      background-color: #E8F0FE;\n",
              "      border: none;\n",
              "      border-radius: 50%;\n",
              "      cursor: pointer;\n",
              "      display: none;\n",
              "      fill: #1967D2;\n",
              "      height: 32px;\n",
              "      padding: 0 0 0 0;\n",
              "      width: 32px;\n",
              "    }\n",
              "\n",
              "    .colab-df-convert:hover {\n",
              "      background-color: #E2EBFA;\n",
              "      box-shadow: 0px 1px 2px rgba(60, 64, 67, 0.3), 0px 1px 3px 1px rgba(60, 64, 67, 0.15);\n",
              "      fill: #174EA6;\n",
              "    }\n",
              "\n",
              "    [theme=dark] .colab-df-convert {\n",
              "      background-color: #3B4455;\n",
              "      fill: #D2E3FC;\n",
              "    }\n",
              "\n",
              "    [theme=dark] .colab-df-convert:hover {\n",
              "      background-color: #434B5C;\n",
              "      box-shadow: 0px 1px 3px 1px rgba(0, 0, 0, 0.15);\n",
              "      filter: drop-shadow(0px 1px 2px rgba(0, 0, 0, 0.3));\n",
              "      fill: #FFFFFF;\n",
              "    }\n",
              "  </style>\n",
              "\n",
              "      <script>\n",
              "        const buttonEl =\n",
              "          document.querySelector('#df-a44266e8-269b-409c-b5bb-233ddea3a3dd button.colab-df-convert');\n",
              "        buttonEl.style.display =\n",
              "          google.colab.kernel.accessAllowed ? 'block' : 'none';\n",
              "\n",
              "        async function convertToInteractive(key) {\n",
              "          const element = document.querySelector('#df-a44266e8-269b-409c-b5bb-233ddea3a3dd');\n",
              "          const dataTable =\n",
              "            await google.colab.kernel.invokeFunction('convertToInteractive',\n",
              "                                                     [key], {});\n",
              "          if (!dataTable) return;\n",
              "\n",
              "          const docLinkHtml = 'Like what you see? Visit the ' +\n",
              "            '<a target=\"_blank\" href=https://colab.research.google.com/notebooks/data_table.ipynb>data table notebook</a>'\n",
              "            + ' to learn more about interactive tables.';\n",
              "          element.innerHTML = '';\n",
              "          dataTable['output_type'] = 'display_data';\n",
              "          await google.colab.output.renderOutput(dataTable, element);\n",
              "          const docLink = document.createElement('div');\n",
              "          docLink.innerHTML = docLinkHtml;\n",
              "          element.appendChild(docLink);\n",
              "        }\n",
              "      </script>\n",
              "    </div>\n",
              "  </div>\n",
              "  "
            ]
          },
          "metadata": {},
          "execution_count": 102
        }
      ]
    },
    {
      "cell_type": "markdown",
      "source": [
        "In validation:"
      ],
      "metadata": {
        "id": "qn2FJ9UX7FKN"
      }
    },
    {
      "cell_type": "code",
      "source": [
        "X_validation[(X_validation['pred'] < 0.56) & (X_validation['pred'] > 0.5) & (X_validation['Hall_of_Fame'] == 1)].sort_values(by='pred', ascending=True)"
      ],
      "metadata": {
        "colab": {
          "base_uri": "https://localhost:8080/",
          "height": 113
        },
        "id": "1x993Md0dilX",
        "outputId": "3ef33d4a-ef18-4338-cb07-db62ce298064"
      },
      "execution_count": 103,
      "outputs": [
        {
          "output_type": "execute_result",
          "data": {
            "text/plain": [
              "Empty DataFrame\n",
              "Columns: [Player, Eligible, Hall_of_Fame, MVP, All_Star, FG%_totals, TRB_totals, BLK_totals, pts_per_g_seasonal, ws_seasonal, PER_advanced, OWS_advanced, DWS_advanced, pred]\n",
              "Index: []"
            ],
            "text/html": [
              "\n",
              "  <div id=\"df-4d105cdf-2a32-4490-a33b-493fd09b6765\">\n",
              "    <div class=\"colab-df-container\">\n",
              "      <div>\n",
              "<style scoped>\n",
              "    .dataframe tbody tr th:only-of-type {\n",
              "        vertical-align: middle;\n",
              "    }\n",
              "\n",
              "    .dataframe tbody tr th {\n",
              "        vertical-align: top;\n",
              "    }\n",
              "\n",
              "    .dataframe thead th {\n",
              "        text-align: right;\n",
              "    }\n",
              "</style>\n",
              "<table border=\"1\" class=\"dataframe\">\n",
              "  <thead>\n",
              "    <tr style=\"text-align: right;\">\n",
              "      <th></th>\n",
              "      <th>Player</th>\n",
              "      <th>Eligible</th>\n",
              "      <th>Hall_of_Fame</th>\n",
              "      <th>MVP</th>\n",
              "      <th>All_Star</th>\n",
              "      <th>FG%_totals</th>\n",
              "      <th>TRB_totals</th>\n",
              "      <th>BLK_totals</th>\n",
              "      <th>pts_per_g_seasonal</th>\n",
              "      <th>ws_seasonal</th>\n",
              "      <th>PER_advanced</th>\n",
              "      <th>OWS_advanced</th>\n",
              "      <th>DWS_advanced</th>\n",
              "      <th>pred</th>\n",
              "    </tr>\n",
              "  </thead>\n",
              "  <tbody>\n",
              "  </tbody>\n",
              "</table>\n",
              "</div>\n",
              "      <button class=\"colab-df-convert\" onclick=\"convertToInteractive('df-4d105cdf-2a32-4490-a33b-493fd09b6765')\"\n",
              "              title=\"Convert this dataframe to an interactive table.\"\n",
              "              style=\"display:none;\">\n",
              "        \n",
              "  <svg xmlns=\"http://www.w3.org/2000/svg\" height=\"24px\"viewBox=\"0 0 24 24\"\n",
              "       width=\"24px\">\n",
              "    <path d=\"M0 0h24v24H0V0z\" fill=\"none\"/>\n",
              "    <path d=\"M18.56 5.44l.94 2.06.94-2.06 2.06-.94-2.06-.94-.94-2.06-.94 2.06-2.06.94zm-11 1L8.5 8.5l.94-2.06 2.06-.94-2.06-.94L8.5 2.5l-.94 2.06-2.06.94zm10 10l.94 2.06.94-2.06 2.06-.94-2.06-.94-.94-2.06-.94 2.06-2.06.94z\"/><path d=\"M17.41 7.96l-1.37-1.37c-.4-.4-.92-.59-1.43-.59-.52 0-1.04.2-1.43.59L10.3 9.45l-7.72 7.72c-.78.78-.78 2.05 0 2.83L4 21.41c.39.39.9.59 1.41.59.51 0 1.02-.2 1.41-.59l7.78-7.78 2.81-2.81c.8-.78.8-2.07 0-2.86zM5.41 20L4 18.59l7.72-7.72 1.47 1.35L5.41 20z\"/>\n",
              "  </svg>\n",
              "      </button>\n",
              "      \n",
              "  <style>\n",
              "    .colab-df-container {\n",
              "      display:flex;\n",
              "      flex-wrap:wrap;\n",
              "      gap: 12px;\n",
              "    }\n",
              "\n",
              "    .colab-df-convert {\n",
              "      background-color: #E8F0FE;\n",
              "      border: none;\n",
              "      border-radius: 50%;\n",
              "      cursor: pointer;\n",
              "      display: none;\n",
              "      fill: #1967D2;\n",
              "      height: 32px;\n",
              "      padding: 0 0 0 0;\n",
              "      width: 32px;\n",
              "    }\n",
              "\n",
              "    .colab-df-convert:hover {\n",
              "      background-color: #E2EBFA;\n",
              "      box-shadow: 0px 1px 2px rgba(60, 64, 67, 0.3), 0px 1px 3px 1px rgba(60, 64, 67, 0.15);\n",
              "      fill: #174EA6;\n",
              "    }\n",
              "\n",
              "    [theme=dark] .colab-df-convert {\n",
              "      background-color: #3B4455;\n",
              "      fill: #D2E3FC;\n",
              "    }\n",
              "\n",
              "    [theme=dark] .colab-df-convert:hover {\n",
              "      background-color: #434B5C;\n",
              "      box-shadow: 0px 1px 3px 1px rgba(0, 0, 0, 0.15);\n",
              "      filter: drop-shadow(0px 1px 2px rgba(0, 0, 0, 0.3));\n",
              "      fill: #FFFFFF;\n",
              "    }\n",
              "  </style>\n",
              "\n",
              "      <script>\n",
              "        const buttonEl =\n",
              "          document.querySelector('#df-4d105cdf-2a32-4490-a33b-493fd09b6765 button.colab-df-convert');\n",
              "        buttonEl.style.display =\n",
              "          google.colab.kernel.accessAllowed ? 'block' : 'none';\n",
              "\n",
              "        async function convertToInteractive(key) {\n",
              "          const element = document.querySelector('#df-4d105cdf-2a32-4490-a33b-493fd09b6765');\n",
              "          const dataTable =\n",
              "            await google.colab.kernel.invokeFunction('convertToInteractive',\n",
              "                                                     [key], {});\n",
              "          if (!dataTable) return;\n",
              "\n",
              "          const docLinkHtml = 'Like what you see? Visit the ' +\n",
              "            '<a target=\"_blank\" href=https://colab.research.google.com/notebooks/data_table.ipynb>data table notebook</a>'\n",
              "            + ' to learn more about interactive tables.';\n",
              "          element.innerHTML = '';\n",
              "          dataTable['output_type'] = 'display_data';\n",
              "          await google.colab.output.renderOutput(dataTable, element);\n",
              "          const docLink = document.createElement('div');\n",
              "          docLink.innerHTML = docLinkHtml;\n",
              "          element.appendChild(docLink);\n",
              "        }\n",
              "      </script>\n",
              "    </div>\n",
              "  </div>\n",
              "  "
            ]
          },
          "metadata": {},
          "execution_count": 103
        }
      ]
    },
    {
      "cell_type": "markdown",
      "source": [
        "#### Under Predictions"
      ],
      "metadata": {
        "id": "uWqmm-1wszZS"
      }
    },
    {
      "cell_type": "code",
      "source": [
        "X_training[(X_training['pred'] < 0.5) & (X_training['Hall_of_Fame'] == 1)].sort_values(by='pred', ascending=False)"
      ],
      "metadata": {
        "id": "bF3wFf1kpS4O",
        "outputId": "e8bd0dc1-fbbb-4379-b00f-e668bb23cd0a",
        "colab": {
          "base_uri": "https://localhost:8080/",
          "height": 405
        }
      },
      "execution_count": 106,
      "outputs": [
        {
          "output_type": "execute_result",
          "data": {
            "text/plain": [
              "               Player  Eligible  Hall_of_Fame  MVP  All_Star  FG%_totals  \\\n",
              "3064  Sidney Moncrief         1             1    0         5       0.502   \n",
              "4698    Paul Westphal         1             1    0         5       0.504   \n",
              "3790      Guy Rodgers         1             1    0         4       0.378   \n",
              "1561    Manu Ginóbili         1             1    0         2       0.447   \n",
              "3791    Dennis Rodman         1             1    0         2       0.521   \n",
              "4754    Jamaal Wilkes         1             1    0         3       0.499   \n",
              "\n",
              "      TRB_totals  BLK_totals  pts_per_g_seasonal  ws_seasonal  PER_advanced  \\\n",
              "3064      3575.0  228.000000                   0           38          18.7   \n",
              "4698      1580.0  262.000000                   9            6          19.4   \n",
              "3790      3791.0  127.815696                   0            0          13.6   \n",
              "1561      3697.0  319.000000                   0            0          20.2   \n",
              "3791     11954.0  531.000000                   0            2          14.6   \n",
              "4754      5117.0  262.000000                   0            0          16.5   \n",
              "\n",
              "      OWS_advanced  DWS_advanced      pred  \n",
              "3064          61.4          28.9  0.434493  \n",
              "4698          44.6          23.0  0.411052  \n",
              "3790          -5.3          38.6  0.371083  \n",
              "1561          59.0          47.4  0.308348  \n",
              "3791          35.4          54.5  0.101436  \n",
              "4754          43.5          27.8  0.026416  "
            ],
            "text/html": [
              "\n",
              "  <div id=\"df-c5538b00-e513-46c7-838d-039e5e45b0a5\">\n",
              "    <div class=\"colab-df-container\">\n",
              "      <div>\n",
              "<style scoped>\n",
              "    .dataframe tbody tr th:only-of-type {\n",
              "        vertical-align: middle;\n",
              "    }\n",
              "\n",
              "    .dataframe tbody tr th {\n",
              "        vertical-align: top;\n",
              "    }\n",
              "\n",
              "    .dataframe thead th {\n",
              "        text-align: right;\n",
              "    }\n",
              "</style>\n",
              "<table border=\"1\" class=\"dataframe\">\n",
              "  <thead>\n",
              "    <tr style=\"text-align: right;\">\n",
              "      <th></th>\n",
              "      <th>Player</th>\n",
              "      <th>Eligible</th>\n",
              "      <th>Hall_of_Fame</th>\n",
              "      <th>MVP</th>\n",
              "      <th>All_Star</th>\n",
              "      <th>FG%_totals</th>\n",
              "      <th>TRB_totals</th>\n",
              "      <th>BLK_totals</th>\n",
              "      <th>pts_per_g_seasonal</th>\n",
              "      <th>ws_seasonal</th>\n",
              "      <th>PER_advanced</th>\n",
              "      <th>OWS_advanced</th>\n",
              "      <th>DWS_advanced</th>\n",
              "      <th>pred</th>\n",
              "    </tr>\n",
              "  </thead>\n",
              "  <tbody>\n",
              "    <tr>\n",
              "      <th>3064</th>\n",
              "      <td>Sidney Moncrief</td>\n",
              "      <td>1</td>\n",
              "      <td>1</td>\n",
              "      <td>0</td>\n",
              "      <td>5</td>\n",
              "      <td>0.502</td>\n",
              "      <td>3575.0</td>\n",
              "      <td>228.000000</td>\n",
              "      <td>0</td>\n",
              "      <td>38</td>\n",
              "      <td>18.7</td>\n",
              "      <td>61.4</td>\n",
              "      <td>28.9</td>\n",
              "      <td>0.434493</td>\n",
              "    </tr>\n",
              "    <tr>\n",
              "      <th>4698</th>\n",
              "      <td>Paul Westphal</td>\n",
              "      <td>1</td>\n",
              "      <td>1</td>\n",
              "      <td>0</td>\n",
              "      <td>5</td>\n",
              "      <td>0.504</td>\n",
              "      <td>1580.0</td>\n",
              "      <td>262.000000</td>\n",
              "      <td>9</td>\n",
              "      <td>6</td>\n",
              "      <td>19.4</td>\n",
              "      <td>44.6</td>\n",
              "      <td>23.0</td>\n",
              "      <td>0.411052</td>\n",
              "    </tr>\n",
              "    <tr>\n",
              "      <th>3790</th>\n",
              "      <td>Guy Rodgers</td>\n",
              "      <td>1</td>\n",
              "      <td>1</td>\n",
              "      <td>0</td>\n",
              "      <td>4</td>\n",
              "      <td>0.378</td>\n",
              "      <td>3791.0</td>\n",
              "      <td>127.815696</td>\n",
              "      <td>0</td>\n",
              "      <td>0</td>\n",
              "      <td>13.6</td>\n",
              "      <td>-5.3</td>\n",
              "      <td>38.6</td>\n",
              "      <td>0.371083</td>\n",
              "    </tr>\n",
              "    <tr>\n",
              "      <th>1561</th>\n",
              "      <td>Manu Ginóbili</td>\n",
              "      <td>1</td>\n",
              "      <td>1</td>\n",
              "      <td>0</td>\n",
              "      <td>2</td>\n",
              "      <td>0.447</td>\n",
              "      <td>3697.0</td>\n",
              "      <td>319.000000</td>\n",
              "      <td>0</td>\n",
              "      <td>0</td>\n",
              "      <td>20.2</td>\n",
              "      <td>59.0</td>\n",
              "      <td>47.4</td>\n",
              "      <td>0.308348</td>\n",
              "    </tr>\n",
              "    <tr>\n",
              "      <th>3791</th>\n",
              "      <td>Dennis Rodman</td>\n",
              "      <td>1</td>\n",
              "      <td>1</td>\n",
              "      <td>0</td>\n",
              "      <td>2</td>\n",
              "      <td>0.521</td>\n",
              "      <td>11954.0</td>\n",
              "      <td>531.000000</td>\n",
              "      <td>0</td>\n",
              "      <td>2</td>\n",
              "      <td>14.6</td>\n",
              "      <td>35.4</td>\n",
              "      <td>54.5</td>\n",
              "      <td>0.101436</td>\n",
              "    </tr>\n",
              "    <tr>\n",
              "      <th>4754</th>\n",
              "      <td>Jamaal Wilkes</td>\n",
              "      <td>1</td>\n",
              "      <td>1</td>\n",
              "      <td>0</td>\n",
              "      <td>3</td>\n",
              "      <td>0.499</td>\n",
              "      <td>5117.0</td>\n",
              "      <td>262.000000</td>\n",
              "      <td>0</td>\n",
              "      <td>0</td>\n",
              "      <td>16.5</td>\n",
              "      <td>43.5</td>\n",
              "      <td>27.8</td>\n",
              "      <td>0.026416</td>\n",
              "    </tr>\n",
              "  </tbody>\n",
              "</table>\n",
              "</div>\n",
              "      <button class=\"colab-df-convert\" onclick=\"convertToInteractive('df-c5538b00-e513-46c7-838d-039e5e45b0a5')\"\n",
              "              title=\"Convert this dataframe to an interactive table.\"\n",
              "              style=\"display:none;\">\n",
              "        \n",
              "  <svg xmlns=\"http://www.w3.org/2000/svg\" height=\"24px\"viewBox=\"0 0 24 24\"\n",
              "       width=\"24px\">\n",
              "    <path d=\"M0 0h24v24H0V0z\" fill=\"none\"/>\n",
              "    <path d=\"M18.56 5.44l.94 2.06.94-2.06 2.06-.94-2.06-.94-.94-2.06-.94 2.06-2.06.94zm-11 1L8.5 8.5l.94-2.06 2.06-.94-2.06-.94L8.5 2.5l-.94 2.06-2.06.94zm10 10l.94 2.06.94-2.06 2.06-.94-2.06-.94-.94-2.06-.94 2.06-2.06.94z\"/><path d=\"M17.41 7.96l-1.37-1.37c-.4-.4-.92-.59-1.43-.59-.52 0-1.04.2-1.43.59L10.3 9.45l-7.72 7.72c-.78.78-.78 2.05 0 2.83L4 21.41c.39.39.9.59 1.41.59.51 0 1.02-.2 1.41-.59l7.78-7.78 2.81-2.81c.8-.78.8-2.07 0-2.86zM5.41 20L4 18.59l7.72-7.72 1.47 1.35L5.41 20z\"/>\n",
              "  </svg>\n",
              "      </button>\n",
              "      \n",
              "  <style>\n",
              "    .colab-df-container {\n",
              "      display:flex;\n",
              "      flex-wrap:wrap;\n",
              "      gap: 12px;\n",
              "    }\n",
              "\n",
              "    .colab-df-convert {\n",
              "      background-color: #E8F0FE;\n",
              "      border: none;\n",
              "      border-radius: 50%;\n",
              "      cursor: pointer;\n",
              "      display: none;\n",
              "      fill: #1967D2;\n",
              "      height: 32px;\n",
              "      padding: 0 0 0 0;\n",
              "      width: 32px;\n",
              "    }\n",
              "\n",
              "    .colab-df-convert:hover {\n",
              "      background-color: #E2EBFA;\n",
              "      box-shadow: 0px 1px 2px rgba(60, 64, 67, 0.3), 0px 1px 3px 1px rgba(60, 64, 67, 0.15);\n",
              "      fill: #174EA6;\n",
              "    }\n",
              "\n",
              "    [theme=dark] .colab-df-convert {\n",
              "      background-color: #3B4455;\n",
              "      fill: #D2E3FC;\n",
              "    }\n",
              "\n",
              "    [theme=dark] .colab-df-convert:hover {\n",
              "      background-color: #434B5C;\n",
              "      box-shadow: 0px 1px 3px 1px rgba(0, 0, 0, 0.15);\n",
              "      filter: drop-shadow(0px 1px 2px rgba(0, 0, 0, 0.3));\n",
              "      fill: #FFFFFF;\n",
              "    }\n",
              "  </style>\n",
              "\n",
              "      <script>\n",
              "        const buttonEl =\n",
              "          document.querySelector('#df-c5538b00-e513-46c7-838d-039e5e45b0a5 button.colab-df-convert');\n",
              "        buttonEl.style.display =\n",
              "          google.colab.kernel.accessAllowed ? 'block' : 'none';\n",
              "\n",
              "        async function convertToInteractive(key) {\n",
              "          const element = document.querySelector('#df-c5538b00-e513-46c7-838d-039e5e45b0a5');\n",
              "          const dataTable =\n",
              "            await google.colab.kernel.invokeFunction('convertToInteractive',\n",
              "                                                     [key], {});\n",
              "          if (!dataTable) return;\n",
              "\n",
              "          const docLinkHtml = 'Like what you see? Visit the ' +\n",
              "            '<a target=\"_blank\" href=https://colab.research.google.com/notebooks/data_table.ipynb>data table notebook</a>'\n",
              "            + ' to learn more about interactive tables.';\n",
              "          element.innerHTML = '';\n",
              "          dataTable['output_type'] = 'display_data';\n",
              "          await google.colab.output.renderOutput(dataTable, element);\n",
              "          const docLink = document.createElement('div');\n",
              "          docLink.innerHTML = docLinkHtml;\n",
              "          element.appendChild(docLink);\n",
              "        }\n",
              "      </script>\n",
              "    </div>\n",
              "  </div>\n",
              "  "
            ]
          },
          "metadata": {},
          "execution_count": 106
        }
      ]
    },
    {
      "cell_type": "markdown",
      "source": [
        "**Analysis of incorrect predictions in train:**\n",
        "\n",
        "\n",
        "\n",
        "*   Sydney Moncrief (46% bball ref) - 2x DPOY, 5x All-NBA in shorter career\n",
        "*   Paul Westphal (41% bball ref) -  5x All-Star and 4x All-NBA\n",
        "*   Guy Rodgers (9% bball ref) - Long NBA career, 4x All-Star, 2x AST champ\n",
        "*   Manu Ginobili (20% bball ref) - Had short Italy career. Long career in NBA with solid stats, many championships. Top 75 in win shares\n",
        "*   Rodman (75% bball ref) - Insane defensive player, hurt because our model doesn't include many defensive statistics and his other stats (points, All-Star selections, etc. are weak)\n",
        "*   Jamaal Wilkes (18% bball ref) - 3x All-Star, 4 championships\n",
        "\n"
      ],
      "metadata": {
        "id": "ipiveBP1455C"
      }
    },
    {
      "cell_type": "code",
      "source": [
        "X_validation[(X_validation['pred'] < 0.5) & (X_validation['Hall_of_Fame'] == 1)].sort_values(by='pred', ascending=False)"
      ],
      "metadata": {
        "colab": {
          "base_uri": "https://localhost:8080/",
          "height": 583
        },
        "id": "wf7SftkDdpI1",
        "outputId": "878ac9b3-6cac-413d-db5f-26f83003657c"
      },
      "execution_count": 107,
      "outputs": [
        {
          "output_type": "execute_result",
          "data": {
            "text/plain": [
              "             Player  Eligible  Hall_of_Fame  MVP  All_Star  FG%_totals  \\\n",
              "4606   Bobby Wanzer         1             1    0         5       0.393   \n",
              "3530    Jim Pollard         1             1    0         4       0.360   \n",
              "3730    Arnie Risen         1             1    0         4       0.381   \n",
              "989      Bob Davies         1             1    0         4       0.378   \n",
              "967   Bob Dandridge         1             1    0         4       0.484   \n",
              "1576       Tom Gola         1             1    0         5       0.431   \n",
              "2211    Gus Johnson         1             1    0         5       0.440   \n",
              "2284     K.C. Jones         1             1    0         0       0.387   \n",
              "3878  Ralph Sampson         1             1    0         4       0.486   \n",
              "3627   Frank Ramsey         1             1    0         0       0.399   \n",
              "\n",
              "      TRB_totals  BLK_totals  pts_per_g_seasonal  ws_seasonal  PER_advanced  \\\n",
              "4606      1979.0   81.389367                   5           14          17.3   \n",
              "3530      2487.0  149.233876                   4            1          15.6   \n",
              "3730      5011.0  426.752639                  11           12          16.7   \n",
              "989        980.0   66.200506                  12            5          18.1   \n",
              "967       5715.0  303.000000                   2            0          16.7   \n",
              "1576      5617.0  100.017215                   0            5          14.2   \n",
              "2211      7624.0  214.992182                   1            0          16.7   \n",
              "2284      2399.0   96.864810                   0            0          10.4   \n",
              "3878      4011.0  752.000000                   0            0          16.0   \n",
              "3627      3410.0   89.270380                   0            2          15.6   \n",
              "\n",
              "      OWS_advanced  DWS_advanced      pred  \n",
              "4606          47.3          16.6  0.282144  \n",
              "3530           6.8          28.0  0.241147  \n",
              "3730          32.4          23.6  0.218137  \n",
              "989           35.4          14.3  0.192407  \n",
              "967           47.3          33.0  0.191383  \n",
              "1576          29.1          24.1  0.155799  \n",
              "2211          11.6          25.2  0.098976  \n",
              "2284           0.7          37.9  0.009215  \n",
              "3878           0.4          19.7  0.006547  \n",
              "3627          23.7          25.4  0.001688  "
            ],
            "text/html": [
              "\n",
              "  <div id=\"df-80bedea4-18e5-4025-998d-56c013a54261\">\n",
              "    <div class=\"colab-df-container\">\n",
              "      <div>\n",
              "<style scoped>\n",
              "    .dataframe tbody tr th:only-of-type {\n",
              "        vertical-align: middle;\n",
              "    }\n",
              "\n",
              "    .dataframe tbody tr th {\n",
              "        vertical-align: top;\n",
              "    }\n",
              "\n",
              "    .dataframe thead th {\n",
              "        text-align: right;\n",
              "    }\n",
              "</style>\n",
              "<table border=\"1\" class=\"dataframe\">\n",
              "  <thead>\n",
              "    <tr style=\"text-align: right;\">\n",
              "      <th></th>\n",
              "      <th>Player</th>\n",
              "      <th>Eligible</th>\n",
              "      <th>Hall_of_Fame</th>\n",
              "      <th>MVP</th>\n",
              "      <th>All_Star</th>\n",
              "      <th>FG%_totals</th>\n",
              "      <th>TRB_totals</th>\n",
              "      <th>BLK_totals</th>\n",
              "      <th>pts_per_g_seasonal</th>\n",
              "      <th>ws_seasonal</th>\n",
              "      <th>PER_advanced</th>\n",
              "      <th>OWS_advanced</th>\n",
              "      <th>DWS_advanced</th>\n",
              "      <th>pred</th>\n",
              "    </tr>\n",
              "  </thead>\n",
              "  <tbody>\n",
              "    <tr>\n",
              "      <th>4606</th>\n",
              "      <td>Bobby Wanzer</td>\n",
              "      <td>1</td>\n",
              "      <td>1</td>\n",
              "      <td>0</td>\n",
              "      <td>5</td>\n",
              "      <td>0.393</td>\n",
              "      <td>1979.0</td>\n",
              "      <td>81.389367</td>\n",
              "      <td>5</td>\n",
              "      <td>14</td>\n",
              "      <td>17.3</td>\n",
              "      <td>47.3</td>\n",
              "      <td>16.6</td>\n",
              "      <td>0.282144</td>\n",
              "    </tr>\n",
              "    <tr>\n",
              "      <th>3530</th>\n",
              "      <td>Jim Pollard</td>\n",
              "      <td>1</td>\n",
              "      <td>1</td>\n",
              "      <td>0</td>\n",
              "      <td>4</td>\n",
              "      <td>0.360</td>\n",
              "      <td>2487.0</td>\n",
              "      <td>149.233876</td>\n",
              "      <td>4</td>\n",
              "      <td>1</td>\n",
              "      <td>15.6</td>\n",
              "      <td>6.8</td>\n",
              "      <td>28.0</td>\n",
              "      <td>0.241147</td>\n",
              "    </tr>\n",
              "    <tr>\n",
              "      <th>3730</th>\n",
              "      <td>Arnie Risen</td>\n",
              "      <td>1</td>\n",
              "      <td>1</td>\n",
              "      <td>0</td>\n",
              "      <td>4</td>\n",
              "      <td>0.381</td>\n",
              "      <td>5011.0</td>\n",
              "      <td>426.752639</td>\n",
              "      <td>11</td>\n",
              "      <td>12</td>\n",
              "      <td>16.7</td>\n",
              "      <td>32.4</td>\n",
              "      <td>23.6</td>\n",
              "      <td>0.218137</td>\n",
              "    </tr>\n",
              "    <tr>\n",
              "      <th>989</th>\n",
              "      <td>Bob Davies</td>\n",
              "      <td>1</td>\n",
              "      <td>1</td>\n",
              "      <td>0</td>\n",
              "      <td>4</td>\n",
              "      <td>0.378</td>\n",
              "      <td>980.0</td>\n",
              "      <td>66.200506</td>\n",
              "      <td>12</td>\n",
              "      <td>5</td>\n",
              "      <td>18.1</td>\n",
              "      <td>35.4</td>\n",
              "      <td>14.3</td>\n",
              "      <td>0.192407</td>\n",
              "    </tr>\n",
              "    <tr>\n",
              "      <th>967</th>\n",
              "      <td>Bob Dandridge</td>\n",
              "      <td>1</td>\n",
              "      <td>1</td>\n",
              "      <td>0</td>\n",
              "      <td>4</td>\n",
              "      <td>0.484</td>\n",
              "      <td>5715.0</td>\n",
              "      <td>303.000000</td>\n",
              "      <td>2</td>\n",
              "      <td>0</td>\n",
              "      <td>16.7</td>\n",
              "      <td>47.3</td>\n",
              "      <td>33.0</td>\n",
              "      <td>0.191383</td>\n",
              "    </tr>\n",
              "    <tr>\n",
              "      <th>1576</th>\n",
              "      <td>Tom Gola</td>\n",
              "      <td>1</td>\n",
              "      <td>1</td>\n",
              "      <td>0</td>\n",
              "      <td>5</td>\n",
              "      <td>0.431</td>\n",
              "      <td>5617.0</td>\n",
              "      <td>100.017215</td>\n",
              "      <td>0</td>\n",
              "      <td>5</td>\n",
              "      <td>14.2</td>\n",
              "      <td>29.1</td>\n",
              "      <td>24.1</td>\n",
              "      <td>0.155799</td>\n",
              "    </tr>\n",
              "    <tr>\n",
              "      <th>2211</th>\n",
              "      <td>Gus Johnson</td>\n",
              "      <td>1</td>\n",
              "      <td>1</td>\n",
              "      <td>0</td>\n",
              "      <td>5</td>\n",
              "      <td>0.440</td>\n",
              "      <td>7624.0</td>\n",
              "      <td>214.992182</td>\n",
              "      <td>1</td>\n",
              "      <td>0</td>\n",
              "      <td>16.7</td>\n",
              "      <td>11.6</td>\n",
              "      <td>25.2</td>\n",
              "      <td>0.098976</td>\n",
              "    </tr>\n",
              "    <tr>\n",
              "      <th>2284</th>\n",
              "      <td>K.C. Jones</td>\n",
              "      <td>1</td>\n",
              "      <td>1</td>\n",
              "      <td>0</td>\n",
              "      <td>0</td>\n",
              "      <td>0.387</td>\n",
              "      <td>2399.0</td>\n",
              "      <td>96.864810</td>\n",
              "      <td>0</td>\n",
              "      <td>0</td>\n",
              "      <td>10.4</td>\n",
              "      <td>0.7</td>\n",
              "      <td>37.9</td>\n",
              "      <td>0.009215</td>\n",
              "    </tr>\n",
              "    <tr>\n",
              "      <th>3878</th>\n",
              "      <td>Ralph Sampson</td>\n",
              "      <td>1</td>\n",
              "      <td>1</td>\n",
              "      <td>0</td>\n",
              "      <td>4</td>\n",
              "      <td>0.486</td>\n",
              "      <td>4011.0</td>\n",
              "      <td>752.000000</td>\n",
              "      <td>0</td>\n",
              "      <td>0</td>\n",
              "      <td>16.0</td>\n",
              "      <td>0.4</td>\n",
              "      <td>19.7</td>\n",
              "      <td>0.006547</td>\n",
              "    </tr>\n",
              "    <tr>\n",
              "      <th>3627</th>\n",
              "      <td>Frank Ramsey</td>\n",
              "      <td>1</td>\n",
              "      <td>1</td>\n",
              "      <td>0</td>\n",
              "      <td>0</td>\n",
              "      <td>0.399</td>\n",
              "      <td>3410.0</td>\n",
              "      <td>89.270380</td>\n",
              "      <td>0</td>\n",
              "      <td>2</td>\n",
              "      <td>15.6</td>\n",
              "      <td>23.7</td>\n",
              "      <td>25.4</td>\n",
              "      <td>0.001688</td>\n",
              "    </tr>\n",
              "  </tbody>\n",
              "</table>\n",
              "</div>\n",
              "      <button class=\"colab-df-convert\" onclick=\"convertToInteractive('df-80bedea4-18e5-4025-998d-56c013a54261')\"\n",
              "              title=\"Convert this dataframe to an interactive table.\"\n",
              "              style=\"display:none;\">\n",
              "        \n",
              "  <svg xmlns=\"http://www.w3.org/2000/svg\" height=\"24px\"viewBox=\"0 0 24 24\"\n",
              "       width=\"24px\">\n",
              "    <path d=\"M0 0h24v24H0V0z\" fill=\"none\"/>\n",
              "    <path d=\"M18.56 5.44l.94 2.06.94-2.06 2.06-.94-2.06-.94-.94-2.06-.94 2.06-2.06.94zm-11 1L8.5 8.5l.94-2.06 2.06-.94-2.06-.94L8.5 2.5l-.94 2.06-2.06.94zm10 10l.94 2.06.94-2.06 2.06-.94-2.06-.94-.94-2.06-.94 2.06-2.06.94z\"/><path d=\"M17.41 7.96l-1.37-1.37c-.4-.4-.92-.59-1.43-.59-.52 0-1.04.2-1.43.59L10.3 9.45l-7.72 7.72c-.78.78-.78 2.05 0 2.83L4 21.41c.39.39.9.59 1.41.59.51 0 1.02-.2 1.41-.59l7.78-7.78 2.81-2.81c.8-.78.8-2.07 0-2.86zM5.41 20L4 18.59l7.72-7.72 1.47 1.35L5.41 20z\"/>\n",
              "  </svg>\n",
              "      </button>\n",
              "      \n",
              "  <style>\n",
              "    .colab-df-container {\n",
              "      display:flex;\n",
              "      flex-wrap:wrap;\n",
              "      gap: 12px;\n",
              "    }\n",
              "\n",
              "    .colab-df-convert {\n",
              "      background-color: #E8F0FE;\n",
              "      border: none;\n",
              "      border-radius: 50%;\n",
              "      cursor: pointer;\n",
              "      display: none;\n",
              "      fill: #1967D2;\n",
              "      height: 32px;\n",
              "      padding: 0 0 0 0;\n",
              "      width: 32px;\n",
              "    }\n",
              "\n",
              "    .colab-df-convert:hover {\n",
              "      background-color: #E2EBFA;\n",
              "      box-shadow: 0px 1px 2px rgba(60, 64, 67, 0.3), 0px 1px 3px 1px rgba(60, 64, 67, 0.15);\n",
              "      fill: #174EA6;\n",
              "    }\n",
              "\n",
              "    [theme=dark] .colab-df-convert {\n",
              "      background-color: #3B4455;\n",
              "      fill: #D2E3FC;\n",
              "    }\n",
              "\n",
              "    [theme=dark] .colab-df-convert:hover {\n",
              "      background-color: #434B5C;\n",
              "      box-shadow: 0px 1px 3px 1px rgba(0, 0, 0, 0.15);\n",
              "      filter: drop-shadow(0px 1px 2px rgba(0, 0, 0, 0.3));\n",
              "      fill: #FFFFFF;\n",
              "    }\n",
              "  </style>\n",
              "\n",
              "      <script>\n",
              "        const buttonEl =\n",
              "          document.querySelector('#df-80bedea4-18e5-4025-998d-56c013a54261 button.colab-df-convert');\n",
              "        buttonEl.style.display =\n",
              "          google.colab.kernel.accessAllowed ? 'block' : 'none';\n",
              "\n",
              "        async function convertToInteractive(key) {\n",
              "          const element = document.querySelector('#df-80bedea4-18e5-4025-998d-56c013a54261');\n",
              "          const dataTable =\n",
              "            await google.colab.kernel.invokeFunction('convertToInteractive',\n",
              "                                                     [key], {});\n",
              "          if (!dataTable) return;\n",
              "\n",
              "          const docLinkHtml = 'Like what you see? Visit the ' +\n",
              "            '<a target=\"_blank\" href=https://colab.research.google.com/notebooks/data_table.ipynb>data table notebook</a>'\n",
              "            + ' to learn more about interactive tables.';\n",
              "          element.innerHTML = '';\n",
              "          dataTable['output_type'] = 'display_data';\n",
              "          await google.colab.output.renderOutput(dataTable, element);\n",
              "          const docLink = document.createElement('div');\n",
              "          docLink.innerHTML = docLinkHtml;\n",
              "          element.appendChild(docLink);\n",
              "        }\n",
              "      </script>\n",
              "    </div>\n",
              "  </div>\n",
              "  "
            ]
          },
          "metadata": {},
          "execution_count": 107
        }
      ]
    },
    {
      "cell_type": "markdown",
      "source": [
        "**Analysis of incorrect predictions in validation:**\n",
        "\n",
        "(Incomeplete)\n",
        "\n",
        "Nate Thurmond (67% bball ref)- 7x all star, 5x all defense, 12th all time in rebounds, top 10 in rebounds many times\n",
        "\n",
        "Bob Dandridge (16% bball ref)- 2x champ, all defensive once, solid rebounder and scorer. Helpful in championship run- all star, all nba, all defensive. Took many years to be selected\n",
        "\n",
        "Gail Goodrich (74% bball ref)- 5x all star, champ, many win shares in 72 season (8th). Several seasons in top 10 in scoring, top 20 in assists\n",
        "\n",
        "Tom Gola (29% bball ref)- 50s and early 60s. Good rebounder and low scorer with 5x all star and a championship. Somewhat borderline\n",
        "\n",
        "Arnie Risen (25% bball ref)- 50s, low scorer, high rebounder, short career, 2x champ, many win shares as rookie\n",
        "\n",
        "Frank Ramsey (26% bball ref)- No other accolades but 7x champ and solid contributor over short career. \n",
        "\n",
        "Ralph Sampson - 6 solid years in NBA (of his 9), 4x all star, legend in college\n",
        "\n",
        "KC Jones (29% bball ref)- No other accolades but 8x champ. Lesser contributor than Frank- never eclipsed 10ppg. Not sure why he is in HOF\n"
      ],
      "metadata": {
        "id": "1Cx7g9W66uNC"
      }
    },
    {
      "cell_type": "markdown",
      "source": [
        "#### Over predictions"
      ],
      "metadata": {
        "id": "7psSO5wrs4FO"
      }
    },
    {
      "cell_type": "code",
      "source": [
        "X_training[(X_training['pred'] > 0.5) & (X_training['Hall_of_Fame'] == 0)].sort_values(by='pred', ascending=False)"
      ],
      "metadata": {
        "id": "9CnDmIFep40P",
        "outputId": "6b8d672a-9208-42ab-c335-5afd3e0813ac",
        "colab": {
          "base_uri": "https://localhost:8080/",
          "height": 300
        }
      },
      "execution_count": null,
      "outputs": [
        {
          "output_type": "execute_result",
          "data": {
            "text/plain": [
              "                 Player  Eligible  Hall_of_Fame  Def_POY  All_Star  AST_Champ  \\\n",
              "4240  Amar'e Stoudemire         1             0        0         6          0   \n",
              "1440     Donnie Freeman         1             0        0         5          0   \n",
              "2363         Shawn Kemp         1             0        0         6          0   \n",
              "3298    Jermaine O'Neal         1             0        0         6          0   \n",
              "351    Chauncey Billups         1             0        0         5          0   \n",
              "670         Mack Calvin         1             0        0         5          0   \n",
              "2281        Jimmy Jones         1             0        0         6          0   \n",
              "2228    Marques Johnson         1             0        0         5          0   \n",
              "\n",
              "      TRB_totals  PTS_totals  PER_advanced  All_League  Champ PTS_per_game  \\\n",
              "4240      6632.0       15994          21.8           5                 0.0   \n",
              "1440      2292.0       12233          18.2           4                18.9   \n",
              "2363      8834.0       15347          19.1           3                 0.0   \n",
              "3298      7261.0       13309          17.9           3                 0.0   \n",
              "351       2992.0       15802          18.8           3                15.2   \n",
              "670       1923.0       12172          17.4           4                 0.0   \n",
              "2281      2930.0       11366          17.1           3                 0.0   \n",
              "2228      4817.0       13892          20.1           3                 0.0   \n",
              "\n",
              "          pred  \n",
              "4240  0.728463  \n",
              "1440  0.650592  \n",
              "2363  0.604509  \n",
              "3298  0.588332  \n",
              "351   0.572868  \n",
              "670   0.554818  \n",
              "2281  0.552543  \n",
              "2228  0.503293  "
            ],
            "text/html": [
              "\n",
              "  <div id=\"df-ef48f90b-9f05-448a-8e6f-f7100667866d\">\n",
              "    <div class=\"colab-df-container\">\n",
              "      <div>\n",
              "<style scoped>\n",
              "    .dataframe tbody tr th:only-of-type {\n",
              "        vertical-align: middle;\n",
              "    }\n",
              "\n",
              "    .dataframe tbody tr th {\n",
              "        vertical-align: top;\n",
              "    }\n",
              "\n",
              "    .dataframe thead th {\n",
              "        text-align: right;\n",
              "    }\n",
              "</style>\n",
              "<table border=\"1\" class=\"dataframe\">\n",
              "  <thead>\n",
              "    <tr style=\"text-align: right;\">\n",
              "      <th></th>\n",
              "      <th>Player</th>\n",
              "      <th>Eligible</th>\n",
              "      <th>Hall_of_Fame</th>\n",
              "      <th>Def_POY</th>\n",
              "      <th>All_Star</th>\n",
              "      <th>AST_Champ</th>\n",
              "      <th>TRB_totals</th>\n",
              "      <th>PTS_totals</th>\n",
              "      <th>PER_advanced</th>\n",
              "      <th>All_League</th>\n",
              "      <th>Champ PTS_per_game</th>\n",
              "      <th>pred</th>\n",
              "    </tr>\n",
              "  </thead>\n",
              "  <tbody>\n",
              "    <tr>\n",
              "      <th>4240</th>\n",
              "      <td>Amar'e Stoudemire</td>\n",
              "      <td>1</td>\n",
              "      <td>0</td>\n",
              "      <td>0</td>\n",
              "      <td>6</td>\n",
              "      <td>0</td>\n",
              "      <td>6632.0</td>\n",
              "      <td>15994</td>\n",
              "      <td>21.8</td>\n",
              "      <td>5</td>\n",
              "      <td>0.0</td>\n",
              "      <td>0.728463</td>\n",
              "    </tr>\n",
              "    <tr>\n",
              "      <th>1440</th>\n",
              "      <td>Donnie Freeman</td>\n",
              "      <td>1</td>\n",
              "      <td>0</td>\n",
              "      <td>0</td>\n",
              "      <td>5</td>\n",
              "      <td>0</td>\n",
              "      <td>2292.0</td>\n",
              "      <td>12233</td>\n",
              "      <td>18.2</td>\n",
              "      <td>4</td>\n",
              "      <td>18.9</td>\n",
              "      <td>0.650592</td>\n",
              "    </tr>\n",
              "    <tr>\n",
              "      <th>2363</th>\n",
              "      <td>Shawn Kemp</td>\n",
              "      <td>1</td>\n",
              "      <td>0</td>\n",
              "      <td>0</td>\n",
              "      <td>6</td>\n",
              "      <td>0</td>\n",
              "      <td>8834.0</td>\n",
              "      <td>15347</td>\n",
              "      <td>19.1</td>\n",
              "      <td>3</td>\n",
              "      <td>0.0</td>\n",
              "      <td>0.604509</td>\n",
              "    </tr>\n",
              "    <tr>\n",
              "      <th>3298</th>\n",
              "      <td>Jermaine O'Neal</td>\n",
              "      <td>1</td>\n",
              "      <td>0</td>\n",
              "      <td>0</td>\n",
              "      <td>6</td>\n",
              "      <td>0</td>\n",
              "      <td>7261.0</td>\n",
              "      <td>13309</td>\n",
              "      <td>17.9</td>\n",
              "      <td>3</td>\n",
              "      <td>0.0</td>\n",
              "      <td>0.588332</td>\n",
              "    </tr>\n",
              "    <tr>\n",
              "      <th>351</th>\n",
              "      <td>Chauncey Billups</td>\n",
              "      <td>1</td>\n",
              "      <td>0</td>\n",
              "      <td>0</td>\n",
              "      <td>5</td>\n",
              "      <td>0</td>\n",
              "      <td>2992.0</td>\n",
              "      <td>15802</td>\n",
              "      <td>18.8</td>\n",
              "      <td>3</td>\n",
              "      <td>15.2</td>\n",
              "      <td>0.572868</td>\n",
              "    </tr>\n",
              "    <tr>\n",
              "      <th>670</th>\n",
              "      <td>Mack Calvin</td>\n",
              "      <td>1</td>\n",
              "      <td>0</td>\n",
              "      <td>0</td>\n",
              "      <td>5</td>\n",
              "      <td>0</td>\n",
              "      <td>1923.0</td>\n",
              "      <td>12172</td>\n",
              "      <td>17.4</td>\n",
              "      <td>4</td>\n",
              "      <td>0.0</td>\n",
              "      <td>0.554818</td>\n",
              "    </tr>\n",
              "    <tr>\n",
              "      <th>2281</th>\n",
              "      <td>Jimmy Jones</td>\n",
              "      <td>1</td>\n",
              "      <td>0</td>\n",
              "      <td>0</td>\n",
              "      <td>6</td>\n",
              "      <td>0</td>\n",
              "      <td>2930.0</td>\n",
              "      <td>11366</td>\n",
              "      <td>17.1</td>\n",
              "      <td>3</td>\n",
              "      <td>0.0</td>\n",
              "      <td>0.552543</td>\n",
              "    </tr>\n",
              "    <tr>\n",
              "      <th>2228</th>\n",
              "      <td>Marques Johnson</td>\n",
              "      <td>1</td>\n",
              "      <td>0</td>\n",
              "      <td>0</td>\n",
              "      <td>5</td>\n",
              "      <td>0</td>\n",
              "      <td>4817.0</td>\n",
              "      <td>13892</td>\n",
              "      <td>20.1</td>\n",
              "      <td>3</td>\n",
              "      <td>0.0</td>\n",
              "      <td>0.503293</td>\n",
              "    </tr>\n",
              "  </tbody>\n",
              "</table>\n",
              "</div>\n",
              "      <button class=\"colab-df-convert\" onclick=\"convertToInteractive('df-ef48f90b-9f05-448a-8e6f-f7100667866d')\"\n",
              "              title=\"Convert this dataframe to an interactive table.\"\n",
              "              style=\"display:none;\">\n",
              "        \n",
              "  <svg xmlns=\"http://www.w3.org/2000/svg\" height=\"24px\"viewBox=\"0 0 24 24\"\n",
              "       width=\"24px\">\n",
              "    <path d=\"M0 0h24v24H0V0z\" fill=\"none\"/>\n",
              "    <path d=\"M18.56 5.44l.94 2.06.94-2.06 2.06-.94-2.06-.94-.94-2.06-.94 2.06-2.06.94zm-11 1L8.5 8.5l.94-2.06 2.06-.94-2.06-.94L8.5 2.5l-.94 2.06-2.06.94zm10 10l.94 2.06.94-2.06 2.06-.94-2.06-.94-.94-2.06-.94 2.06-2.06.94z\"/><path d=\"M17.41 7.96l-1.37-1.37c-.4-.4-.92-.59-1.43-.59-.52 0-1.04.2-1.43.59L10.3 9.45l-7.72 7.72c-.78.78-.78 2.05 0 2.83L4 21.41c.39.39.9.59 1.41.59.51 0 1.02-.2 1.41-.59l7.78-7.78 2.81-2.81c.8-.78.8-2.07 0-2.86zM5.41 20L4 18.59l7.72-7.72 1.47 1.35L5.41 20z\"/>\n",
              "  </svg>\n",
              "      </button>\n",
              "      \n",
              "  <style>\n",
              "    .colab-df-container {\n",
              "      display:flex;\n",
              "      flex-wrap:wrap;\n",
              "      gap: 12px;\n",
              "    }\n",
              "\n",
              "    .colab-df-convert {\n",
              "      background-color: #E8F0FE;\n",
              "      border: none;\n",
              "      border-radius: 50%;\n",
              "      cursor: pointer;\n",
              "      display: none;\n",
              "      fill: #1967D2;\n",
              "      height: 32px;\n",
              "      padding: 0 0 0 0;\n",
              "      width: 32px;\n",
              "    }\n",
              "\n",
              "    .colab-df-convert:hover {\n",
              "      background-color: #E2EBFA;\n",
              "      box-shadow: 0px 1px 2px rgba(60, 64, 67, 0.3), 0px 1px 3px 1px rgba(60, 64, 67, 0.15);\n",
              "      fill: #174EA6;\n",
              "    }\n",
              "\n",
              "    [theme=dark] .colab-df-convert {\n",
              "      background-color: #3B4455;\n",
              "      fill: #D2E3FC;\n",
              "    }\n",
              "\n",
              "    [theme=dark] .colab-df-convert:hover {\n",
              "      background-color: #434B5C;\n",
              "      box-shadow: 0px 1px 3px 1px rgba(0, 0, 0, 0.15);\n",
              "      filter: drop-shadow(0px 1px 2px rgba(0, 0, 0, 0.3));\n",
              "      fill: #FFFFFF;\n",
              "    }\n",
              "  </style>\n",
              "\n",
              "      <script>\n",
              "        const buttonEl =\n",
              "          document.querySelector('#df-ef48f90b-9f05-448a-8e6f-f7100667866d button.colab-df-convert');\n",
              "        buttonEl.style.display =\n",
              "          google.colab.kernel.accessAllowed ? 'block' : 'none';\n",
              "\n",
              "        async function convertToInteractive(key) {\n",
              "          const element = document.querySelector('#df-ef48f90b-9f05-448a-8e6f-f7100667866d');\n",
              "          const dataTable =\n",
              "            await google.colab.kernel.invokeFunction('convertToInteractive',\n",
              "                                                     [key], {});\n",
              "          if (!dataTable) return;\n",
              "\n",
              "          const docLinkHtml = 'Like what you see? Visit the ' +\n",
              "            '<a target=\"_blank\" href=https://colab.research.google.com/notebooks/data_table.ipynb>data table notebook</a>'\n",
              "            + ' to learn more about interactive tables.';\n",
              "          element.innerHTML = '';\n",
              "          dataTable['output_type'] = 'display_data';\n",
              "          await google.colab.output.renderOutput(dataTable, element);\n",
              "          const docLink = document.createElement('div');\n",
              "          docLink.innerHTML = docLinkHtml;\n",
              "          element.appendChild(docLink);\n",
              "        }\n",
              "      </script>\n",
              "    </div>\n",
              "  </div>\n",
              "  "
            ]
          },
          "metadata": {},
          "execution_count": 57
        }
      ]
    },
    {
      "cell_type": "markdown",
      "source": [
        "(Incomplete)\n",
        "\n",
        "Larry Foust deserves to be in HOF. Also has 94% rating on Bball ref\n",
        "\n",
        "Amare Stoudemire (72% bball ref), Chauncey (84% on bball ref), Shawn Marion (76% on bball ref) are newer to ballot\n",
        "\n",
        "Larry Costello is in HOF as Contributor- this led to confusion as one of his key contributions was his play. 71% on bball ref\n",
        "\n",
        "Tom Sanders in HOF as contributor but 15% rating on bball ref\n",
        "\n",
        "Max Zaslofsky\t"
      ],
      "metadata": {
        "id": "wKqacYOuRUbP"
      }
    },
    {
      "cell_type": "code",
      "source": [
        "X_validation[(X_validation['pred'] > 0.5) & (X_validation['Hall_of_Fame'] == 0)].sort_values(by='pred', ascending=False)"
      ],
      "metadata": {
        "colab": {
          "base_uri": "https://localhost:8080/",
          "height": 81
        },
        "id": "i1CPXsYsduFO",
        "outputId": "0a5d00d6-28ee-4c10-9403-11738e6d85db"
      },
      "execution_count": null,
      "outputs": [
        {
          "output_type": "execute_result",
          "data": {
            "text/plain": [
              "           Player  Eligible  Hall_of_Fame  Def_POY  All_Star  AST_Champ  \\\n",
              "1412  Larry Foust         1             0        0         8          0   \n",
              "\n",
              "      TRB_totals  PTS_totals  PER_advanced  All_League  Champ PTS_per_game  \\\n",
              "1412      8041.0       11198          19.8           2                 0.0   \n",
              "\n",
              "          pred  \n",
              "1412  0.647423  "
            ],
            "text/html": [
              "\n",
              "  <div id=\"df-435461e1-5a08-4e0b-924c-ca3415f59380\">\n",
              "    <div class=\"colab-df-container\">\n",
              "      <div>\n",
              "<style scoped>\n",
              "    .dataframe tbody tr th:only-of-type {\n",
              "        vertical-align: middle;\n",
              "    }\n",
              "\n",
              "    .dataframe tbody tr th {\n",
              "        vertical-align: top;\n",
              "    }\n",
              "\n",
              "    .dataframe thead th {\n",
              "        text-align: right;\n",
              "    }\n",
              "</style>\n",
              "<table border=\"1\" class=\"dataframe\">\n",
              "  <thead>\n",
              "    <tr style=\"text-align: right;\">\n",
              "      <th></th>\n",
              "      <th>Player</th>\n",
              "      <th>Eligible</th>\n",
              "      <th>Hall_of_Fame</th>\n",
              "      <th>Def_POY</th>\n",
              "      <th>All_Star</th>\n",
              "      <th>AST_Champ</th>\n",
              "      <th>TRB_totals</th>\n",
              "      <th>PTS_totals</th>\n",
              "      <th>PER_advanced</th>\n",
              "      <th>All_League</th>\n",
              "      <th>Champ PTS_per_game</th>\n",
              "      <th>pred</th>\n",
              "    </tr>\n",
              "  </thead>\n",
              "  <tbody>\n",
              "    <tr>\n",
              "      <th>1412</th>\n",
              "      <td>Larry Foust</td>\n",
              "      <td>1</td>\n",
              "      <td>0</td>\n",
              "      <td>0</td>\n",
              "      <td>8</td>\n",
              "      <td>0</td>\n",
              "      <td>8041.0</td>\n",
              "      <td>11198</td>\n",
              "      <td>19.8</td>\n",
              "      <td>2</td>\n",
              "      <td>0.0</td>\n",
              "      <td>0.647423</td>\n",
              "    </tr>\n",
              "  </tbody>\n",
              "</table>\n",
              "</div>\n",
              "      <button class=\"colab-df-convert\" onclick=\"convertToInteractive('df-435461e1-5a08-4e0b-924c-ca3415f59380')\"\n",
              "              title=\"Convert this dataframe to an interactive table.\"\n",
              "              style=\"display:none;\">\n",
              "        \n",
              "  <svg xmlns=\"http://www.w3.org/2000/svg\" height=\"24px\"viewBox=\"0 0 24 24\"\n",
              "       width=\"24px\">\n",
              "    <path d=\"M0 0h24v24H0V0z\" fill=\"none\"/>\n",
              "    <path d=\"M18.56 5.44l.94 2.06.94-2.06 2.06-.94-2.06-.94-.94-2.06-.94 2.06-2.06.94zm-11 1L8.5 8.5l.94-2.06 2.06-.94-2.06-.94L8.5 2.5l-.94 2.06-2.06.94zm10 10l.94 2.06.94-2.06 2.06-.94-2.06-.94-.94-2.06-.94 2.06-2.06.94z\"/><path d=\"M17.41 7.96l-1.37-1.37c-.4-.4-.92-.59-1.43-.59-.52 0-1.04.2-1.43.59L10.3 9.45l-7.72 7.72c-.78.78-.78 2.05 0 2.83L4 21.41c.39.39.9.59 1.41.59.51 0 1.02-.2 1.41-.59l7.78-7.78 2.81-2.81c.8-.78.8-2.07 0-2.86zM5.41 20L4 18.59l7.72-7.72 1.47 1.35L5.41 20z\"/>\n",
              "  </svg>\n",
              "      </button>\n",
              "      \n",
              "  <style>\n",
              "    .colab-df-container {\n",
              "      display:flex;\n",
              "      flex-wrap:wrap;\n",
              "      gap: 12px;\n",
              "    }\n",
              "\n",
              "    .colab-df-convert {\n",
              "      background-color: #E8F0FE;\n",
              "      border: none;\n",
              "      border-radius: 50%;\n",
              "      cursor: pointer;\n",
              "      display: none;\n",
              "      fill: #1967D2;\n",
              "      height: 32px;\n",
              "      padding: 0 0 0 0;\n",
              "      width: 32px;\n",
              "    }\n",
              "\n",
              "    .colab-df-convert:hover {\n",
              "      background-color: #E2EBFA;\n",
              "      box-shadow: 0px 1px 2px rgba(60, 64, 67, 0.3), 0px 1px 3px 1px rgba(60, 64, 67, 0.15);\n",
              "      fill: #174EA6;\n",
              "    }\n",
              "\n",
              "    [theme=dark] .colab-df-convert {\n",
              "      background-color: #3B4455;\n",
              "      fill: #D2E3FC;\n",
              "    }\n",
              "\n",
              "    [theme=dark] .colab-df-convert:hover {\n",
              "      background-color: #434B5C;\n",
              "      box-shadow: 0px 1px 3px 1px rgba(0, 0, 0, 0.15);\n",
              "      filter: drop-shadow(0px 1px 2px rgba(0, 0, 0, 0.3));\n",
              "      fill: #FFFFFF;\n",
              "    }\n",
              "  </style>\n",
              "\n",
              "      <script>\n",
              "        const buttonEl =\n",
              "          document.querySelector('#df-435461e1-5a08-4e0b-924c-ca3415f59380 button.colab-df-convert');\n",
              "        buttonEl.style.display =\n",
              "          google.colab.kernel.accessAllowed ? 'block' : 'none';\n",
              "\n",
              "        async function convertToInteractive(key) {\n",
              "          const element = document.querySelector('#df-435461e1-5a08-4e0b-924c-ca3415f59380');\n",
              "          const dataTable =\n",
              "            await google.colab.kernel.invokeFunction('convertToInteractive',\n",
              "                                                     [key], {});\n",
              "          if (!dataTable) return;\n",
              "\n",
              "          const docLinkHtml = 'Like what you see? Visit the ' +\n",
              "            '<a target=\"_blank\" href=https://colab.research.google.com/notebooks/data_table.ipynb>data table notebook</a>'\n",
              "            + ' to learn more about interactive tables.';\n",
              "          element.innerHTML = '';\n",
              "          dataTable['output_type'] = 'display_data';\n",
              "          await google.colab.output.renderOutput(dataTable, element);\n",
              "          const docLink = document.createElement('div');\n",
              "          docLink.innerHTML = docLinkHtml;\n",
              "          element.appendChild(docLink);\n",
              "        }\n",
              "      </script>\n",
              "    </div>\n",
              "  </div>\n",
              "  "
            ]
          },
          "metadata": {},
          "execution_count": 58
        }
      ]
    },
    {
      "cell_type": "markdown",
      "source": [
        "(Incomplete)\n",
        "\n",
        "Jimmy Jones- ABA Legend, very efficient. Think ABA was less respected when he was in it than Erving. Shorter career\n",
        "\n",
        "Mack Calvin- Early ABA\n",
        "\n",
        "Shawn Kemp (39% bball ref)- Lower longevity\n",
        "\n",
        "Donnie Freeman- ABA Star i late 60s early 70s\n",
        "\n",
        "Walter Davis (31% bball ref)\n",
        "\n",
        "Jermaine O'Neal (32% bball ref)"
      ],
      "metadata": {
        "id": "iqFBaY9iRVjy"
      }
    },
    {
      "cell_type": "markdown",
      "source": [
        "### Model Coefficients"
      ],
      "metadata": {
        "id": "cyZmLEa9s6NJ"
      }
    },
    {
      "cell_type": "code",
      "source": [
        "for col, coef in zip(model_cols[3:], classifier.coef_[0]):\n",
        "  print(f\"{col}: {exp(coef)}\")"
      ],
      "metadata": {
        "id": "5TDWToq6r3xi",
        "outputId": "c2350f36-ed0d-4465-b6f9-3aafb77dbb93",
        "colab": {
          "base_uri": "https://localhost:8080/"
        }
      },
      "execution_count": 108,
      "outputs": [
        {
          "output_type": "stream",
          "name": "stdout",
          "text": [
            "All_Star: 5.698217057462586\n",
            "OWS_advanced: 5.809347528055987\n",
            "BLK_totals: 0.5123077085570641\n",
            "FG%_totals: 0.7201185039817565\n",
            "PER_advanced: 0.6481736138486839\n",
            "MVP: 2.486868812499623\n",
            "ws_seasonal: 1.0853228641711872\n",
            "pts_per_g_seasonal: 1.1273634817650766\n",
            "DWS_advanced: 1.3133713270658485\n",
            "TRB_totals: 6.2584244212912274\n"
          ]
        }
      ]
    },
    {
      "cell_type": "markdown",
      "source": [
        "### Confusion Matrix"
      ],
      "metadata": {
        "id": "poAvUe3Js-Pd"
      }
    },
    {
      "cell_type": "code",
      "source": [
        "# Output confuson matrix for the training set\n",
        "cm = confusion_matrix(y_train, y_train_pred)\n",
        "#[00 01]\n",
        "#[10 11]\n",
        "print(cm)"
      ],
      "metadata": {
        "id": "cDv6tp8bmffM",
        "outputId": "93c8a091-2b7e-4400-f1d2-4f9ae22eed86",
        "colab": {
          "base_uri": "https://localhost:8080/"
        }
      },
      "execution_count": 110,
      "outputs": [
        {
          "output_type": "stream",
          "name": "stdout",
          "text": [
            "[[2957    7]\n",
            " [   6   90]]\n"
          ]
        }
      ]
    },
    {
      "cell_type": "code",
      "source": [
        "print(f\"Accuracy: {get_scorer('accuracy')._score_func(y_train, y_train_pred)}\")\n",
        "print(f\"F1 score: {get_scorer('f1')._score_func(y_train, y_train_pred)}\")\n",
        "print(f\"Precision score: {get_scorer('precision')._score_func(y_train, y_train_pred)}\")\n",
        "print(f\"Recall score: {get_scorer('recall')._score_func(y_train, y_train_pred)}\")"
      ],
      "metadata": {
        "colab": {
          "base_uri": "https://localhost:8080/"
        },
        "id": "1ys7L7KawVG9",
        "outputId": "9ce85e75-7492-4433-e941-89e53aacbd37"
      },
      "execution_count": 111,
      "outputs": [
        {
          "output_type": "stream",
          "name": "stdout",
          "text": [
            "Accuracy: 0.9957516339869281\n",
            "F1 score: 0.9326424870466321\n",
            "Precision score: 0.9278350515463918\n",
            "Recall score: 0.9375\n"
          ]
        }
      ]
    },
    {
      "cell_type": "code",
      "source": [
        "# Output confusion matrix for the validation set\n",
        "cm = confusion_matrix(y_val, y_val_pred)\n",
        "#[00 01]\n",
        "#[10 11]\n",
        "print(cm)\n",
        "accuracy_score(y_val, y_val_pred)"
      ],
      "metadata": {
        "colab": {
          "base_uri": "https://localhost:8080/"
        },
        "id": "mx0h7qdtd8cL",
        "outputId": "57609750-70ff-4407-cdb6-eec3aa2ae35e"
      },
      "execution_count": 114,
      "outputs": [
        {
          "output_type": "stream",
          "name": "stdout",
          "text": [
            "[[986   3]\n",
            " [ 10  21]]\n"
          ]
        },
        {
          "output_type": "execute_result",
          "data": {
            "text/plain": [
              "0.9872549019607844"
            ]
          },
          "metadata": {},
          "execution_count": 114
        }
      ]
    },
    {
      "cell_type": "code",
      "source": [
        "print(f\"Accuracy: {get_scorer('accuracy')._score_func(y_val, y_val_pred)}\")\n",
        "print(f\"F1 score: {get_scorer('f1')._score_func(y_val, y_val_pred)}\")\n",
        "print(f\"Precision score: {get_scorer('precision')._score_func(y_val, y_val_pred)}\")\n",
        "print(f\"Recall score: {get_scorer('recall')._score_func(y_val, y_val_pred)}\")"
      ],
      "metadata": {
        "colab": {
          "base_uri": "https://localhost:8080/"
        },
        "id": "i9dgKpoowVrN",
        "outputId": "8f51cbf1-7dfa-40b9-b3d7-b7d0b730faf5"
      },
      "execution_count": 115,
      "outputs": [
        {
          "output_type": "stream",
          "name": "stdout",
          "text": [
            "Accuracy: 0.9872549019607844\n",
            "F1 score: 0.7636363636363636\n",
            "Precision score: 0.875\n",
            "Recall score: 0.6774193548387096\n"
          ]
        }
      ]
    },
    {
      "cell_type": "markdown",
      "source": [
        "### Other Metrics"
      ],
      "metadata": {
        "id": "YHdUVVn5_n5i"
      }
    },
    {
      "cell_type": "code",
      "source": [
        "print(classification_report(y_train, y_train_pred))"
      ],
      "metadata": {
        "id": "gi1QoKZDq2Jh",
        "colab": {
          "base_uri": "https://localhost:8080/"
        },
        "outputId": "39cdd6f1-8fa0-465e-bf6f-7c86d529c7f4"
      },
      "execution_count": 116,
      "outputs": [
        {
          "output_type": "stream",
          "name": "stdout",
          "text": [
            "              precision    recall  f1-score   support\n",
            "\n",
            "           0       1.00      1.00      1.00      2964\n",
            "           1       0.93      0.94      0.93        96\n",
            "\n",
            "    accuracy                           1.00      3060\n",
            "   macro avg       0.96      0.97      0.97      3060\n",
            "weighted avg       1.00      1.00      1.00      3060\n",
            "\n"
          ]
        }
      ]
    },
    {
      "cell_type": "code",
      "source": [
        "print(classification_report(y_val, y_val_pred))"
      ],
      "metadata": {
        "colab": {
          "base_uri": "https://localhost:8080/"
        },
        "id": "2Bri4fJyAODS",
        "outputId": "5fca01ad-768f-4d90-a0e5-bc9c81b02f53"
      },
      "execution_count": 117,
      "outputs": [
        {
          "output_type": "stream",
          "name": "stdout",
          "text": [
            "              precision    recall  f1-score   support\n",
            "\n",
            "           0       0.99      1.00      0.99       989\n",
            "           1       0.88      0.68      0.76        31\n",
            "\n",
            "    accuracy                           0.99      1020\n",
            "   macro avg       0.93      0.84      0.88      1020\n",
            "weighted avg       0.99      0.99      0.99      1020\n",
            "\n"
          ]
        }
      ]
    }
  ]
}
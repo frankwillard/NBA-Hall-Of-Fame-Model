{
  "nbformat": 4,
  "nbformat_minor": 0,
  "metadata": {
    "colab": {
      "name": "Player Web Scraper",
      "provenance": [],
      "collapsed_sections": [],
      "authorship_tag": "ABX9TyOfBlxOjnX8YSz9Ir+HJAxH",
      "include_colab_link": true
    },
    "kernelspec": {
      "name": "python3",
      "display_name": "Python 3"
    },
    "language_info": {
      "name": "python"
    }
  },
  "cells": [
    {
      "cell_type": "markdown",
      "metadata": {
        "id": "view-in-github",
        "colab_type": "text"
      },
      "source": [
        "<a href=\"https://colab.research.google.com/github/frankwillard/NBA-Hall-Of-Fame-Model/blob/main/Player_Web_Scraper.ipynb\" target=\"_parent\"><img src=\"https://colab.research.google.com/assets/colab-badge.svg\" alt=\"Open In Colab\"/></a>"
      ]
    },
    {
      "cell_type": "code",
      "execution_count": 8,
      "metadata": {
        "id": "lu7RudCAwSBu"
      },
      "outputs": [],
      "source": [
        "import string\n",
        "from urllib.request import urlopen\n",
        "from bs4 import BeautifulSoup\n",
        "import pandas as pd\n",
        "import re\n",
        "import numpy as np"
      ]
    },
    {
      "cell_type": "code",
      "source": [
        "#Must decide variables\n",
        "\n",
        "#Accolades:\n",
        "#All_Star, MVP, All_NBA_1, All_NBA_2, All_NBA_3, DPOY, Champion\n",
        "#Finals_MVP, All_D_1, All_D_2\n",
        "#PTS_Champ, STL_Champ, REB_Champ, AST_Champ, BLK_Champ\n",
        "#ROTY\n",
        "\n",
        "#Average and Career Stats\n",
        "#Pts, Reb, Assists, Steals, Blocks, FG%, 3P%, 3PM\n",
        "\n",
        "#PER, VORP, BPM, WS, WS/48\n",
        "\n",
        "#VORP_1?, WS_1?, PER_1?"
      ],
      "metadata": {
        "id": "Coe3xZ3v6Krp"
      },
      "execution_count": 5,
      "outputs": []
    },
    {
      "cell_type": "code",
      "source": [
        "#Could always add MVP vote shares, rankings in stats within a season, playoff performance"
      ],
      "metadata": {
        "id": "UPFFJ0TT-UyI"
      },
      "execution_count": null,
      "outputs": []
    },
    {
      "cell_type": "code",
      "source": [
        "def scrape_player_data():\n",
        "\n",
        "  letters = list(string.ascii_lowercase)\n",
        "\n",
        "  for letter in letters:\n",
        "\n",
        "    letter_url = f\"https://www.basketball-reference.com/players/{letter}/\"\n",
        "\n",
        "    letter_html = urlopen(letter_url)\n",
        "\n",
        "    letter_soup = BeautifulSoup(letter_html, features=\"lxml\")\n",
        "\n",
        "    #Find all players at url\n",
        "\n",
        "    ths = letter_soup.findAll('tbody')[0].findAll('th')\n",
        "    player_dict = {th.getText():th.find('a')['href'] for th in ths}\n",
        "    #dict((th.getText(),th.find('a')['href'] ) for th in ths)\n",
        "    #href_list = [th.find('a')['href'] for th in ths]\n",
        "\n",
        "    for player in player_dict:\n",
        "\n",
        "      href = player_dict[player]\n",
        "\n",
        "      player_url = f\"https://www.basketball-reference.com/{href}\"\n",
        "\n",
        "      player_html = urlopen(player_url)\n",
        "\n",
        "      player_soup = BeautifulSoup(player_html, features=\"lxml\")\n",
        "\n",
        "      #Find all players at url\n",
        "\n",
        "\n",
        "      #Accolades\n",
        "      #May need something for if this is non-existent\n",
        "      #Will also have to base it off of what is there- things there will vary\n",
        "      #bling = soup.find(id='bling')\n",
        "\n",
        "\n",
        "      #Per Game\n",
        "      #per_game = soup.find(id='per_game')\n",
        "      #per_game_row = per_game.findAll('tfoot')[0].findAll('tr')[0]\n",
        "\n",
        "      #Totals\n",
        "      #totals = soup.find(id='totals')\n",
        "      #career_totals_row = totals.findAll('tfoot')[0].findAll('tr')[0]\n",
        "\n",
        "      #Advanced\n",
        "      #advanced = soup.find(id='advanced')\n",
        "      #advanced_row = advanced.findAll('tfoot')[0].findAll('tr')[0]\n",
        "\n",
        "      #Eligibility- If ended after 2018 then can join 2022\n",
        "      #Use last year to determine if \"active\" (ineligible recently retired will be active)\n",
        "      #Active will be train/val and test split\n",
        "\n"
      ],
      "metadata": {
        "id": "OF_zyU3H1ytX"
      },
      "execution_count": null,
      "outputs": []
    },
    {
      "cell_type": "code",
      "source": [
        "\"\"\"\n",
        "If something wrong with tfoot- manually finds row from bottom\n",
        "\n",
        "career_index = -1\n",
        "trs_reversed = per_game.findAll('tr')\n",
        "trs_reversed.reverse()\n",
        "\n",
        "for i, tr in enumerate(trs_reversed):\n",
        "  try:\n",
        "    th = tr.findAll('th')[0].getText()\n",
        "    if th == 'Career':\n",
        "        career_index = i\n",
        "        break\n",
        "  except:\n",
        "    print(\"No th found for column\")\n",
        "\n",
        "print(career_index)\n",
        "#.findAll('th')[0].getText()\n",
        "\n",
        "#Get Career\n",
        "\"\"\""
      ],
      "metadata": {
        "colab": {
          "base_uri": "https://localhost:8080/"
        },
        "id": "oIzVeoNdx5sQ",
        "outputId": "4ab01c69-90a8-429f-d64b-228c3356d9b3"
      },
      "execution_count": 44,
      "outputs": [
        {
          "output_type": "stream",
          "name": "stdout",
          "text": [
            "3\n"
          ]
        }
      ]
    },
    {
      "cell_type": "code",
      "source": [
        ""
      ],
      "metadata": {
        "id": "vhgEHfs4_Q-6"
      },
      "execution_count": null,
      "outputs": []
    }
  ]
}
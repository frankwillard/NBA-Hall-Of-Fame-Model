{
  "nbformat": 4,
  "nbformat_minor": 0,
  "metadata": {
    "colab": {
      "name": "Player Web Scraper",
      "provenance": [],
      "collapsed_sections": [],
      "authorship_tag": "ABX9TyPdo9s84jq5eqgfrKBCMowS",
      "include_colab_link": true
    },
    "kernelspec": {
      "name": "python3",
      "display_name": "Python 3"
    },
    "language_info": {
      "name": "python"
    }
  },
  "cells": [
    {
      "cell_type": "markdown",
      "metadata": {
        "id": "view-in-github",
        "colab_type": "text"
      },
      "source": [
        "<a href=\"https://colab.research.google.com/github/frankwillard/NBA-Hall-Of-Fame-Model/blob/main/Player_Web_Scraper.ipynb\" target=\"_parent\"><img src=\"https://colab.research.google.com/assets/colab-badge.svg\" alt=\"Open In Colab\"/></a>"
      ]
    },
    {
      "cell_type": "code",
      "execution_count": 202,
      "metadata": {
        "id": "lu7RudCAwSBu"
      },
      "outputs": [],
      "source": [
        "import string\n",
        "from urllib.request import urlopen\n",
        "from bs4 import BeautifulSoup\n",
        "import pandas as pd\n",
        "import re\n",
        "import numpy as np\n",
        "import bs4\n",
        "import re"
      ]
    },
    {
      "cell_type": "code",
      "source": [
        "#Must decide variables\n",
        "\n",
        "#Accolades:\n",
        "#All_Star, MVP, All_NBA_1, All_NBA_2, All_NBA_3, DPOY, Champion\n",
        "#Finals_MVP, All_D_1, All_D_2\n",
        "#PTS_Champ, STL_Champ, REB_Champ, AST_Champ, BLK_Champ\n",
        "#ROTY\n",
        "\n",
        "#Average and Career Stats\n",
        "#Pts, Reb, Assists, Steals, Blocks, FG%, 3P%, 3PM\n",
        "\n",
        "#PER, VORP, BPM, WS, WS/48\n",
        "\n",
        "#VORP_1?, WS_1?, PER_1?"
      ],
      "metadata": {
        "id": "Coe3xZ3v6Krp"
      },
      "execution_count": 203,
      "outputs": []
    },
    {
      "cell_type": "code",
      "source": [
        "#Could always add MVP vote shares, rankings in stats within a season, playoff performance"
      ],
      "metadata": {
        "id": "UPFFJ0TT-UyI"
      },
      "execution_count": 204,
      "outputs": []
    },
    {
      "cell_type": "code",
      "source": [
        "def getEligible(table):\n",
        "  years_in_html = table.findAll('a', string=re.compile(r'\\d{4}-\\d{2}'))\n",
        "  last_active_year = int(years_in_html[-1].getText()[:4])+1\n",
        "  if last_active_year > 2018:\n",
        "    return True\n",
        "  return False"
      ],
      "metadata": {
        "id": "N6DNKioB62dd"
      },
      "execution_count": 205,
      "outputs": []
    },
    {
      "cell_type": "code",
      "source": [
        "def get_table_dictionary(soup, table_id):\n",
        "\n",
        "  table = soup.find(id=table_id)\n",
        "  table_cols_uncleaned = table.findAll('thead')[0].findAll('tr')[0]\n",
        "  table_vals = table.findAll('tfoot')[0].findAll('tr')[0]\n",
        "  table_cols = [col.replace(' ', '_') for col in table_cols_uncleaned if type(col) != bs4.element.NavigableString]\n",
        "\n",
        "  table_dict = {f\"{col.getText()}_{table_id}\":val.getText() for col, val in zip(table_cols, table_vals)}\n",
        "\n",
        "  keys_to_remove = ['Age', 'Lg', 'Pos', 'Season', 'Tm', '\\xa0']\n",
        "\n",
        "  for key in keys_to_remove:\n",
        "    table_dict.pop(f'{key}_{table_id}', None)\n",
        "\n",
        "  return table_dict"
      ],
      "metadata": {
        "id": "QCOILmZk1Nwj"
      },
      "execution_count": 206,
      "outputs": []
    },
    {
      "cell_type": "code",
      "source": [
        "def get_accolade_dictionary(bling, hof_player):\n",
        "\n",
        "  replacer_dict = {\n",
        "    ' ' : '_',\n",
        "    '-' : '_',\n",
        "    '_*': '',\n",
        "    '.': ''\n",
        "  }\n",
        "\n",
        "  accolades_list = [li.getText() for li in bling.findAll('li')]\n",
        "  accolade_dict = {}\n",
        "  for i, accolade in enumerate(accolades_list):\n",
        "    \n",
        "    if accolade == 'NBA 75th Anniv. Team':\n",
        "      continue\n",
        "\n",
        "    if accolade == 'Hall of Fame' and not hof_player:\n",
        "      continue\n",
        "        \n",
        "    accolade = accolade.replace('Hall of Fame', '1x Hall of Fame')\n",
        "    \n",
        "    #For cases:\n",
        "    #1978-79 NBA Champ\n",
        "    #1978 Scoring Leader\n",
        "    accolade = re.sub(r'(\\d{4}-\\d{2})|(\\d{4})', '1x', accolade)\n",
        "    #accolade = re.sub(r'\\d{4}-\\d{2}', '1x', accolade)\n",
        "    \n",
        "    #preprocessed_accolade = accolade.replace()\n",
        "    parts = accolade.split('x ')\n",
        "\n",
        "    accolade_name = multiple_replace(replacer_dict, parts[1])\n",
        "\n",
        "    #if accolade_name not in all_accolades:\n",
        "    #  all_accolades.append(accolade_name)\n",
        "\n",
        "    accolade_dict[accolade_name] = parts[0]\n",
        "  return accolade_dict"
      ],
      "metadata": {
        "id": "wWXwSEaG93ff"
      },
      "execution_count": 207,
      "outputs": []
    },
    {
      "cell_type": "code",
      "source": [
        "def multiple_replace(dict, text):\n",
        "  # Create a regular expression  from the dictionary keys\n",
        "  regex = re.compile(\"(%s)\" % \"|\".join(map(re.escape, dict.keys())))\n",
        "\n",
        "  # For each match, look-up corresponding value in dictionary\n",
        "  return regex.sub(lambda mo: dict[mo.string[mo.start():mo.end()]], text) "
      ],
      "metadata": {
        "id": "YXUa6zTVslEI"
      },
      "execution_count": 208,
      "outputs": []
    },
    {
      "cell_type": "code",
      "source": [
        "#Year discontinuities in stats\n",
        "#Remove redundant columns\n",
        "#Create column order and add stats in dicts to DF in that order\n",
        "#Change dicts to defaultdict"
      ],
      "metadata": {
        "id": "pdCqQVWg-6vb"
      },
      "execution_count": 209,
      "outputs": []
    },
    {
      "cell_type": "code",
      "source": [
        "def scrape_player_data():\n",
        "\n",
        "  all_accolades = []\n",
        "\n",
        "  letters = list(string.ascii_lowercase)\n",
        "\n",
        "  #TODO: Determine columns of interest\n",
        "\n",
        "  accolade_cols = ['Hall_of_Fame', 'All_Star', 'Scoring_Champ', 'TRB_Champ', 'BLK_Champ', 'NBA_Champ', 'All_NBA', 'All_Defensive', 'All_Rookie', 'ROY', 'Finals_MVP', 'MVP', 'Most_Improved', 'Def._POY', 'AS_MVP', 'AST_Champ', 'ROY_*', 'Sixth_Man', 'ABA_Champ']\n",
        "\n",
        "  #Feature Selection\n",
        "\n",
        "  #Redundant variables:\n",
        "  #G and GS- use totals\n",
        "  #FG%, 3P%, 2P%, eFG%, FT%\n",
        "\n",
        "  #Unnecessary variables:\n",
        "  #Remove MP, PF, TOV\n",
        "\n",
        "  #Advanced remove: ['3PAr_advanced', 'FTr_advanced', 'ORB%_advanced', 'DRB%_advanced', 'TRB%_advanced', 'AST%_advanced', 'STL%_advanced', 'BLK%_advanced', 'TOV%_advanced', 'USG%_advanced']\n",
        "\n",
        "  per_game_cols = ['FG_per_game', 'FGA_per_game', '3P_per_game', '3PA_per_game', '2P_per_game', '2PA_per_game',  'FT_per_game', 'FTA_per_game',  'ORB_per_game', 'DRB_per_game', 'TRB_per_game', 'AST_per_game', 'STL_per_game', 'BLK_per_game',  'PTS_per_game']\n",
        "  totals_cols = ['G_totals', 'GS_totals', 'FG_totals', 'FGA_totals', 'FG%_totals', '3P_totals', '3PA_totals', '3P%_totals', '2P_totals', '2PA_totals', '2P%_totals', 'eFG%_totals', 'FT_totals', 'FTA_totals', 'FT%_totals', 'ORB_totals', 'DRB_totals', 'TRB_totals', 'AST_totals', 'STL_totals', 'BLK_totals', 'PTS_totals', 'Trp_Dbl_totals']\n",
        "  advanced_cols = ['PER_advanced', 'TS%_advanced', 'OWS_advanced', 'DWS_advanced', 'WS_advanced', 'WS/48_advanced', 'OBPM_advanced', 'DBPM_advanced', 'BPM_advanced', 'VORP_advanced']\n",
        "\n",
        "  #final_cols\n",
        "\n",
        "  for letter in letters:\n",
        "\n",
        "    letter_url = f\"https://www.basketball-reference.com/players/{letter}/\"\n",
        "\n",
        "    letter_html = urlopen(letter_url)\n",
        "\n",
        "    letter_soup = BeautifulSoup(letter_html, features=\"lxml\")\n",
        "\n",
        "    #Find all players at url\n",
        "\n",
        "    ths = letter_soup.findAll('tbody')[0].findAll('th')\n",
        "    player_dict = {th.getText().replace('*', ''):th.find('a')['href'] for th in ths}\n",
        "    \n",
        "    #Old code\n",
        "    #dict((th.getText(),th.find('a')['href'] ) for th in ths)\n",
        "    #href_list = [th.find('a')['href'] for th in ths]\n",
        "\n",
        "    for player in player_dict:\n",
        "\n",
        "      print(player)\n",
        "\n",
        "      href = player_dict[player]\n",
        "\n",
        "      player = \"LeBron James\"\n",
        "\n",
        "      player_url = f\"https://www.basketball-reference.com/players/j/jamesle01.html\"\n",
        "\n",
        "      player_html = urlopen(player_url)\n",
        "\n",
        "      player_soup = BeautifulSoup(player_html, features=\"lxml\")\n",
        "\n",
        "      #Find all players at url\n",
        "\n",
        "\n",
        "      #Accolades\n",
        "      #May need something for if this is non-existent\n",
        "      #Will also have to base it off of what is there- things there will vary\n",
        "      bling = player_soup.find(id='bling')\n",
        "      \n",
        "      if bling != None:\n",
        "        hof_player = 'Inducted as Player' in player_soup.get_text()\n",
        "        accolade_dict = get_accolade_dictionary(bling, hof_player)\n",
        "      else:\n",
        "        accolade_dict = {}\n",
        "\n",
        "\n",
        "      #Per Game\n",
        "      per_game_dict = get_table_dictionary(player_soup, 'per_game')\n",
        "\n",
        "      #Totals\n",
        "      totals_dict = get_table_dictionary(player_soup, 'totals')\n",
        "\n",
        "      #Advanced\n",
        "      advanced_dict = get_table_dictionary(player_soup, 'advanced')\n",
        "\n",
        "      #Eligibility- If ended after 2018 then can join 2022\n",
        "      #Active will be train/val and test split\n",
        "      per_game = player_soup.find(id='per_game')\n",
        "      eligible = getEligible(per_game)\n",
        "\n",
        "      print(list(per_game_dict.keys()))\n",
        "      print(list(totals_dict.keys()))\n",
        "      print(list(advanced_dict.keys()))\n",
        "      #print(accolade_dict)\n",
        "\n",
        "      break\n",
        "\n",
        "\n",
        "      #all_data\n",
        "    break\n",
        "\n",
        "  #print(all_accolades)\n",
        "    \n",
        "  #final_df = pd.DataFrame(data=all_data, columns = final_cols)\n",
        "  \n",
        "  #Sort if desired\n",
        "  #final_df = final_df.sort_values(by=[])\n",
        "\n",
        "  #final_df.to_csv('')"
      ],
      "metadata": {
        "id": "OF_zyU3H1ytX"
      },
      "execution_count": 214,
      "outputs": []
    },
    {
      "cell_type": "code",
      "source": [
        "scrape_player_data()"
      ],
      "metadata": {
        "id": "C9a6-fgLbFjz",
        "colab": {
          "base_uri": "https://localhost:8080/"
        },
        "outputId": "ac4ce339-7793-4af0-e5d8-03a19e6a578a"
      },
      "execution_count": 215,
      "outputs": [
        {
          "output_type": "stream",
          "name": "stdout",
          "text": [
            "Alaa Abdelnaby\n",
            "['G_per_game', 'GS_per_game', 'MP_per_game', 'FG_per_game', 'FGA_per_game', 'FG%_per_game', '3P_per_game', '3PA_per_game', '3P%_per_game', '2P_per_game', '2PA_per_game', '2P%_per_game', 'eFG%_per_game', 'FT_per_game', 'FTA_per_game', 'FT%_per_game', 'ORB_per_game', 'DRB_per_game', 'TRB_per_game', 'AST_per_game', 'STL_per_game', 'BLK_per_game', 'TOV_per_game', 'PF_per_game', 'PTS_per_game']\n",
            "['G_totals', 'GS_totals', 'MP_totals', 'FG_totals', 'FGA_totals', 'FG%_totals', '3P_totals', '3PA_totals', '3P%_totals', '2P_totals', '2PA_totals', '2P%_totals', 'eFG%_totals', 'FT_totals', 'FTA_totals', 'FT%_totals', 'ORB_totals', 'DRB_totals', 'TRB_totals', 'AST_totals', 'STL_totals', 'BLK_totals', 'TOV_totals', 'PF_totals', 'PTS_totals', 'Trp Dbl_totals']\n",
            "['G_advanced', 'MP_advanced', 'PER_advanced', 'TS%_advanced', '3PAr_advanced', 'FTr_advanced', 'ORB%_advanced', 'DRB%_advanced', 'TRB%_advanced', 'AST%_advanced', 'STL%_advanced', 'BLK%_advanced', 'TOV%_advanced', 'USG%_advanced', 'OWS_advanced', 'DWS_advanced', 'WS_advanced', 'WS/48_advanced', 'OBPM_advanced', 'DBPM_advanced', 'BPM_advanced', 'VORP_advanced']\n"
          ]
        }
      ]
    },
    {
      "cell_type": "code",
      "source": [
        ""
      ],
      "metadata": {
        "id": "9WVutu9IE05A"
      },
      "execution_count": null,
      "outputs": []
    }
  ]
}